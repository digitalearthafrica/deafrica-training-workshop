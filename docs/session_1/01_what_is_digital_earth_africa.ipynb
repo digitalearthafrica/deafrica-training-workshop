{
 "cells": [
  {
   "cell_type": "markdown",
   "metadata": {},
   "source": [
    "# What is Digital Earth Africa?"
   ]
  },
  {
   "cell_type": "raw",
   "metadata": {
    "raw_mimetype": "text/restructuredtext"
   },
   "source": [
    ".. only:: html\n",
    "\n",
    "   .. youtube:: 4SXSWM--w9o\n",
    "      :width: 100%\n"
   ]
  },
  {
   "cell_type": "markdown",
   "metadata": {},
   "source": [
    "## Introduction\n",
    "\n",
    "Africa is a continent with a rich and diverse environment that faces many challenges such as ready access to drinking water, rapid urban development, active deforestation and food insecurity. Our understanding of these challenges connects directly to how well we understand its natural resources, and the human and climate impact on them.\n",
    "\n",
    "The Digital Earth Africa (DE Africa) program aims to increase this understanding through three main tenets:\n",
    "\n",
    "* **Explore**: Allow access to satellite data in ways that address Africa's needs\n",
    "* **Learn**: Provide avenues for learning about the technology and its significance for policymaking and improving the lives of Africans\n",
    "* **Engage**: Stimulate participation and collaboration in events that will help implement, scale and sustain the program\n"
   ]
  },
  {
   "cell_type": "markdown",
   "metadata": {},
   "source": [
    "As such, Digital Earth Africa is a platform designed to:\n",
    "\n",
    "* Catalogue large amounts of Earth observation data\n",
    "* Allow scientists and other users the ability to easily perform exploratory data analysis\n",
    "* Allow scalable continent-wide processing of stored data\n",
    "* Monitor contained data for quality control and updates\n"
   ]
  },
  {
   "cell_type": "markdown",
   "metadata": {},
   "source": [
    "For more details on the Digital Earth Africa program, visit the [Digital Earth Africa homepage](https://www.digitalearthafrica.org/)."
   ]
  }
 ],
 "metadata": {
  "kernelspec": {
   "display_name": "Python 3",
   "language": "python",
   "name": "python3"
  },
  "language_info": {
   "codemirror_mode": {
    "name": "ipython",
    "version": 3
   },
   "file_extension": ".py",
   "mimetype": "text/x-python",
   "name": "python",
   "nbconvert_exporter": "python",
   "pygments_lexer": "ipython3",
   "version": "3.6.9"
  }
 },
 "nbformat": 4,
 "nbformat_minor": 4
}