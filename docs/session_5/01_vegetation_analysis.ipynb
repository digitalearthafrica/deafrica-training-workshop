{
 "cells": [
  {
   "cell_type": "markdown",
   "metadata": {},
   "source": [
    "# Building a case study: vegetation analysis"
   ]
  },
  {
   "cell_type": "markdown",
   "metadata": {},
   "source": [
    "<img align=\"middle\" src=\"../_static/session_5/01_vegetation_analysis_ch.PNG\" alt=\"Screenshot from the crop health notebook.\" width=\"600\">"
   ]
  },
  {
   "cell_type": "markdown",
   "metadata": {},
   "source": [
    "*The Crop Health notebook investigated in Session 1 is an example of a case study. We now have enough knowledge of the Sandbox to build a similar comprehensive vegetation analysis.*"
   ]
  },
  {
   "cell_type": "markdown",
   "metadata": {},
   "source": [
    "## Overview"
   ]
  },
  {
   "cell_type": "markdown",
   "metadata": {},
   "source": [
    "In the [last session](), we calculated the Normalised Difference Vegetation Index (NDVI) as a method of measuring green vegetation over an area of interest. \n",
    "\n",
    "The index made the Earth observation data easier to analyse, and allowed comparison across time periods. In our NDVI map of a cropping field, we could see there were seasonal variations over the quarterly geomedians. However, that information by itself provides little context for further use. Why are we looking at this field? Do the results fit what we were expecting to see? What can we use this information for?\n",
    "\n",
    "Fully utilising our data analysis methods is dependent on **what you want to do**. Knowing the strengths and limitations of vegetation indices, we can use them to form the basis of a complete case study that informs a user of data outcomes.\n",
    "\n",
    "This session will show you how to extend dataset calculations into a meaningful report. This section outlines some common goals of vegetation analysis, and provides references to examples of case study notebooks. The following sections will walk through a tutorial on how to construct a notebook on vegetation change detection."
   ]
  },
  {
   "cell_type": "markdown",
   "metadata": {},
   "source": [
    "## The significance of vegetation"
   ]
  },
  {
   "cell_type": "markdown",
   "metadata": {},
   "source": [
    "*A stock image of something related to vegetation*"
   ]
  },
  {
   "cell_type": "markdown",
   "metadata": {},
   "source": [
    "Growing things are a cornerstone of life on Earth. Monitoring vegetation can give us insight to:\n",
    "\n",
    "* **Agriculture:** including cropping, seasonal patterns and changes in land use\n",
    "\n",
    "* **Environment health and industry:** including forestry, logging and mining\n",
    "\n",
    "* **Climate:** including desertification and drought"
   ]
  },
  {
   "cell_type": "markdown",
   "metadata": {},
   "source": [
    "## Real world example notebooks"
   ]
  },
  {
   "cell_type": "markdown",
   "metadata": {},
   "source": [
    "As vegetation is a useful indicator of so many \n",
    "\n",
    "Several of these notebooks can be found in the folder called **Real_world_examples**."
   ]
  },
  {
   "cell_type": "markdown",
   "metadata": {},
   "source": [
    "* Crop health\n",
    "\n",
    "* Wetlands insight tool\n",
    "\n",
    "* Vegetation change detection"
   ]
  },
  {
   "cell_type": "raw",
   "metadata": {
    "raw_mimetype": "text/restructuredtext"
   },
   "source": [
    ".. note::\n",
    "    It is recommended you open these notebooks in the Sandbox, from the folder called **Real_world_examples**. This will allow you to run the pre-prepared code for yourself. However, they can also be viewed at the links provided above, which will display a read-only HTML version from GitHub."
   ]
  },
  {
   "cell_type": "markdown",
   "metadata": {},
   "source": [
    "If you've opened up some of these notebooks, you might notice they are more complicated than the exercises in this training course. However, they all have the same structure as the notebooks you have created to complete the exercises.\n",
    "\n",
    "Each notebook:\n",
    "\n",
    "1. Loads packages and functions\n",
    "2. Connects to the datacube\n",
    "3. Defines the area of interest using longitude and latitude\n",
    "4. Loads data from the datacube\n",
    "5. Performs analysis or calculation on the data \n",
    "6. Plots the results\n",
    "\n",
    "The **Real_world_examples** notebooks go a step further:\n",
    "\n",
    "7. Extend results analysis and discussion\n",
    "\n"
   ]
  },
  {
   "cell_type": "markdown",
   "metadata": {},
   "source": [
    "## Make your own vegetation change notebook"
   ]
  },
  {
   "cell_type": "markdown",
   "metadata": {},
   "source": [
    "This week's exercise is about "
   ]
  }
 ],
 "metadata": {
  "kernelspec": {
   "display_name": "Python 3",
   "language": "python",
   "name": "python3"
  },
  "language_info": {
   "codemirror_mode": {
    "name": "ipython",
    "version": 3
   },
   "file_extension": ".py",
   "mimetype": "text/x-python",
   "name": "python",
   "nbconvert_exporter": "python",
   "pygments_lexer": "ipython3",
   "version": "3.6.9"
  }
 },
 "nbformat": 4,
 "nbformat_minor": 4
}
