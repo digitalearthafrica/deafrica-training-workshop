{
 "cells": [
  {
   "cell_type": "markdown",
   "metadata": {},
   "source": [
    "# Exercise: Vegetation change detection"
   ]
  },
  {
   "cell_type": "markdown",
   "metadata": {},
   "source": [
    "## Overview"
   ]
  },
  {
   "cell_type": "markdown",
   "metadata": {},
   "source": [
    "In this exercise, we will detect vegetation change by loading Landsat 8 data, calculating a vegetation index for the loaded data, splitting the vegetation index data into an older half and a newer half, computing the average for the older and newer halves, and then comparing the older and newer averages to check for vegetation change."
   ]
  },
  {
   "cell_type": "markdown",
   "metadata": {},
   "source": [
    "## Set up notebook"
   ]
  },
  {
   "cell_type": "markdown",
   "metadata": {},
   "source": [
    "### Load packages and functions"
   ]
  },
  {
   "cell_type": "markdown",
   "metadata": {},
   "source": [
    "In the first cell, type the following code and then run the cell to import necessary Python dependencies."
   ]
  },
  {
   "cell_type": "markdown",
   "metadata": {},
   "source": [
    "    import matplotlib.pyplot as plt\n",
    "    %matplotlib inline\n",
    "\n",
    "    import sys\n",
    "    import datacube\n",
    "\n",
    "    sys.path.append('../../Scripts')\n",
    "    from deafrica_datahandling import load_ard\n",
    "    from deafrica_plotting import display_map\n",
    "    from deafrica_bandindices import calculate_indices"
   ]
  },
  {
   "cell_type": "markdown",
   "metadata": {},
   "source": [
    "### Connect to the datacube"
   ]
  },
  {
   "cell_type": "markdown",
   "metadata": {},
   "source": [
    "Enter the following code and run the cell to create our `dc` object, which provides access to the datacube."
   ]
  },
  {
   "cell_type": "markdown",
   "metadata": {},
   "source": [
    "    dc = datacube.Datacube(app=\"Vegetation_exercise\")"
   ]
  },
  {
   "cell_type": "markdown",
   "metadata": {},
   "source": [
    "### Select area of interest"
   ]
  },
  {
   "cell_type": "markdown",
   "metadata": {},
   "source": [
    "We need to select an area of interest. Some areas to check for vegetation changes include illegal mining sites (devegetation), and seasonal changes for crops (e.g. chlorophyll changes).\n",
    "\n",
    "We will be selecting an area around a center point. Enter the following code and run the cell to select an area and time range of interest. Note that `time_baseline` is the time to split the data at. Its value here, `'2015-12-31'`, is halfway between `'2013-01-01'` and `'2018-12-31'` - the time range in `time`. So our 2 time periods will be 2013 to 2015 and 2016 to 2018.\n",
    "\n",
    "In the next cell, enter the following code, and then run it to select an area."
   ]
  },
  {
   "cell_type": "markdown",
   "metadata": {},
   "source": [
    "    # Define the area of interest\n",
    "    latitude = 0.02\n",
    "    longitude = 35.425\n",
    "    buffer = 0.1\n",
    "\n",
    "    # Combine central lat,lon with buffer to get area of interest\n",
    "    lat_range = (latitude-buffer, latitude+buffer)\n",
    "    lon_range = (longitude-buffer, longitude+buffer)\n",
    "\n",
    "    # Set the range of dates for the complete sample\n",
    "    time = ('2013-01-01', '2018-12-01')\n",
    "\n",
    "    # Set the date to separate the data into two samples for comparison\n",
    "    time_baseline = '2015-12-31'"
   ]
  },
  {
   "cell_type": "markdown",
   "metadata": {},
   "source": [
    "In the next cell, enter the following code, and then run it to show the area on a map."
   ]
  },
  {
   "cell_type": "markdown",
   "metadata": {},
   "source": [
    "    display_map(x=lon_range, y=lat_range)"
   ]
  },
  {
   "cell_type": "markdown",
   "metadata": {},
   "source": [
    "### Load data"
   ]
  },
  {
   "cell_type": "markdown",
   "metadata": {},
   "source": [
    "In the new cell below, enter the following code, and then run it to load Landsat 8 data."
   ]
  },
  {
   "cell_type": "markdown",
   "metadata": {},
   "source": [
    "    landsat_ds = load_ard(\n",
    "        dc=dc, products=[\"ls8_usgs_sr_scene\"], \n",
    "        lat=lat_range, lon=lon_range,\n",
    "        time=time, \n",
    "        output_crs=\"EPSG:6933\",\n",
    "        resolution=(-30, 30),\n",
    "        group_by='solar_day',\n",
    "        measurements=['nir', 'red', 'blue'])"
   ]
  },
  {
   "cell_type": "markdown",
   "metadata": {},
   "source": [
    "## Calculate indices"
   ]
  },
  {
   "cell_type": "markdown",
   "metadata": {},
   "source": [
    "Now we need to calculate a vegetation index - or \"vegetation proxy\" - like NDVI. This time we will use EVI - the \"Enhanced Vegetation Index\". It has the following formula:\n",
    "\n",
    "\\begin{equation} \\text{EVI} \\ = \\ G * \\frac{\\text{NIR} - \\text{Red}}{\\text{NIR} + C1*\\text{Red} - C2*\\text{Blue} + \\text{L}} \\end{equation}\n",
    "\n",
    "where G, C1, and C2 are constants, typically with values of 2.5, 6, and 7, respectively. Substituting those values, we have:\n",
    "\n",
    "\\begin{equation} \\text{EVI} \\ = \\ 2.5 * \\frac{\\text{NIR} - \\text{Red}}{\\text{NIR} + 6*\\text{Red} - 7*\\text{Blue} + \\text{L}} \\end{equation}\n",
    "\n",
    "In the next cell, enter the following code, and then run it to calculate the EVI vegetation index for this data."
   ]
  },
  {
   "cell_type": "markdown",
   "metadata": {},
   "source": [
    "    landsat_ds = calculate_indices(landsat_ds, index='EVI', collection='c1')"
   ]
  },
  {
   "cell_type": "markdown",
   "metadata": {},
   "source": [
    "## Detect changes"
   ]
  },
  {
   "cell_type": "markdown",
   "metadata": {},
   "source": [
    "Now we need to determine the change in the vegetation index between the older and newer halves of the data.\n",
    "\n",
    "First, we will split the vegetation index data into the older half and newer half.\n",
    "\n",
    "In the next cell, enter the following code, and then run it to split the data."
   ]
  },
  {
   "cell_type": "markdown",
   "metadata": {},
   "source": [
    "    EVI_periods = \\\n",
    "        [landsat_ds.EVI.sel(time=slice(time[0], time_baseline)),\n",
    "         landsat_ds.EVI.sel(time=slice(time_baseline, time[1]))]"
   ]
  },
  {
   "cell_type": "markdown",
   "metadata": {},
   "source": [
    "### Detect per-pixel changes"
   ]
  },
  {
   "cell_type": "markdown",
   "metadata": {},
   "source": [
    "Now we will calculate the differences in the average vegetation index between the halves for each pixel.\n",
    "\n",
    "In the next cell, enter the following code, and then run it to create mean composites for the 2 time periods. The `[expression for variable_name in list]` format used here creates a list of the results of `expression` (`EVI_period.mean(dim=['time'])`) for each element `variable_name` (`EVI_period`) in `list` (`EVI_periods`). So `EVI_composites` is a list of the mean composites of EVI values for the 2 time periods."
   ]
  },
  {
   "cell_type": "markdown",
   "metadata": {},
   "source": [
    "    EVI_composites = [EVI_period.mean(dim=['time']) for EVI_period in EVI_periods]"
   ]
  },
  {
   "cell_type": "markdown",
   "metadata": {},
   "source": [
    "Now we need to subtract the first time period EVI mean composite from the second time period EVI mean composite to determine the change in the vegetation index.\n",
    "\n",
    "In the next cell, enter the following code, and then run it to determine the change in the vegetation index."
   ]
  },
  {
   "cell_type": "markdown",
   "metadata": {},
   "source": [
    "    EVI_composite_diff = EVI_composites[1] - EVI_composites[0]"
   ]
  },
  {
   "cell_type": "markdown",
   "metadata": {},
   "source": [
    "In the next cell, enter the following code, and then run it to show the difference between the mean composites for the time periods. This will allow us to see where the vegetation index increased or decreased and by how much."
   ]
  },
  {
   "cell_type": "markdown",
   "metadata": {},
   "source": [
    "    plt.figure(figsize=(9, 8))\n",
    "    EVI_composite_diff.plot.imshow()\n",
    "    plt.title(\"Mean Composite Difference (Older to Newer)\")\n",
    "    plt.show()"
   ]
  },
  {
   "cell_type": "markdown",
   "metadata": {},
   "source": [
    "### Detect total change"
   ]
  },
  {
   "cell_type": "markdown",
   "metadata": {},
   "source": [
    "Sometimes we want to know exactly how much the average vegetation index value changes between time periods - not just how much the average of the values for each pixel changes.\n",
    "\n",
    "In the next cell, enter the following code, and then run it to compute the average of the vegetation index values for the older and newer halves. Note that the `.values` after `mean()` changes the result from an `xarray` object to a number so that we can easily print results in the next cell."
   ]
  },
  {
   "cell_type": "markdown",
   "metadata": {},
   "source": [
    "    EVI_averages = [EVI_period.mean().values for EVI_period in \n",
    "                    EVI_periods]"
   ]
  },
  {
   "cell_type": "markdown",
   "metadata": {},
   "source": [
    "In the next cell, enter the following code, and then run it to calculate the difference between the averages of the older and newer halves of the data to check for vegetation change.\n",
    "\n",
    "The strings here start with `f` to allow code expressions like `EVI_averages[0]` or `EVI_difference` to be evaluated and substituted into the string when enclosed in braces. The `:.2%` in the substitution in the `Percent EVI difference` string formats the output as a percent with 2 decimal places (so the value of `EVI_difference / EVI_averages[0]` is approximately `-0.0159`, which is the decimal equivalent of `-1.59%`)."
   ]
  },
  {
   "cell_type": "markdown",
   "metadata": {},
   "source": [
    "    EVI_difference = EVI_averages[1] - EVI_averages[0]\n",
    "    print(f\"First half EVI: {EVI_averages[0]}\")\n",
    "    print(f\"Second half EVI: {EVI_averages[1]}\")\n",
    "    print(f\"EVI difference: {EVI_difference}\")\n",
    "    print(f\"Percent EVI difference: {(EVI_difference / EVI_averages[0]):.2%}\")"
   ]
  },
  {
   "cell_type": "markdown",
   "metadata": {},
   "source": [
    "## Conclusion"
   ]
  },
  {
   "cell_type": "markdown",
   "metadata": {},
   "source": [
    "Congratulations! You have made your own vegetation change detection notebook. It is comparable to [this one](https://github.com/digitalearthafrica/deafrica-sandbox-notebooks/blob/master/Real_world_examples/Vegetation_change_detection.ipynb), which may have seemed like a daunting task, but it is very similar to what we have done here..\n",
    "\n",
    "You now understand how to structure a complete case study.\n",
    "\n",
    "The additional steps in the original version will be explained in the next section."
   ]
  },
  {
   "cell_type": "code",
   "execution_count": null,
   "metadata": {},
   "outputs": [],
   "source": []
  }
 ],
 "metadata": {
  "kernelspec": {
   "display_name": "Python 3",
   "language": "python",
   "name": "python3"
  },
  "language_info": {
   "codemirror_mode": {
    "name": "ipython",
    "version": 3
   },
   "file_extension": ".py",
   "mimetype": "text/x-python",
   "name": "python",
   "nbconvert_exporter": "python",
   "pygments_lexer": "ipython3",
   "version": "3.6.9"
  }
 },
 "nbformat": 4,
 "nbformat_minor": 4
}
