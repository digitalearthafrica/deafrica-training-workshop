{
 "cells": [
  {
   "cell_type": "markdown",
   "metadata": {},
   "source": [
    "## Calculating NDVI (PART 1)\n",
    "\n",
    "This exercise follows on from the previous section. In the previous section (Session 3), you constructed a notebook to create geomedian composite.\n",
    "\n",
    "In this section, we will re-run the notebook from the previous section, and extend it to resample the dataset and create a geomedian of the dataset. \n"
   ]
  },
  {
   "cell_type": "markdown",
   "metadata": {},
   "source": [
    "Note\n",
    "\n",
    "We will be using the notebook we created in the previous section (Section 3). If you have not already set up a copy of the notebook called Geomedian_composite.ipynb with the required packages and functions, follow the instructions in previous section. Ensure you have completed all the steps, including loading the Sentinel-2 dataset.\n"
   ]
  },
  {
   "cell_type": "markdown",
   "metadata": {},
   "source": [
    "### Create a copy of the notebook\n",
    "\n",
    "Before you continue with the next step, make a copy of the geomedian_composite notebook and rename it to calculate_ndvi.\n",
    "If you successfully create a copy of the notebook skip to starting the notebook\n",
    "\n",
    "# Open the Training folder\n",
    "\n",
    "1. Identify Geomedian_composite.ipnyb notebook.\n",
    "2. Right-click on the notebook and click Duplicate to create a copy. By default, this will be called Geomedian_composite -Copy1.ipynb.\n",
    "3. Rename the file from Geomedian_composite -Copy1.ipynb to calulate_resample.ipynb\n",
    "\n",
    "\n",
    "You can now run this notebook, as well as make edits to it.\n",
    "\n",
    "### Starting the notebook\n",
    "\n",
    "If you are following directly on from the last section, you can skip this step. If you have closed your Sandbox browser tab or disconnected from the Internet between exercises, follow these steps to ensure correct package imports and connection to the datacube.\n",
    "\n",
    "1. Navigate to the Training folder.\n",
    "2. Double-click calulate _resample.ipynb. It will open in the Launcher.\n",
    "3. Select Kernel -> Restart Kernel and Run All Cells…\n",
    "4. When prompted, select Restart.\n",
    "5. The notebook may take a little while to run. Check all the cells have run successfully with no error messages.\n",
    "\n",
    "\n",
    "### Changing the parameter\n",
    "Lat, lon, time\n",
    "\n",
    "### Resampling of the dataset\n",
    "Resampling is used to create a new set of times at regular intervals, using the resample method the data can be arranged in days, months, quarterly and yearly. Below gives the examsles are how the data are grouped\n",
    "\n",
    " * `grouped = da_scaled.resample(time=1M)`\n",
    " \n",
    "    * `'nD'` - number of days (e.g. `'7D'` for seven days)\n",
    "    * `'nM'` - number of months (e.g. `'6M'` for six months)\n",
    "    * `'nY'` - number of years (e.g. `'2Y'` for two years)\n",
    "\n",
    "#### Group By\n",
    "Grouping works by looking at part of the date, but ignoring other parts. For instance, `'time.month'` would group together all January data together, no mater what year it is from.\n",
    "\n",
    " * `grouped = da_scaled.groupby('time.month')`\n",
    " \n",
    "     * `'time.day'` - groups by the day of the month (1-31)\n",
    "     * `'time.dayofyear'` - groups by the day of the year (1-365)\n",
    "     * `'time.week'` - groups by week (1-52) \n",
    "     * `'time.month'` - groups by the month (1-12)\n",
    "     * `'time.season'` - groups into 3-month seasons:\n",
    "         - `'DJF'` December, Jaunary, February\n",
    "         - `'MAM'` March, April, May\n",
    "         - `'JJA'` June, July, August\n",
    "         - `'SON'` September, October, November\n",
    "     * `'time.year'` - groups by the year\n"
   ]
  },
  {
   "cell_type": "markdown",
   "metadata": {},
   "source": [
    "### Running geomedian on grouped or resampled timeseries\n",
    "\n",
    "First, we will reshape the dataset into a data-array so that we can use it with the map function"
   ]
  },
  {
   "cell_type": "markdown",
   "metadata": {},
   "source": [
    "da = reshape_for_geomedian(ds)"
   ]
  },
  {
   "cell_type": "markdown",
   "metadata": {},
   "source": [
    "#### Now we will split the timeseries into the desired groups.\n",
    "\n",
    "Here we will resample the data into 3 monthly groups ('3M'), \n",
    "with the group starting at the start of the month (represented by the 'S' at the end)."
   ]
  },
  {
   "cell_type": "markdown",
   "metadata": {},
   "source": [
    "grouped = da.resample(time='3MS')"
   ]
  },
  {
   "cell_type": "markdown",
   "metadata": {},
   "source": [
    "Now we will apply the function to each group using the map method."
   ]
  },
  {
   "cell_type": "markdown",
   "metadata": {},
   "source": [
    "Instead of calling calc_geomedian(data, other_arguments=...) on one array, we pass the calc_geomedian function to map to run on each group."
   ]
  },
  {
   "cell_type": "markdown",
   "metadata": {},
   "source": [
    "geomedian_da = grouped.map(calc_geomedian, min_value=0, max_value=10000)"
   ]
  },
  {
   "cell_type": "markdown",
   "metadata": {},
   "source": [
    "We can now turn our array back into a dataset object."
   ]
  },
  {
   "cell_type": "markdown",
   "metadata": {},
   "source": [
    "geomedian = geomedian_da.to_dataset(dim='band')"
   ]
  },
  {
   "cell_type": "markdown",
   "metadata": {},
   "source": [
    "### Compute geomedian"
   ]
  },
  {
   "cell_type": "markdown",
   "metadata": {},
   "source": [
    "%%time\n",
    "\n",
    "\n",
    "geomedian = geomedian.compute()"
   ]
  },
  {
   "cell_type": "markdown",
   "metadata": {},
   "source": [
    "We can plot the output geomedians, and see the change in the landscape over the year:"
   ]
  },
  {
   "cell_type": "markdown",
   "metadata": {},
   "source": [
    "rgb (geomedian, col=\"time\", col_wrap=4)"
   ]
  },
  {
   "cell_type": "markdown",
   "metadata": {},
   "source": [
    "## Conclusion\n",
    "\n",
    "Congratulations! You have finished the 4th session of this training! You now know how to open and close notebooks, make copies of notebooks and run them.\n",
    "If you would like to re-run this notebook using a different area of interest, follow these steps:\n",
    "\n",
    "1. Restart the notebook and clear all outputs.\n",
    "\n",
    "2. Run the cell that imports packages and functions.\n",
    "\n",
    "3. Change the latitude, longitude, and buffer values in the second code cell. You can either use the values suggested above the cell or provide your own. Then run the cell.\n",
    "\n",
    "\n",
    "Did you learn anything interesting share with ud?"
   ]
  }
 ],
 "metadata": {
  "kernelspec": {
   "display_name": "Python 3",
   "language": "python",
   "name": "python3"
  },
  "language_info": {
   "codemirror_mode": {
    "name": "ipython",
    "version": 3
   },
   "file_extension": ".py",
   "mimetype": "text/x-python",
   "name": "python",
   "nbconvert_exporter": "python",
   "pygments_lexer": "ipython3",
   "version": "3.6.9"
  }
 },
 "nbformat": 4,
 "nbformat_minor": 4
}
