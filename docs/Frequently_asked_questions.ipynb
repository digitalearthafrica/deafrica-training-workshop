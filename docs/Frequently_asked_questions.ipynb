{
 "cells": [
  {
   "cell_type": "markdown",
   "metadata": {},
   "source": [
    "# Frequently asked questions"
   ]
  },
  {
   "cell_type": "raw",
   "metadata": {
    "raw_mimetype": "text/restructuredtext"
   },
   "source": [
    ".. contents::\n",
    "   :local:"
   ]
  },
  {
   "cell_type": "markdown",
   "metadata": {},
   "source": [
    "## I forgot my DE Africa Sandbox password. How do I reset it?\n",
    "\n",
    "Visit the Sandbox homepage at [https://sandbox.digitalearth.africa/hub/login](https://sandbox.digitalearth.africa/hub/login) and click **Login or Sign up**. Click **Forgot your password?** and follow the instructions to reset your password.\n",
    "\n",
    "<img align=\"middle\" src=\"_static/other_information/faq-sandbox-forgot-password.PNG\" alt=\"Forgot your password?\" width=\"300\">\n"
   ]
  },
  {
   "cell_type": "markdown",
   "metadata": {},
   "source": [
    "## I accidentally deleted a pre-loaded notebook in the Sandbox. How do I get it back?\n",
    "\n",
    "The DE Africa Sandbox session automatically loads several folders of default notebooks. If you have accidentally deleted any of the folders or notebooks, they can be restored by restarting the server. \n",
    "\n",
    "1. Save any open working files.\n",
    "2. Select **File -> Hub Control Panel**. This will open a new tab. \n",
    "3. On the new tab, select **Stop My Server**. The server will take a few minutes to stop.\n",
    "4. When the server has stopped, the buttons will refresh. Select **Start My Server**.\n",
    "5. Select **Launch Server** and **Start**.\n",
    "\n",
    "This should reload all default folders and notebooks for the DE Africa Sandbox. Note that this will **not** overwrite files that have been added, renamed, or modified. Additionally, this only applies to default pre-loaded files and will not restore personal notebooks that have been deleted."
   ]
  },
  {
   "cell_type": "markdown",
   "metadata": {},
   "source": [
    "## I have fallen behind on course content. Can I still complete the course?"
   ]
  },
  {
   "cell_type": "markdown",
   "metadata": {},
   "source": [
    "Yes. It is recommended to spend 2 hours a week on new content. This will allow you to build on the previous week's content and finish the training course in around 6 weeks. However, this training course is self-paced, so there is no cut-off date for access. You are encouraged and welcome to spend more time on the course as necessary.\n",
    "\n",
    "Certification will be evaluated by submissions to the course conveners, so it is possible to obtain certification even if the course takes you longer than 6 weeks to complete.\n",
    "\n",
    "If you need help with the content or have course feedback, see the [Contact us](Contact_us.ipynb) page for support channels and convener contact information."
   ]
  },
  {
   "cell_type": "markdown",
   "metadata": {},
   "source": [
    "## How do I download an offline copy of course material?"
   ]
  },
  {
   "cell_type": "markdown",
   "metadata": {},
   "source": [
    "The Digital Earth Africa training course material can be downloaded as a PDF for offline reading or printing. The PDF contains all text and images, but does not embed videos. As content may be updated, it is recommended you download a new copy every 1 &ndash; 2 weeks.\n",
    "\n",
    "1. Go to the Digital Earth Africa training homepage at [https://training.digitalearthafrica.org/en/latest/index.html](https://training.digitalearthafrica.org/en/latest/index.html).\n",
    "2. Scroll to the bottom of the page and click **v: latest** to expand the menu.\n",
    "\n",
    "    ![Latest](_static/other_information/faq-download-1.PNG){ width=\"400px\" }\n",
    "\n",
    "3. Select **PDF**. This will generate a PDF of the training website. Click **Save** or **Download** to save a copy to your computer.\n",
    "\n",
    "    ![PDF](_static/other_information/faq-download-2.PNG){ width=\"400px\" }\n",
    "\n",
    "Note Sandbox access requires an internet connection. You will not be able to complete Sandbox exercises offline.\n",
    "\n",
    "PDFs can be viewed using [Adobe Acrobat Reader DC](https://get.adobe.com/reader/), which can be downloaded for free."
   ]
  },
  {
   "cell_type": "markdown",
   "metadata": {},
   "source": [
    "## My kernel has crashed. What do I do?"
   ]
  },
  {
   "cell_type": "markdown",
   "metadata": {},
   "source": [
    "The Digital Earth Africa Sandbox has a finite amount of processing power allocated to each user. This means if you attempt to load or calculate a lot of data, the kernel may crash. You will see a message like this:\n",
    "\n",
    "![Kernel error](_static/other_information/faq-kernel-restart.PNG){ width=\"300px\" }\n",
    "\n",
    "You will not lose any files, but will have to rerun your notebook to continue working. However, if the notebook is still demanding too many resources, it will crash again.\n",
    "\n",
    "You can prevent kernel crashes by:\n",
    "\n",
    "* Decreasing the area selected for data processing\n",
    "* Shortening the time extent\n",
    "* Shutting down kernels of notebooks you have finished using: open the notebook and select **Kernel -> Shut Down Kernel**\n",
    "\n",
    "These actions reduce the memory load of your computation on the Sandbox."
   ]
  },
  {
   "cell_type": "markdown",
   "metadata": {},
   "source": [
    "## I am having Sandbox registration problems. What do I do?"
   ]
  },
  {
   "cell_type": "markdown",
   "metadata": {},
   "source": [
    "If you have specific Sandbox issues, please send an email to [training@digitalearthafrica.org](mailto:training@digitalearthafrica.org). These may include:\n",
    "\n",
    "* Cannot register with the Sandbox\n",
    "* Entered the wrong credentials during registration\n",
    "* Need to change your email address\n",
    "\n",
    "If you have forgotten your Sandbox password, please see [I forgot my DE Africa Sandbox password. How do I reset it?](#I-forgot-my-DE-Africa-Sandbox-password.-How-do-I-reset-it?)\n",
    "\n",
    "If you have experienced a Sandbox kernel crash or kernel restart error message, please see [My kernel has crashed. What do I do?](#My-kernel-has-crashed.-What-do-I-do?)"
   ]
  },
  {
   "cell_type": "markdown",
   "metadata": {},
   "source": [
    "## How do I join the Slack channel?"
   ]
  },
  {
   "cell_type": "markdown",
   "metadata": {},
   "source": [
    "Digital Earth Africa uses Slack as a communications platform for asking questions and general discussion. It is free to join.\n",
    "\n",
    "1. Go to [http://slack.opendatacube.org/](http://slack.opendatacube.org/). If you do not have a Slack account, enter your email address to receive an invitation to sign up and log in. If you are already a Slack member, follow the prompts to log in.\n",
    "\n",
    "![ODC slack invite page](_static/faq-slack1.PNG){ width=\"300px\" }\n",
    "\n",
    "2. Open Slack. Select the **+** button next to **Channels** and click **Browse channels**.\n",
    "\n",
    "![Add channels button](_static/faq-slack2.PNG){ width=\"300px\" }\n",
    "\n",
    "![Browse channels button](_static/faq-slack3.png){ width=\"300px\" }\n",
    "\n",
    "3. Hover over the channel called `#de-africa-training` and click **Join**.\n",
    "\n",
    "![Join channel](_static/faq-slack4.png){ width=\"400px\" }\n"
   ]
  },
  {
   "cell_type": "markdown",
   "metadata": {},
   "source": [
    "## How do I connect to GIS web services?\n",
    "\n",
    "See [this tutorial](./OWS_tutorial.ipynb) on using the Digital Earth Africa Web Map Services or Web Coverage Services."
   ]
  },
  {
   "cell_type": "markdown",
   "metadata": {},
   "source": [
    "## How do I import shapefiles or geojson files?\n",
    "\n",
    "The Sandbox is compatible with external datasets such as shapefiles or geojson files. See [this tutorial](./External_dataset.ipynb)."
   ]
  }
 ],
 "metadata": {
  "kernelspec": {
   "display_name": "Python 3",
   "language": "python",
   "name": "python3"
  },
  "language_info": {
   "codemirror_mode": {
    "name": "ipython",
    "version": 3
   },
   "file_extension": ".py",
   "mimetype": "text/x-python",
   "name": "python",
   "nbconvert_exporter": "python",
   "pygments_lexer": "ipython3",
   "version": "3.6.9"
  }
 },
 "nbformat": 4,
 "nbformat_minor": 4
}
