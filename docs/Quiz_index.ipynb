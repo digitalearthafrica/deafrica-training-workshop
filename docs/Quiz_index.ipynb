{
 "cells": [
  {
   "cell_type": "markdown",
   "metadata": {},
   "source": [
    "# Quiz index"
   ]
  },
  {
   "cell_type": "markdown",
   "metadata": {},
   "source": [
    "To be eligible for a DE Africa Training Course Certificate of Completion, you must complete all six assessment quizzes. The links to the quiz page for each week can be found below.\n",
    "\n",
    "On each quiz page, read the summary of the week's contents and note any suggestions or requirements for the quiz. Click the link labelled **complete the quiz** to access the questions.\n",
    "\n",
    "You may submit more than one response to each quiz. Your highest score for each quiz will be used in assessing Certificate of Completion eligibility.\n",
    "\n",
    "If you have any questions about the assessment quizzes, or cannot remember which quizzes you have completed, see the [FAQ](./Frequently_asked_questions.ipynb) or [contact the course convenors](./Contact_us.ipynb)."
   ]
  },
  {
   "cell_type": "raw",
   "metadata": {
    "raw_mimetype": "text/restructuredtext"
   },
   "source": [
    ".. note::\n",
    "    Please use the same email address with every quiz submission. This allows the course convenors to track your progress and award certificates in a timely manner."
   ]
  },
  {
   "cell_type": "markdown",
   "metadata": {},
   "source": [
    "* [Session 1: Copy, open and run a notebook](https://training.digitalearthafrica.org/en/latest/session_1/05_s1_quiz.html)"
   ]
  },
  {
   "cell_type": "markdown",
   "metadata": {},
   "source": [
    "* [Session 2: Load data and plot an image](https://training.digitalearthafrica.org/en/latest/session_2/05_s2_solution.html)"
   ]
  },
  {
   "cell_type": "markdown",
   "metadata": {},
   "source": [
    "* [Session 3: Plot a cloud-free geomedian](https://training.digitalearthafrica.org/en/latest/session_3/04_s3_solution.html)"
   ]
  },
  {
   "cell_type": "markdown",
   "metadata": {},
   "source": [
    "* [Session 4: Calculate NDVI](https://training.digitalearthafrica.org/en/latest/session_4/04_s4_solution.html)"
   ]
  },
  {
   "cell_type": "markdown",
   "metadata": {},
   "source": [
    "* [Session 5: Show vegetation change over time](https://training.digitalearthafrica.org/en/latest/session_5/03_s5_solution.html)"
   ]
  },
  {
   "cell_type": "markdown",
   "metadata": {},
   "source": [
    "* [Session 6: Show water extent change over time](https://training.digitalearthafrica.org/en/latest/session_6/03_s6_solution.html)"
   ]
  }
 ],
 "metadata": {
  "kernelspec": {
   "display_name": "Python 3",
   "language": "python",
   "name": "python3"
  },
  "language_info": {
   "codemirror_mode": {
    "name": "ipython",
    "version": 3
   },
   "file_extension": ".py",
   "mimetype": "text/x-python",
   "name": "python",
   "nbconvert_exporter": "python",
   "pygments_lexer": "ipython3",
   "version": "3.6.9"
  }
 },
 "nbformat": 4,
 "nbformat_minor": 4
}
