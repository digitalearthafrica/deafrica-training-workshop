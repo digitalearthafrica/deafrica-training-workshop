{
 "cells": [
  {
   "cell_type": "markdown",
   "metadata": {},
   "source": [
    "# Exercise: Determing the Extent of Water Bodies\n",
    "\n",
    "## Overview \n",
    "In this exercise, we will create a new notebook to determine the extent of water bodies using the Water Observation from Space Product(WOFS).The WOFs data will also be compared to the landsat 8 dataset.\n",
    "\n",
    "\n",
    "The notebook will include the following steps:\n",
    "\n",
    "* Load WOFS and Landsat 8 data\n",
    "* Identify water pixels from WOFS\n",
    "* Match landsat to WOFS and plot RGB\n",
    "* Plot the total number of water pixels in each image, multiplied by the pixel area\n",
    "* Customise the plot\n",
    "\n",
    "At the conclusion of this exercise, you will have determine the extent of the selected water body in the selected area."
   ]
  },
  {
   "cell_type": "markdown",
   "metadata": {},
   "source": [
    "## Set up notebook\n",
    "\n",
    "In your Training folder, create a new Python 3 notebook. Name it water_extent_exercise.ipynb. For more instructions on creating a new notebook, see the instructions from [Session 2](../session_2/04_load_data_exercise.ipynb)."
   ]
  },
  {
   "cell_type": "markdown",
   "metadata": {},
   "source": [
    "### Load packages and functions\n",
    "\n",
    "In the first cell, type the following code and then run the cell to import necessary Python dependencies.\n",
    "\n",
    "\n",
    "    import matplotlib.pyplot as plt\n",
    "    %matplotlib inline\n",
    "\n",
    "    import sys\n",
    "    import datacube\n",
    "\n",
    "    sys.path.append('../Scripts')\n",
    "    from deafrica_datahandling import load_ard, wofs_fuser\n",
    "    from deafrica_plotting import display_map\n"
   ]
  },
  {
   "cell_type": "markdown",
   "metadata": {},
   "source": [
    "### Connect to the datacube\n",
    "\n",
    "Enter the following code and run the cell to create our dc object, which provides access to the datacube.\n",
    "\n",
    "    dc = datacube.Datacube(app=\"water_extent_exercise\")"
   ]
  },
  {
   "cell_type": "markdown",
   "metadata": {},
   "source": [
    "In the next cell, enter the following code, and then run it to select an area.\n",
    "\n",
    "#### Define the central point of interest\n",
    "    lat = -6.0873\n",
    "    lon = 35.1817\n",
    "\n",
    "    lat_buffer = 0.2\n",
    "    lon_buffer = 0.2\n",
    "\n",
    "#### Combine central lat,lon with buffer to get area of interest\n",
    "\n",
    "    lat_range = (lat - lat_buffer, lat + lat_buffer)\n",
    "    lon_range = (lon - lon_buffer, lon + lon_buffer)\n",
    "\n",
    "#### Define the start year and end year\n",
    "    time = ('2018')"
   ]
  },
  {
   "cell_type": "markdown",
   "metadata": {},
   "source": [
    "In the next cell, enter the following code, and then run it to show the area on a map. Since we have defined our area using the variables lon_range and lat_range, we can use those instead of typing out `(latitude-buffer, latitude+buffer)` and `(longitude-buffer, longitude+buffer)` again.\n",
    "\n",
    "    display_map(x=lon_range, y=lat_range)"
   ]
  },
  {
   "cell_type": "markdown",
   "metadata": {},
   "source": [
    "#### Query Object\n",
    "    \n",
    "Notice `lat_range`, `lon_range` and `time` were all defined in the previous cell, so we can use them as variables here\n",
    "    \n",
    "    query = {\n",
    "        'x': lon_range,\n",
    "        'y': lat_range,\n",
    "        'resolution': (-30, 30),\n",
    "        'output_crs':'EPSG:6933',\n",
    "        'time': (time),\n",
    "    }"
   ]
  },
  {
   "cell_type": "markdown",
   "metadata": {},
   "source": [
    "#### Load Landsat Data\n",
    "\n",
    "    ds_landsat = load_ard(dc=dc,\n",
    "                         products=['ls8_usgs_sr_scene'],\n",
    "                         measurements=['red', 'green', 'blue'],\n",
    "                         group_by='solar_day',\n",
    "                         **query)\n",
    "                         \n",
    "    ds_landsat\n",
    "\n",
    "\n",
    "#### Load WOfS\n",
    "\n",
    "    ds_wofs = dc.load(product=[\"ga_ls8c_wofs_2\"],\n",
    "             fuse_func=wofs_fuser,\n",
    "             group_by='solar_day',\n",
    "             **query\n",
    "            )\n",
    "\n",
    "    ds_wofs"
   ]
  },
  {
   "cell_type": "markdown",
   "metadata": {},
   "source": [
    "#### Calculate the area per pixel\n",
    "The number of pixels can be used for the area of the waterbody if the pixel area is known. \n",
    "\n",
    "    pixel_length = query[\"resolution\"][1]  # in metres\n",
    "    m_per_km = 1000  # conversion from metres to kilometres\n",
    "    area_per_pixel = pixel_length**2 / m_per_km**2"
   ]
  },
  {
   "cell_type": "markdown",
   "metadata": {},
   "source": [
    "#### select WOfS images at same timesteps as the Landsat data\n",
    "    ds_wofs_landsat = ds_wofs.sel(time=ds_landsat.time, method='nearest')\n",
    "\n",
    "#### remove any duplicate time-stamps\n",
    "    index = np.unique(ds_wofs_landsat.time, return_index=True)\n",
    "    ds_wofs_landsat = ds_wofs_landsat.isel(time=index[1])\n",
    "    \n",
    "    ds_wofs_landsat"
   ]
  },
  {
   "cell_type": "markdown",
   "metadata": {},
   "source": [
    "#### Only show water pixels\n",
    "    ds_valid_water = ds_wofs_landsat.water == 128\n",
    "\n",
    "#### Calculate area of water pixels\n",
    "    ds_valid_water_area = ds_valid_water.sum(dim=['x', 'y']) * area_per_pixel\n"
   ]
  },
  {
   "cell_type": "markdown",
   "metadata": {},
   "source": [
    "#### Plot Monthly Time Series\n",
    "\n",
    "    plt.figure(figsize=(18, 4))\n",
    "    ds_valid_water_area.plot(marker='o', color='#9467bd')\n",
    "    plt.title(f'Time Series Analysis of water observed area')\n",
    "    plt.xlabel('Dates')\n",
    "    plt.ylabel('Waterbody area (km$^2$)')\n",
    "    plt.tight_layout()"
   ]
  },
  {
   "cell_type": "markdown",
   "metadata": {},
   "source": [
    "    ds_wofs_landsat.isel(time=4).water.plot(cmap='Blues', robust=True)"
   ]
  },
  {
   "cell_type": "markdown",
   "metadata": {},
   "source": [
    "    rgb(ds_landsat, index=4, bands=['red', 'green','blue'])"
   ]
  },
  {
   "cell_type": "markdown",
   "metadata": {},
   "source": [
    "## Conclusion\n",
    "\n",
    "Congratulations! You have successfully modified a notebook to create a quarterly geomedian composite by resampling Sentinel-2 data.\n",
    "\n",
    "If you'd like to experiment futher, try running the code with different resampling values. Did you learn anything interesting to share with us?\n",
    "\n",
    "In the next section, we will continue working with this notebook to calculate the NDVI values for each of our quarterly geomedians."
   ]
  }
 ],
 "metadata": {
  "kernelspec": {
   "display_name": "Python 3",
   "language": "python",
   "name": "python3"
  },
  "language_info": {
   "codemirror_mode": {
    "name": "ipython",
    "version": 3
   },
   "file_extension": ".py",
   "mimetype": "text/x-python",
   "name": "python",
   "nbconvert_exporter": "python",
   "pygments_lexer": "ipython3",
   "version": "3.6.9"
  }
 },
 "nbformat": 4,
 "nbformat_minor": 4
}
