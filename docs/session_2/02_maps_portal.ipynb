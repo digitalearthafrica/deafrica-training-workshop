{
 "cells": [
  {
   "cell_type": "markdown",
   "metadata": {},
   "source": [
    "# Digital Earth Africa Maps"
   ]
  },
  {
   "cell_type": "markdown",
   "metadata": {},
   "source": [
    "## Use the DE Africa Map\n",
    "Start exploring the DE Africa Map at [maps.digitalearth.africa](https://maps.digitalearth.africa/). You can see what is available using the Explore data button to open the catalogue and expand a category you wish to browse.\n",
    "\n",
    "You can also see the video instructions [here](https://www.youtube.com/watch?v=44mEA6GjugE)."
   ]
  },
  {
   "cell_type": "markdown",
   "metadata": {
    "raw_mimetype": "text/restructuredtext"
   },
   "source": [
    "## Get Started\n",
    "\n",
    "To launch the DE Africa Map and display some basic data follow these steps.\n",
    "\n",
    "\n",
    "* Launch the DE Africa Map at [maps.digitalearth.africa](https://maps.digitalearth.africa/).\n",
    "* In the left panel click the **Add Data** button to open the data catalogue (see image below).\n",
    "* Find a dataset of interest such as water.\n",
    "* Select the dataset to see a preview of that data and description.\n",
    "* To view your selected dataset on the map, click the **Add to the map** button.\n",
    "\n",
    "\n",
    "<img align=\"middle\" src=\"./DataCatalogue.jpg\" alt=\"DE Africa maps image\" width=\"800\">\n",
    "\n",
    "Visualise and analyse your dataset:\n",
    "\n",
    "* The spatial data will be displayed in the map view, and a visual legend will appear in the Data workbench, on the left side of the page.\n",
    "\n",
    "* It may not be immediately obvious where your selected spatial data has loaded on the map if it does not cover a large part of Africa. To locate loaded data on the map, go to the workbench, and select **Zoom to extent**.\n",
    "\n",
    "* The dataset should now be visible in the map view.\n",
    "\n",
    "* To add additional datasets to the map, repeat the above steps.\n",
    "\n",
    "* Zoom manually by moving your mouse pointer over the map and using your mouse wheel to zoom in or out further.\n",
    "\n",
    "* Click and drag the map to further show the region in which you are interested.\n"
   ]
  },
  {
   "cell_type": "markdown",
   "metadata": {},
   "source": [
    "## Explore the workbench\n",
    "\n",
    "<img align=\"middle\" src=\"./Workbench.jpg\" alt=\"DE Africa maps image\" width=\"800\">\n",
    "\n",
    "\n",
    "When a dataset is added to the map via the data catalogue, a legend for that dataset will appear in the workbench. From the workbench you can:\n",
    "\n",
    "* Set the order data is shown on the map. To do this, click the title of a dataset and drag it to a new position in your workbench.\n",
    "* Toggle the visibility of added datasets by selecting the checkbox opposite your prefered dataset title\n",
    "* Zoom to the geographical extent of an added data set\n",
    "* Set the opacity of individual data sets\n",
    "* Remove data sets from the map. Note: they can be re-added via the data catalogue."
   ]
  },
  {
   "cell_type": "markdown",
   "metadata": {},
   "source": [
    "## Navigate the Map\n",
    "\n",
    "<img align=\"middle\" src=\"./Navigate.jpg\" alt=\"DE Africa maps image\" width=\"800\">\n",
    "\n",
    "There are multiple ways to navigate DE Africa Map's map view:\n",
    "\n",
    "### Zooming\n",
    "\n",
    "Move your mouse pointer over the map and use the scroll wheel to zoom in or out. The location at the centre of the map display is the centre of the zooming. Right-click and drag upwards or downwards over the map to zoom about the centre point. Select the zoom control to zoom in or out quickly by a set amount.\n",
    "\n",
    "### Panning\n",
    "\n",
    "Click anywhere on the map and drag it to the required location.\n",
    "\n",
    "### Rotate the map\n",
    "\n",
    "Use the compass control to rotate the map so North is no longer at the top. Select the “gyroscope” in the centre of the compass control and drag slowly to the left or right to rotate the map clockwise or anti-clockwise respectively. The further you drag, the faster it rotates. Release the mouse button when you reach the desired rotation.\n",
    "\n",
    "Select the North Point or outer ring of the Compass Control and drag it around to set the desired rotation directly.\n",
    "\n",
    "Control + left-click and drag left or right over the map to rotate the view about the centre.\n",
    "\n",
    "### Perspective view\n",
    "\n",
    "Select the “gyroscope” in the centre of the compass control and drag slowly upwards to tilt the view into a perspective view. Drag downwards to tilt the view back to vertical. The further you drag, the faster it tilts. Release the mouse button when you reach the desired view.\n",
    "\n",
    "Control + left-click and drag upwards or downwards over the map to enter or adjust the perspective view.\n",
    "\n",
    "When you are in perspective view, control + left-click and drag left or right over the map to “orbit” around the centre of the view. You can also click and drag left or right over the “gyroscope” at the centre of the Compass Control to orbit about the centre of the view.\n",
    "\n",
    "Double-click the “gyroscope” in the centre of the Compass Control to return the view quickly to a vertical view with North to the top at the current location and scale.\n",
    "\n",
    "Dragging to pan and using the mouse wheel to zoom still work while showing a perspective view.\n",
    "\n",
    "### Use the splitter functionality\n",
    "\n",
    "The splitter functionality allows you to compare a dataset for different time periods. To use it:\n",
    "\n",
    "* Select an area/location\n",
    "* Select a dataset from the catalogue to add it to the workbench\n",
    "* Select the **Split** link in the workbench to create a copy of the data already selected. Note that you can use the splitter with two different datasets, not just with copies of the same data\n",
    "* Select different times (using the date picker) for the “left” and “right” sections of the screen\n",
    "* Use the back and forward arrows to explore imagery and select cloud-free views\n",
    "* Drag the splitter on the screen to observe the differences\n",
    "\n",
    "[![Split functionality video](http://img.youtube.com/vi/H3htpdYAE7w/0.jpg)](http://www.youtube.com/watch?v=H3htpdYAE7w \"Split functionality\")\n"
   ]
  },
  {
   "cell_type": "markdown",
   "metadata": {},
   "source": [
    "## Upload Data to the Map\n",
    "\n",
    "There are two ways to load your data:\n",
    "\n",
    "1. Drag your data file onto the DE Africa Map map view. The format of the data file will be auto-detected.\n",
    "1. Select **Add Data** in the left panel. This will launch the data catalogue. Select the **My Data** tab at the top of the modal window and follow the provided instructions.\n",
    "\n",
    "As for DE Africa Map data sets, you can select regions or points to see the data available for that location. If the file is a CSV file, the data from all columns will be shown in the feature information dialogue.\n",
    "\n",
    "You can also use all of the features of the workbench on the data you have loaded as well.\n",
    "\n",
    "To share a view of your data with others, you must first publish it to the web somewhere with a URL, and then load it from there.\n",
    "\n",
    "DE Africa Map can display two kinds of spreadsheets:\n",
    "\n",
    "1. Spreadsheets with a point location (latitude and longitude) for each row, expressed as two columns: lat and lon. These will be displayed as points (circles).\n",
    "2. Spreadsheets where each row refers to a region such as a local government area (council), state, postcode, or ABS statistical unit such as an SA2 or CED (Commonwealth Electoral Division). Columns must be named according to the CSV-geo-au standard. These will be displayed as regions, highlighting the actual shape of each area.\n",
    "\n",
    "Spreadsheets must be saved as CSV (comma-separated values).\n",
    "\n",
    "Other standard spatial data types such as GeoJSON and KML are also supported.\n",
    "\n",
    "[![Upload Location](http://img.youtube.com/vi/XKP90TcBq6A/0.jpg)](http://www.youtube.com/watch?v=XKP90TcBq6A \"Upload Location\")"
   ]
  },
  {
   "cell_type": "markdown",
   "metadata": {},
   "source": [
    "Maps User Guide: https://maps.digitalearth.africa/help/help.html"
   ]
  }
 ],
 "metadata": {
  "kernelspec": {
   "display_name": "Python 3",
   "language": "python",
   "name": "python3"
  },
  "language_info": {
   "codemirror_mode": {
    "name": "ipython",
    "version": 3
   },
   "file_extension": ".py",
   "mimetype": "text/x-python",
   "name": "python",
   "nbconvert_exporter": "python",
   "pygments_lexer": "ipython3",
   "version": "3.6.9"
  }
 },
 "nbformat": 4,
 "nbformat_minor": 4
}