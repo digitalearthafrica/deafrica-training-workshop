{
 "cells": [
  {
   "cell_type": "markdown",
   "metadata": {},
   "source": [
    "# Course logistics"
   ]
  },
  {
   "cell_type": "markdown",
   "metadata": {},
   "source": [
    "## Course information\n",
    "\n",
    "* 6-week course, self-paced\n",
    "* Requires approximately 2 hours per week\n",
    "* Online learning resources\n",
    "* Online help\n",
    "\n",
    "Participants who successfully complete the course will receive certification at the end of training."
   ]
  },
  {
   "cell_type": "markdown",
   "metadata": {},
   "source": [
    "## Getting help\n",
    "\n",
    "The **Digital Earth Africa FAQ** can be found at [Frequently asked questions](Frequently_asked_questions.ipynb).\n",
    "\n",
    "An overview of the **Digital Earth Africa help documentation** can be found at [Help documentation](help_documentation.ipynb).\n",
    "\n",
    "**GitHub wiki:** The [GitHub wiki](https://github.com/digitalearthafrica/deafrica-sandbox-notebooks) contains a repository of help documentation and notebooks that cover common data analysis functions and questions. The files can be accessed without signing up. \n",
    "\n",
    "**Slack:** Slack is a platform for team communication and information sharing. Sign up to the [Open Data Cube Slack](http://slack.opendatacube.org/) and join the `#de-africa-training` channel. It is a friendly environment where anyone can ask questions about course content.\n"
   ]
  },
  {
   "cell_type": "markdown",
   "metadata": {},
   "source": [
    "## Course conveners\n",
    "\n",
    "Additional queries can be directed to the course conveners at [training@digitalearthafrica.org](mailto:training@digitalearthafrica.org).\n",
    "\n",
    "**Edward Boamah** &mdash; Technical Manager\n",
    "\n",
    "**Kenneth Mubea, PhD** &mdash; User Engagement Manager\n"
   ]
  }
 ],
 "metadata": {
  "kernelspec": {
   "display_name": "Python 3",
   "language": "python",
   "name": "python3"
  },
  "language_info": {
   "codemirror_mode": {
    "name": "ipython",
    "version": 3
   },
   "file_extension": ".py",
   "mimetype": "text/x-python",
   "name": "python",
   "nbconvert_exporter": "python",
   "pygments_lexer": "ipython3",
   "version": "3.6.9"
  }
 },
 "nbformat": 4,
 "nbformat_minor": 4
}
