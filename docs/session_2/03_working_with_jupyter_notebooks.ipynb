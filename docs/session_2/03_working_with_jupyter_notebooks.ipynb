{
 "cells": [
  {
   "cell_type": "markdown",
   "metadata": {},
   "source": [
    "# Working with Jupyter notebooks"
   ]
  },
  {
   "cell_type": "markdown",
   "metadata": {},
   "source": [
    "This document discusses the following aspects of Jupyter notebooks:\n",
    "\n",
    "1. Creating a Jupyter notebook\n",
    "1. Command mode and edit mode\n",
    "1. How to run cells\n",
    "1. Jupyter notebook cell types\n",
    "1. How to create and delete cells"
   ]
  },
  {
   "cell_type": "markdown",
   "metadata": {},
   "source": [
    "## Creating a Jupyter notebook"
   ]
  },
  {
   "cell_type": "markdown",
   "metadata": {},
   "source": [
    "These are the steps to create a Jupyter notebook:\n",
    "\n",
    "1. Browse to the directory in which you want to create a notebook.\n",
    "2. If the launcher is not the active tab in the right pane, click the + button at the top of the left pane to open the launcher in the right pane.\n",
    "    \n",
    "    ![image1](../_static/session_2/03_working_with_jupyter_notebooks_01_creating_notebook_open_launcher.png)\n",
    "\n",
    "3. In the Notebook section of the launcher, select the \"Python 3\" option to create a new notebook in the current directory.\n",
    "\n",
    "    ![image2](../_static/session_2/03_working_with_jupyter_notebooks_02_creating_notebook_launcher_button.png)\n",
    "\n",
    "4. The new notebook will be called \"Untitled.ipynb\", but you can rename it. \n",
    "\n",
    "   Right-click the notebook in the file menu and select \"Rename\".\n",
    "\n",
    "   ![image3](../_static/session_2/03_working_with_jupyter_notebooks_03_creating_notebook_rename_1.png)\n",
    "\n",
    "   Type in the desired name.\n",
    "\n",
    "   ![image4](../_static/session_2/03_working_with_jupyter_notebooks_04_creating_notebook_rename_2.png)\n",
    "\n",
    "   Press the Enter key to rename the notebook.\n",
    "\n",
    "   ![image5](../_static/session_2/03_working_with_jupyter_notebooks_05_creating_notebook_rename_3.png)"
   ]
  },
  {
   "cell_type": "markdown",
   "metadata": {},
   "source": [
    "## Command mode and edit mode\n",
    "\n",
    "There are 2 modes that a selected cell can be in: command mode and edit mode. \n",
    "\n",
    "A cell can be selected by clicking on it or using the up and down arrow keys when a cell is selected in command mode.\n",
    "\n",
    "If the cell is highlighted but there is no text cursor in the cell, then command mode is active. Otherwise, edit mode is active.\n",
    "\n",
    "If command mode is currently active, edit mode can be activated by pressing `Enter`. If edit mode is currently active, command mode can be activated by pressing `Esc`.\n",
    "\n",
    "Some keyboard shortcuts only work in command mode, some only work in edit mode, and others work in both command mode and edit mode."
   ]
  },
  {
   "cell_type": "markdown",
   "metadata": {},
   "source": [
    "## Recap: How to run cells\n",
    "\n",
    "One way of running cells is to select a cell and then click on the run button in the ribbon.\n",
    "\n",
    "![image6](../_static/session_2/03_working_with_jupyter_notebooks_08_run_cell_ribbon_1.png)\n",
    "\n",
    "![image7](../_static/session_2/03_working_with_jupyter_notebooks_09_run_cell_ribbon_2.png)\n",
    "\n",
    "If there is a cell after the cell being run, it will be selected. If there is no cell after the cell being run, a new code cell will be created after it.\n",
    "\n",
    "You can also use the shortcut `Shift + Enter` to run a cell and select the next cell - creating one if the current cell is the last cell."
   ]
  },
  {
   "cell_type": "markdown",
   "metadata": {},
   "source": [
    "## Jupyter notebook cell types\n",
    "The Jupyter notebook cell types are Code, Markdown, and Raw. \n",
    "The type of a cell can be changed by selecting it and using the ribbon at the top of the notebook pane.\n",
    "\n",
    "![image8](../_static/session_2/03_working_with_jupyter_notebooks_06_ribbon_change_cell_type.png)\n",
    "\n",
    "When in command mode, the shortcut `M` changes the selected cell to markdown and the shortcut `Y` changes the selected cell to code."
   ]
  },
  {
   "cell_type": "markdown",
   "metadata": {},
   "source": [
    "### Code cells\n",
    "\n",
    "All code operations are performed in Code cells. \n",
    "Code cells can be used to edit and write new code, and perform tasks like loading data, plotting data, and running analyses. \n",
    "\n",
    "Here is an example of an evaluated code cell:"
   ]
  },
  {
   "cell_type": "code",
   "execution_count": 1,
   "metadata": {},
   "outputs": [
    {
     "name": "stdout",
     "output_type": "stream",
     "text": [
      "This is a code cell\n"
     ]
    }
   ],
   "source": [
    "print(\"This is a code cell\")"
   ]
  },
  {
   "cell_type": "markdown",
   "metadata": {},
   "source": [
    "### Markdown cells\n",
    "Cells with formatted text or images in them like this are markdown cells.\n",
    "\n",
    "Running markdown cells produces formatted versions of them.\n",
    "\n",
    "Markdown cells provide the narrative to a notebook, often describing code operations in following cells. \n",
    "\n",
    "To see some of the formatting options for text in a Markdown cell, navigate to the \"Help\" tab of the ribbon and select \"Markdown Reference\".\n",
    "Here you will see a wide range of text formatting options including headings, dot points, italics, hyperlinking and creating tables.\n",
    "\n",
    "![image9](../_static/session_2/03_working_with_jupyter_notebooks_07_markdown_reference.png)"
   ]
  },
  {
   "cell_type": "markdown",
   "metadata": {},
   "source": [
    "### Raw cells\n",
    "Information in Raw cells is stored in the notebook metadata and can be used to render different code formats into HTML or LaTeX.\n",
    "There are a range of available Raw cell formats that differ depending on how they are to be rendered.\n",
    "Raw cells are rarely used and not required for most notebook users."
   ]
  },
  {
   "cell_type": "markdown",
   "metadata": {},
   "source": [
    "## How to create and delete cells"
   ]
  },
  {
   "cell_type": "markdown",
   "metadata": {},
   "source": [
    "Cells can be created by clicking on the + button in the ribbon. The new cell will be created after the currently selected cell.\n",
    "\n",
    "![image10](../_static/session_2/03_working_with_jupyter_notebooks_10_create_cell_ribbon_1.png)\n",
    "![image11](../_static/session_2/03_working_with_jupyter_notebooks_11_create_cell_ribbon_2.png)\n",
    "\n",
    "When in command mode, a cell can be created below the selected cell by pressing `B` or above the selected cell by pressing `A`.\n",
    "\n",
    "When in command mode, a cell can be deleted by pressing `D` twice."
   ]
  },
  {
   "cell_type": "markdown",
   "metadata": {},
   "source": [
    "## More information"
   ]
  },
  {
   "cell_type": "markdown",
   "metadata": {},
   "source": [
    "There are many more Jupyter notebook keyboard shortcuts than the ones mentioned here. For more information about them, see [this article](https://towardsdatascience.com/jypyter-notebook-shortcuts-bf0101a98330).\n",
    "\n",
    "For more information about the JupyterLab interface see [the documentation](https://jupyterlab.readthedocs.io/en/latest/).\n",
    "\n",
    "If you would like to review more Jupyter Notebook tutorials, have a look at the available [help documentation](../session_1/05_help_documentation.ipynb)."
   ]
  }
 ],
 "metadata": {
  "kernelspec": {
   "display_name": "Python 3",
   "language": "python",
   "name": "python3"
  },
  "language_info": {
   "codemirror_mode": {
    "name": "ipython",
    "version": 3
   },
   "file_extension": ".py",
   "mimetype": "text/x-python",
   "name": "python",
   "nbconvert_exporter": "python",
   "pygments_lexer": "ipython3",
   "version": "3.6.9"
  }
 },
 "nbformat": 4,
 "nbformat_minor": 4
}
