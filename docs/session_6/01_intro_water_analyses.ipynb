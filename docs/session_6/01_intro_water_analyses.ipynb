{
 "cells": [
  {
   "cell_type": "markdown",
   "metadata": {},
   "source": [
    "# Introduction to water analyses"
   ]
  },
  {
   "cell_type": "markdown",
   "metadata": {},
   "source": [
    "## Overview"
   ]
  },
  {
   "cell_type": "markdown",
   "metadata": {},
   "source": [
    "In the [last session](../session_5/02_vegetation_exercise.ipynb), we learned how to construct a complete case study, focussing on vegetation. In this session, we will construct a new case study, focussing on water. This will involve learning to use the Water Observations from Space (WOfS) dataset, which is discussed more below."
   ]
  },
  {
   "cell_type": "markdown",
   "metadata": {},
   "source": [
    "## The significance of water\n",
    "\n",
    "There are many useful analyses that involve water, such as:\n",
    "\n",
    "* Detection of mangroves, which can lessen damage from water surges, such as from storms and tsunamis\n",
    "* Reporting for indicators in the United Nations (UN) Sustainable Development Goals (SDGs) that involve water. For example, [Goal 6](https://sdgs.un.org/goals/goal6) is about water and sanitation. Some example indicators that the Open Data Cube can facilitate reporting for include: \n",
    "    1. Indicator 6.3.2: Proportion of bodies of water with good ambient water quality\n",
    "    1. Indicator 6.6.1: Change in the extent of water-related ecosystems over time\n",
    "* Detection of coastal erosion.\n",
    "* Detection of drought."
   ]
  },
  {
   "cell_type": "markdown",
   "metadata": {},
   "source": [
    "## Real world example notebooks"
   ]
  },
  {
   "cell_type": "markdown",
   "metadata": {},
   "source": [
    "There are several notebooks in the Digital Earth Africa sandbox that analyze water bodies. These case study notebooks can be found in the Sandbox folder called **Real_world_examples**. \n",
    "\n",
    "The **Real_world_examples** folder contains many case studies; the notebooks related to water are summarised below."
   ]
  },
  {
   "cell_type": "markdown",
   "metadata": {},
   "source": [
    "* `Chlorophyll_monitoring.ipynb`\n",
    "\n",
    "This notebook monitors chlorophyll-a in water bodies using Sentinel-2 data. Chlorophyll-a can indicate the presence of algal blooms, and monitoring this with satellite imagery can provide insights into water quality. The notebook plots the value of the Normalised Difference Chlorophyll Index (NDCI) along with water body area to understand how the presence of clorophyll-a changes with time."
   ]
  },
  {
   "cell_type": "markdown",
   "metadata": {},
   "source": [
    "* `Coastal_erosion.ipynb`\n",
    "\n",
    "This notebook monitors coastal erosion with Landsat 8 data. Using satellites to monitor coastal change over large areas can be cost-effective strategy. This notebook extracts shorelines from composite measures of the Modified Normalised Difference Water Index (MNDWI) and plots how they change from year to year."
   ]
  },
  {
   "cell_type": "markdown",
   "metadata": {},
   "source": [
    "* `Intertidal_elevation.ipynb`  \n",
    "\n",
    "This notebook models tides with Landsat 5, 7, and 8 data. By examining the presence of water between low and high tide, the notebook builds up a 3D elevation map of inter-tidal zones such as sandy beaches and rocky shores."
   ]
  },
  {
   "cell_type": "markdown",
   "metadata": {},
   "source": [
    "* `Radar_water_detection.ipynb`\n",
    "\n",
    "This notebook detects water using Sentinel-1 (radar) data. Sometimes cloud cover makes it impossible to conduct a successful water analysis of optical data. To combat this, this notebook uses radar data to detect water; radar waves pass through clouds allowing the detection of water in cloudy conditions. This can be useful during heavy rain events."
   ]
  },
  {
   "cell_type": "markdown",
   "metadata": {},
   "source": [
    "* `Water_extent.ipynb` \n",
    "\n",
    "This notebook determines the extent of water bodies using the Water Observations from Space dataset, which is based on Landsat. This notebook relates to Sustainable Development Goals around the spatial extent of water systems. This is an important first step in monitoring the change of water systems over time.\n",
    "\n",
    "The exercise in this session, Session 6, will contain instructions to create a similar notebook."
   ]
  },
  {
   "cell_type": "markdown",
   "metadata": {},
   "source": [
    "## Water detection with WOfS"
   ]
  },
  {
   "cell_type": "markdown",
   "metadata": {},
   "source": [
    "We detect water with the Water Observations from Space (WOfS) algorithm from Geoscience Australia, which is trained on Landsat data from 1987 to the present (more info [here](https://www.ga.gov.au/scientific-topics/community-safety/flood/wofs/about-wofs)).\n",
    "\n",
    "Our base product of WOfS water classification data is **ga_ls8c_wofs_2**, which tracks the presence of water over time. It has a single measurement  - **water** - for which there are many possible values which represent different classifications for the data. If `dc` is a `datacube.Datacube` object, then `dc.list_measurements().loc[\"ga_ls8c_wofs_2\", \"water\"]['flags_definition']` will show information regarding the significance of different values for this measurement. That information shows that the classification `'wet'` has `'values': {'128': True}`, so if we have data from the product **ga_ls8c_wofs_2** in a variable called `water_ds`, then we can find which pixels WOfS has classified as water with `water_ds.water == 128`.\n",
    "\n",
    "We also have an annual summary product called **ga_ls8c_wofs_2_annual_summary**, which records how often a pixel was classified as water in a given year. This is useful for comparing the presence of water over different years. It has 3 measurements - **count_wet**, **count_clear** and **frequency**."
   ]
  }
 ],
 "metadata": {
  "kernelspec": {
   "display_name": "Python 3",
   "language": "python",
   "name": "python3"
  },
  "language_info": {
   "codemirror_mode": {
    "name": "ipython",
    "version": 3
   },
   "file_extension": ".py",
   "mimetype": "text/x-python",
   "name": "python",
   "nbconvert_exporter": "python",
   "pygments_lexer": "ipython3",
   "version": "3.7.4"
  }
 },
 "nbformat": 4,
 "nbformat_minor": 4
}
