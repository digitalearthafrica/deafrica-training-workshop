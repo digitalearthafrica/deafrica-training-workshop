{
 "cells": [
  {
   "cell_type": "markdown",
   "metadata": {},
   "source": [
    "# Building a case study: vegetation analysis"
   ]
  },
  {
   "cell_type": "markdown",
   "metadata": {},
   "source": [
    "<img align=\"middle\" src=\"../_static/session_5/01_vegetation_analysis_ch.PNG\" alt=\"Screenshot from the crop health notebook.\" width=\"600\">"
   ]
  },
  {
   "cell_type": "markdown",
   "metadata": {},
   "source": [
    "*The Crop Health notebook investigated in Session 1 is an example of a case study. We now have enough knowledge of the Sandbox to build a similar comprehensive vegetation analysis.*"
   ]
  },
  {
   "cell_type": "markdown",
   "metadata": {},
   "source": [
    "## Overview"
   ]
  },
  {
   "cell_type": "markdown",
   "metadata": {},
   "source": [
    "In the [last session](../session_4/03_calculate_ndvi_part_2.ipynb), we calculated the Normalised Difference Vegetation Index (NDVI) as a method of measuring green vegetation over an area of interest. \n",
    "\n",
    "The index made the Earth observation data easier to analyse, and allowed comparison across time periods. In our NDVI map of a cropping field, we could see there were seasonal variations over the quarterly geomedians. However, that information by itself provides little context for further use. Why are we looking at this field? Do the results fit what we were expecting to see? What can we use this information for?\n",
    "\n",
    "The analysis method you apply to Digital Earth Africa data will depend on **what you want to know**. Now that we know more about the strengths and limitations of vegetation indices, we can use them to form the basis of a complete case study that informs a user of a real-world outcome.\n",
    "\n",
    "This session will show you how to extend dataset calculations into a meaningful report. This section outlines some common goals of vegetation analysis, and provides references to examples of case study notebooks. The following sections will walk through a tutorial on how to construct a notebook on vegetation change detection."
   ]
  },
  {
   "cell_type": "markdown",
   "metadata": {},
   "source": [
    "## The significance of vegetation"
   ]
  },
  {
   "cell_type": "markdown",
   "metadata": {},
   "source": [
    "<img align=\"middle\" src=\"../_static/session_5/01_vegetation_analysis_crop.PNG\" alt=\"A crop field in Africa.\" width=\"600\">"
   ]
  },
  {
   "cell_type": "markdown",
   "metadata": {},
   "source": [
    "*Food security is a major focus of the UN's Sustainable Development Goals (SDGs). The SDGs are a key tenet of the Digital Earth Africa program.* [[Image source](https://rcmrd.org/servir-regional-cropland-assessment-and-monitoring-service)]"
   ]
  },
  {
   "cell_type": "markdown",
   "metadata": {},
   "source": [
    "Growing things are a cornerstone of life on Earth. Monitoring vegetation can give us insight into:\n",
    "\n",
    "* **Agriculture:** including cropping, seasonal patterns and changes in land use\n",
    "\n",
    "* **Environment health and industry:** including forestry, logging and mining\n",
    "\n",
    "* **Climate:** including desertification and drought"
   ]
  },
  {
   "cell_type": "markdown",
   "metadata": {},
   "source": [
    "## Real world example notebooks"
   ]
  },
  {
   "cell_type": "markdown",
   "metadata": {},
   "source": [
    "Several case studies based on vegetation indices have already been made using the Digital Earth Africa Sandbox. These case study notebooks can be found in the Sandbox folder called **Real_world_examples**. \n",
    "\n",
    "The **Real_world_examples** folder contains many case studies; the notebooks related to vegetation are summarised below."
   ]
  },
  {
   "cell_type": "markdown",
   "metadata": {},
   "source": [
    "* `Crop_health.ipynb`\n",
    "\n",
    "This notebook draws upon the crop health app function to calculate NDVI for selected fields. By comparing two polygons within the area, it is possible to assess the fields for crop health and productivity over time.\n",
    "\n",
    "Session 1 used this crop health notebook as an example of Sandbox capability.\n"
   ]
  },
  {
   "cell_type": "markdown",
   "metadata": {},
   "source": [
    "* `Vegetation_change_detection.ipynb`\n",
    "\n",
    "This notebook visualises vegetation change over time. Areas where vegetation has increased compared to a baseline time are marked in blue, while areas where vegetation has decreased are output as red. This change is indexed using either NDVI, or the Enhanced Vegetation Index (EVI). The notebook allows the user to choose which index is being used.\n",
    "\n",
    "The exercise in this session, Session 5, will contain instructions to create a similar notebook."
   ]
  },
  {
   "cell_type": "raw",
   "metadata": {
    "raw_mimetype": "text/restructuredtext"
   },
   "source": [
    ".. note::\n",
    "    It is recommended you open these notebooks in the Sandbox, from the folder called **Real_world_examples**. This will allow you to run the pre-prepared code for yourself. However, they can also be viewed at the `Digital Earth Africa notebook repository <https://github.com/digitalearthafrica/deafrica-sandbox-notebooks/tree/master/Real_world_examples>`_, which will display a read-only HTML version from GitHub."
   ]
  },
  {
   "cell_type": "markdown",
   "metadata": {},
   "source": [
    "## Structuring a case study"
   ]
  },
  {
   "cell_type": "markdown",
   "metadata": {},
   "source": [
    "If you opened up some of the real world example notebooks, you might notice they are more complicated than the exercises in this training course. However, they all have the same structure.\n",
    "\n",
    "Each notebook you have made from the training course exercises, as well as each real world example notebook, consist of six fundamental components.\n",
    "\n",
    "1. Load packages and functions\n",
    "2. Connect to the datacube\n",
    "3. Define the area of interest using longitude and latitude\n",
    "4. Load data from the datacube\n",
    "5. Perform analysis or calculation on the data (such as calculating an index)\n",
    "6. Plot the results\n",
    "\n",
    "The **Real_world_examples** notebooks go a few steps further:\n",
    "\n",
    "* Frame the analysis in the context of a question or purpose &mdash; this is normally introduced at the start of the notebook\n",
    "* Extend results analysis and discussion\n"
   ]
  },
  {
   "cell_type": "markdown",
   "metadata": {},
   "source": [
    "<img align=\"middle\" src=\"../_static/session_5/01_vegetation_analysis_casestudy.PNG\" alt=\"Components of a \" width=\"600\">"
   ]
  },
  {
   "cell_type": "markdown",
   "metadata": {},
   "source": [
    "## Conclusion"
   ]
  },
  {
   "cell_type": "markdown",
   "metadata": {},
   "source": [
    "With some understanding of the context behind spatial data analysis, we are now ready to create our own case study notebook. This week's exercise is about incorporating the additional two steps (analysis purpose, and additional results discussion) to make a well-rounded case study."
   ]
  }
 ],
 "metadata": {
  "kernelspec": {
   "display_name": "Python 3",
   "language": "python",
   "name": "python3"
  },
  "language_info": {
   "codemirror_mode": {
    "name": "ipython",
    "version": 3
   },
   "file_extension": ".py",
   "mimetype": "text/x-python",
   "name": "python",
   "nbconvert_exporter": "python",
   "pygments_lexer": "ipython3",
   "version": "3.7.4"
  }
 },
 "nbformat": 4,
 "nbformat_minor": 4
}
