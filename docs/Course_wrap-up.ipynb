{
 "cells": [
  {
   "cell_type": "markdown",
   "metadata": {},
   "source": [
    "# Course conclusion & wrap-up"
   ]
  },
  {
   "cell_type": "raw",
   "metadata": {
    "raw_mimetype": "text/restructuredtext",
    "tags": []
   },
   "source": [
    ".. note:: \n",
    "    **Training at Digital Earth Africa has moved!** Register at `learn.digitalearthafrica.org <https://learn.digitalearthafrica.org/>`_ to enrol in the revised and updated 6-week training course, now called `Intro to Sandbox <https://learn.digitalearthafrica.org/courses/course-v1:digitalearthafrica+DEA101+2021/about>`_ (EN) and `Introduction à la sandbox <https://learn.digitalearthafrica.org/courses/course-v1:digitalearthafrica+DEA101-fr+2021/about>`_ (FR). Find out more about the move on `our blog <https://www.digitalearthafrica.org/media-center/blog/now-available-learning-platform-and-new-intro-sandbox-course>`_.\n",
    "    \n",
    "    Quiz links are no longer available from this website. Please complete the Intro to Sandbox course on  `learn.digitalearthafrica.org <https://learn.digitalearthafrica.org/>`_ to receive a certificate.\n",
    "    \n",
    "    **La formation à Digital Earth Africa a déménagé !** Connectez-vous sur `learn.digitalearthafrica.org <https://learn.digitalearthafrica.org/>`_ pour vous inscrire à la formation révisée et mise à jour, désormais appelée `Icntroduction à la sandbox <https://learn.digitalearthafrica.org/courses/course-v1:digitalearthafrica+DEA101-fr+2021/about>`_ (FR) et `Intro to Sandbox <https://learn.digitalearthafrica.org/courses/course-v1:digitalearthafrica+DEA101+2021/about>`_ (EN). En savoir plus sur le déménagement en consultant `notre blog <https://www.digitalearthafrica.org/media-center/blog/now-available-learning-platform-and-new-intro-sandbox-course>`_.\n",
    "\n",
    "    Les liens de quiz ne sont plus disponibles sur ce site Web. Veuillez suivre le cours Introduction à la sandbox sur `learn.digitalearthafrica.org <https://learn.digitalearthafrica.org/>`_ pour recevoir un certificat."
   ]
  },
  {
   "cell_type": "markdown",
   "metadata": {},
   "source": [
    "## Congratulations! You have reached the end of the Digital Earth Africa training course."
   ]
  },
  {
   "cell_type": "markdown",
   "metadata": {},
   "source": [
    "Over the six sessions, you have learnt how to\n",
    "\n",
    "\n",
    "* Run data analysis notebooks in the Digital Earth Africa Sandbox.\n",
    "* Check data availability for an area of interest using the Digital Earth Africa Maps portal and Metadata Explorer.\n",
    "* Load Earth observation data from a variety of products, including Landsat 8 and Sentinel-2.\n",
    "* Recognise the importance of composite images in providing cloud-free scenes.\n",
    "* Understand band indices and their role in multi-spectral data analysis.\n",
    "* Select a suitable band index for analysis purposes.\n",
    "* Visualise data by plotting maps.\n",
    "\n",
    "\n",
    "In the Sandbox, you are able to\n",
    "\n",
    "\n",
    "* Set up a notebook with common packages and functions.\n",
    "* Connect to the Open Data Cube to retrieve data.\n",
    "* Load data both with and without cloud masking.\n",
    "* Create geomedian composites.\n",
    "* Calculate band indices such as NDVI.\n",
    "* Construct complete case studies based on vegetation or water indices.\n"
   ]
  },
  {
   "cell_type": "markdown",
   "metadata": {},
   "source": [
    "This is a significant achievement. Well done!"
   ]
  },
  {
   "cell_type": "markdown",
   "metadata": {},
   "source": [
    "<img align=\"middle\" src=\"./_static/other_information/finalpage_1.PNG\" alt=\"Plot montage\" width=\"700\" />\n",
    "\n",
    "*A snapshot of some of the different plots you have created over the course of the six training sessions.*"
   ]
  },
  {
   "cell_type": "markdown",
   "metadata": {},
   "source": [
    "## What next?"
   ]
  },
  {
   "cell_type": "markdown",
   "metadata": {},
   "source": [
    "You now have insight to Digital Earth Africa, and experience with the Sandbox. There are many ways you can take this further. To continue expanding your skills, here are some suggestions on exploring the platform capabilities and functions. "
   ]
  },
  {
   "cell_type": "markdown",
   "metadata": {},
   "source": [
    "### 1. Complete the training course participant survey\n",
    "\n",
    "Your feedback, suggestions and ideas are very important to us. Filling in this [short survey](https://forms.gle/QSuoFWXuevyKTgVZ7) will provide us with insight to continue refining and developing training material tailored for Digital Earth Africa users."
   ]
  },
  {
   "cell_type": "markdown",
   "metadata": {},
   "source": [
    "### 2. Modify case studies for your area of interest"
   ]
  },
  {
   "cell_type": "markdown",
   "metadata": {},
   "source": [
    "In Sessions 5 and 6, we built case studies looking at vegetation change with EVI, and water extent over time with Water Observations from Space (WOfS). \n",
    "\n",
    "Make a copy of those notebooks and change the area of interest. You could investigate:\n",
    "\n",
    "* NDVI or EVI over an area of cropland in your country \n",
    "* Water extent fluctuations over dams or water catchments "
   ]
  },
  {
   "cell_type": "markdown",
   "metadata": {},
   "source": [
    "### 3. Consolidate your Python knowledge using the Python basics and Beginner's Guide tutorials"
   ]
  },
  {
   "cell_type": "markdown",
   "metadata": {},
   "source": [
    "During the six sessions, we gradually introduced Python coding concepts with hands-on examples. If you would like to study the theory behind some of the functions and commands we used, have a look at the [Extra session: Python basics](./python_basics/01_jupyter.ipynb) module, and the **Beginners_guide** folder in the Sandbox."
   ]
  },
  {
   "cell_type": "markdown",
   "metadata": {},
   "source": [
    "The **Beginners_guide** series of notebooks provide background information, code examples, and a range of applications. Some of this material will be familiar to you, but many of the notebooks contain extra details that can help solidify your understanding of the Sandbox mechanics."
   ]
  },
  {
   "cell_type": "markdown",
   "metadata": {},
   "source": [
    "### 4. Explore real world examples"
   ]
  },
  {
   "cell_type": "markdown",
   "metadata": {},
   "source": [
    "The case studies we created in Sessions 5 and 6 were based off more complex analyses documented in the **Real_world_examples** folder of the Sandbox."
   ]
  },
  {
   "cell_type": "markdown",
   "metadata": {},
   "source": [
    "These case studies often have a few more data processing steps than the exercises in the training course. After reviewing the Beginner's Guide contents, these steps should be more accessible and easy to understand."
   ]
  },
  {
   "cell_type": "markdown",
   "metadata": {},
   "source": [
    "Use the real world example notebooks to inspire your analysis and improve your data processing technique."
   ]
  },
  {
   "cell_type": "markdown",
   "metadata": {},
   "source": [
    "### 5. Advance your analysis with code snippets"
   ]
  },
  {
   "cell_type": "markdown",
   "metadata": {},
   "source": [
    "Real world examples are great for generating ideas and providing examples of case study structure. However, when you are writing your own case studies, you may find code snippets in the **Frequently_used_code** folder even more helpful. "
   ]
  },
  {
   "cell_type": "markdown",
   "metadata": {},
   "source": [
    "The **Frequently_used_code** folder contains a series of notebooks demonstrating code doing useful and common functions. This includes plotting boundary or contour lines, exporting files, incorporating external datasets and masking data. They can be easily adapted into your own notebooks."
   ]
  },
  {
   "cell_type": "markdown",
   "metadata": {},
   "source": [
    "## Keep in contact"
   ]
  },
  {
   "cell_type": "markdown",
   "metadata": {},
   "source": [
    "Thank you for joining us to explore Digital Earth Africa. We hope you found the training course helpful and informative.\n",
    "\n",
    "We are always keen to see what our users have created &mdash; feel free to share your results by tagging us on Twitter at [#DigitalEarthAfrica](https://twitter.com/DEarthAfrica)."
   ]
  }
 ],
 "metadata": {
  "kernelspec": {
   "display_name": "Python 3 (ipykernel)",
   "language": "python",
   "name": "python3"
  },
  "language_info": {
   "codemirror_mode": {
    "name": "ipython",
    "version": 3
   },
   "file_extension": ".py",
   "mimetype": "text/x-python",
   "name": "python",
   "nbconvert_exporter": "python",
   "pygments_lexer": "ipython3",
   "version": "3.8.10"
  }
 },
 "nbformat": 4,
 "nbformat_minor": 4
}
