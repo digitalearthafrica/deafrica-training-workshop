{
 "cells": [
  {
   "cell_type": "markdown",
   "metadata": {},
   "source": [
    "# Calculate NDVI: Part 2 of 2"
   ]
  },
  {
   "cell_type": "markdown",
   "metadata": {},
   "source": [
    "Keep going in your current notebook from previous page\n",
    "\n",
    "Calculate NDVI as a new variable (do not add as measurement to ds)\n",
    "Red = ds[‘red’]\n",
    "Nir = ds[‘nir’]\n",
    "\n",
    "Ndvi = (nir - red)/(nir + red)\n",
    "Inspect NDVI DataArray after calculation to see structure\n",
    "\n",
    "Plot NDVI for first geomedian use Ndvi.isel(‘time’=0).plot()\n",
    "\n",
    "Calculate average over area for each geomedian, make  time series plot\n",
    "Ndvi.mean(dims=[‘x’, ‘y’]).plot()\n",
    "\n",
    "Congratulations! Summaries the week\n"
   ]
  },
  {
   "cell_type": "markdown",
   "metadata": {},
   "source": [
    "*Will finish setting up this notebook skeleton on Monday.* "
   ]
  },
  {
   "cell_type": "code",
   "execution_count": null,
   "metadata": {},
   "outputs": [],
   "source": []
  }
 ],
 "metadata": {
  "kernelspec": {
   "display_name": "Python 3",
   "language": "python",
   "name": "python3"
  },
  "language_info": {
   "codemirror_mode": {
    "name": "ipython",
    "version": 3
   },
   "file_extension": ".py",
   "mimetype": "text/x-python",
   "name": "python",
   "nbconvert_exporter": "python",
   "pygments_lexer": "ipython3",
   "version": "3.6.9"
  }
 },
 "nbformat": 4,
 "nbformat_minor": 4
}
