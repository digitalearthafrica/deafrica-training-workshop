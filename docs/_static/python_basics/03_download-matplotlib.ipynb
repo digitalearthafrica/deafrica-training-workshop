{
 "cells": [
  {
   "cell_type": "markdown",
   "metadata": {},
   "source": [
    "## Introduction to matplotlib's pyplot"
   ]
  },
  {
   "cell_type": "markdown",
   "metadata": {},
   "source": [
    "We are going to use a part of matplotlib called pyplot. We can import pyplot by specifying it comes from matplotlib. We will abbreviate `pyplot` to `plt`. "
   ]
  },
  {
   "cell_type": "code",
   "execution_count": null,
   "metadata": {},
   "outputs": [],
   "source": [
    "%matplotlib inline \n",
    "# Generates plots in the same page instead of opening a new window\n",
    "\n",
    "import numpy as np\n",
    "from matplotlib import pyplot as plt"
   ]
  },
  {
   "cell_type": "markdown",
   "metadata": {},
   "source": [
    "Images are 2-dimensional arrays containing pixels. We can use 2-dimensional arrays to represent image data and visualise with matplotlib. \n",
    "\n",
    "In the example below, we will use the numpy `arange` function to generate a 1-dimensional array filled with elements from `0` to `99`, and then reshape it into a 2-dimensional array using `reshape`. "
   ]
  },
  {
   "cell_type": "code",
   "execution_count": null,
   "metadata": {},
   "outputs": [],
   "source": [
    "arr = np.arange(100).reshape(10,10)\n",
    "\n",
    "print(arr)\n",
    "\n",
    "plt.imshow(arr)"
   ]
  },
  {
   "cell_type": "markdown",
   "metadata": {},
   "source": [
    "If you remember from the [last tutorial](./02_numpy.ipynb), we were able to address regions of a numpy array using the square bracket `[ ]` index notation. For multi-dimensional arrays we can use a comma `,` to distignuish between axes. \n",
    "\n",
    "```python\n",
    "[ first dimension, second dimension, third dimension, etc. ]\n",
    "```\n",
    "\n",
    "As before, we use colons `:` to denote `[ start : end : stride ]`. We can do this for each dimension.\n",
    "\n",
    "For example, we can update the values on the left part of this array to be equal to `1`."
   ]
  },
  {
   "cell_type": "code",
   "execution_count": null,
   "metadata": {},
   "outputs": [],
   "source": [
    "arr = np.arange(100).reshape(10,10)\n",
    "arr[:, :5] = 1\n",
    "\n",
    "plt.imshow(arr)"
   ]
  },
  {
   "cell_type": "markdown",
   "metadata": {},
   "source": [
    "The indexes in the square brackets of `arr[:, :5]` can be broken down like this:\n",
    "\n",
    "```python\n",
    "[ 1st dimension start : 1st dimension end, 2nd dimension start : 2nd dimension end ]\n",
    "```\n",
    "\n",
    "Our first dimension is the vertical axis, and the second dimension is the horizontal axis. Their spans are marked by the colon `:` and the dimensions separated by the comma `,`. Therefore:\n",
    "\n",
    "```python\n",
    "[ Vertical start : Vertical end, Horizontal start : Horizontal end ]\n",
    "```\n",
    "\n",
    "If there are no indexes entered, then the array will take all values. This means `[:, :5]` gives:\n",
    "\n",
    "```python\n",
    "[ Vertical start : Vertical end, Horizontal start : Horizontal start + 5 ]\n",
    "```\n",
    "\n",
    "Therefore the array index selected the first 5 pixels along the width, at all vertical values."
   ]
  },
  {
   "cell_type": "markdown",
   "metadata": {},
   "source": [
    "Now let's see what that looks like on an actual image."
   ]
  },
  {
   "cell_type": "markdown",
   "metadata": {},
   "source": [
    "> **Tip**: Ensure you uploaded the file `Guinea_Bissau.JPG` to your **Training** folder along with the tutorial notebook. We will be using this file in the next few steps and exercises."
   ]
  },
  {
   "cell_type": "markdown",
   "metadata": {},
   "source": [
    "We can use the pyplot library to load an image using the matplotlib function `imread`. `imread` reads in an image file as a 3-dimensional numpy array. This makes it easy to manipulate the array. \n",
    "\n",
    "By convention, the first dimension corresponds to the vertical axis, the second to the horizontal axis and the third are the Red, Green and Blue channels of the image. Red-green-blue channels conventionally take on values from 0 to 255."
   ]
  },
  {
   "cell_type": "code",
   "execution_count": null,
   "metadata": {},
   "outputs": [],
   "source": [
    "im = np.copy(plt.imread('Guinea_Bissau.JPG'))\n",
    "\n",
    "# This file path (red text) indicates 'Guinea_Bissau.JPG' is in the\n",
    "# same folder as the tutorial notebook. If you have moved or \n",
    "# renamed the file, the file path must be edited to match.\n",
    "\n",
    "im.shape"
   ]
  },
  {
   "cell_type": "markdown",
   "metadata": {},
   "source": [
    "`Guinea_Bissau.JPG` is an image of Rio Baboque in Guinea-Bissau in 2018. It has been generated from Landsat 8 satellite data."
   ]
  },
  {
   "cell_type": "markdown",
   "metadata": {},
   "source": [
    "The results of the above cell show that the image is 590 pixels tall, 602 pixels wide, and has 3 channels. The three channels are red, green, and blue (in that order)."
   ]
  },
  {
   "cell_type": "markdown",
   "metadata": {},
   "source": [
    "Let's display this image using the pyplot `imshow` function."
   ]
  },
  {
   "cell_type": "code",
   "execution_count": null,
   "metadata": {},
   "outputs": [],
   "source": [
    "plt.imshow(im)"
   ]
  },
  {
   "cell_type": "markdown",
   "metadata": {},
   "source": [
    "## Exercises"
   ]
  },
  {
   "cell_type": "markdown",
   "metadata": {},
   "source": [
    "### 3.1 Let's use the indexing functionality of numpy to select a portion of this image. Select the top-right corner of this image with shape `(200,200)`.\n",
    "> **Hint:** Remember there are three dimensions in this image. Colons separate spans, and commas separate dimensions."
   ]
  },
  {
   "cell_type": "code",
   "execution_count": null,
   "metadata": {},
   "outputs": [],
   "source": [
    "# We already defined im above, but if you have not,\n",
    "# you can un-comment and run the next line\n",
    "\n",
    "# im = np.copy(plt.imread('Guinea_Bissau.JPG'))\n",
    "\n",
    "# Fill in the question marks with the correct indexes\n",
    "topright = im[?,?,?]\n",
    "\n",
    "# Plot your result using imshow\n",
    "plt.imshow(topright)"
   ]
  },
  {
   "cell_type": "markdown",
   "metadata": {},
   "source": [
    "If you have selected the correct corner, there should be not much water in it!"
   ]
  },
  {
   "cell_type": "markdown",
   "metadata": {},
   "source": [
    "### 3.2 Let's have a look at one of the pixels in this image. We choose the top-left corner with position `(0,0)` and show the values of its RGB channels."
   ]
  },
  {
   "cell_type": "code",
   "execution_count": null,
   "metadata": {},
   "outputs": [],
   "source": [
    "# Run this cell to see the colour channel values\n",
    "\n",
    "im[0,0]"
   ]
  },
  {
   "cell_type": "markdown",
   "metadata": {},
   "source": [
    "The first value corresponds to the red component, the second to the green and the third to the blue. `uint8` can contain values in the range `[0-255]` so the pixel has a lot of red, some green, and not much blue. This pixel is a orange-yellow sandy colour."
   ]
  },
  {
   "cell_type": "markdown",
   "metadata": {},
   "source": [
    "Now let's modify the image. \n",
    "\n",
    "### What happens if we set all the values representing the blue channel to the maximum value?"
   ]
  },
  {
   "cell_type": "code",
   "execution_count": null,
   "metadata": {},
   "outputs": [],
   "source": [
    "# Run this cell to set all blue channel values to 255\n",
    "# We first make a copy to avoid modifying the original image\n",
    "\n",
    "im2 = np.copy(im)\n",
    "\n",
    "im2[:,:,2] = 255\n",
    "\n",
    "plt.imshow(im2)"
   ]
  },
  {
   "cell_type": "markdown",
   "metadata": {},
   "source": [
    "> The index notation `[:,:,2]` is selecting pixels at all heights and all widths, but only the 3rd colour channel. "
   ]
  },
  {
   "cell_type": "markdown",
   "metadata": {},
   "source": [
    "### Can you modify the above code cell to set all red values to the maximum value of `255`?"
   ]
  },
  {
   "cell_type": "markdown",
   "metadata": {},
   "source": [
    "## Conclusion"
   ]
  },
  {
   "cell_type": "markdown",
   "metadata": {},
   "source": [
    "We have successfully practised indexing numpy arrays and plotting those arrays using matplotlib. We can now also read a file into Python using `pyplot.imread`. The next lesson covers data cleaning and masking."
   ]
  }
 ],
 "metadata": {
  "kernelspec": {
   "display_name": "Python 3",
   "language": "python",
   "name": "python3"
  },
  "language_info": {
   "codemirror_mode": {
    "name": "ipython",
    "version": 3
   },
   "file_extension": ".py",
   "mimetype": "text/x-python",
   "name": "python",
   "nbconvert_exporter": "python",
   "pygments_lexer": "ipython3",
   "version": "3.6.9"
  }
 },
 "nbformat": 4,
 "nbformat_minor": 4
}
