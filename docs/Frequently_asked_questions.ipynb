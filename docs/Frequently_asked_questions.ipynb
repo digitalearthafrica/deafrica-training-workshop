{
 "cells": [
  {
   "cell_type": "markdown",
   "metadata": {},
   "source": [
    "# Frequently asked questions"
   ]
  },
  {
   "cell_type": "markdown",
   "metadata": {},
   "source": [
    "## I forgot my DE Africa Sandbox password. How do I reset it?\n",
    "\n",
    "Visit the Sandbox homepage at [https://sandbox.digitalearth.africa/hub/login](https://sandbox.digitalearth.africa/hub/login) and click **Login or Sign up**. Click **Forgot your password?** and follow the instructions to reset your password.\n"
   ]
  },
  {
   "cell_type": "markdown",
   "metadata": {},
   "source": [
    "## I accidentally deleted a pre-loaded notebook in the Sandbox. How do I get it back?\n",
    "\n",
    "The DE Africa Sandbox session automatically loads several folders of default notebooks. If you have accidentally deleted any of the folders or notebooks, they can be restored by restarting the server. \n",
    "1. Save any open working files.\n",
    "2. Select **File -> Log Out**. This will take you back to the login page.\n",
    "3. Click **Login or Sign up**.\n",
    "4. Enter your Sandbox login details and click **Sign in**. \n",
    "5. Select **Default environment** and press **Start**.\n",
    "\n",
    "This should reload all default folders and notebooks for the DE Africa Sandbox. Note that this will **not** overwrite files that have been added, renamed, or modified. Additionally, this only applies to default pre-loaded files and will not restore personal notebooks that have been deleted."
   ]
  }
 ],
 "metadata": {
  "kernelspec": {
   "display_name": "Python 3",
   "language": "python",
   "name": "python3"
  },
  "language_info": {
   "codemirror_mode": {
    "name": "ipython",
    "version": 3
   },
   "file_extension": ".py",
   "mimetype": "text/x-python",
   "name": "python",
   "nbconvert_exporter": "python",
   "pygments_lexer": "ipython3",
   "version": "3.6.9"
  }
 },
 "nbformat": 4,
 "nbformat_minor": 4
}
