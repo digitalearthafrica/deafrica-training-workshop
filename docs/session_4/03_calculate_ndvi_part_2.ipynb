{
 "cells": [
  {
   "cell_type": "markdown",
   "metadata": {},
   "source": [
    "# Calculating NDVI: Part 2\n",
    "\n",
    "This exercise follows on from the previous section. In the [final exercise of the previous session](../session_4/03_calculate_ndvi_part_2.ipynb), you constructed a notebook to resample the sentinel dataset to quaterly time steps.\n",
    "\n",
    "In this section, you will conitnue from where you ended in the previous session. Most of the code will remain unchanged, but we will introduce a add a new measurement to the existing measurements which will enable us to calculate and plot NDVI."
   ]
  },
  {
   "cell_type": "raw",
   "metadata": {
    "raw_mimetype": "text/restructuredtext"
   },
   "source": [
    ".. note::\n",
    "    We will be using the notebook we created in the previous section. If you have not already set up a copy of the notebook called ``Calculate_ndvi.ipynb`` with the required packages and functions, follow the instructions in previous section. Ensure you have completed all the steps, including loading the Sentinel-2 dataset."
   ]
  },
  {
   "cell_type": "markdown",
   "metadata": {},
   "source": [
    "## Open and run notebook\n",
    "\n",
    "If you are following directly on from the last section, you can skip this step. If you have closed your Sandbox browser tab or disconnected from the Internet between exercises, follow these steps to ensure correct package imports and connection to the datacube.\n",
    "\n",
    "1. Navigate to the **Training** folder.\n",
    "2. Double-click `Calculate_ndvi.ipynb`. It will open in the Launcher.\n",
    "3. Select **Kernel -> Restart Kernel and Clear All Outputs…**.\n",
    "4. When prompted, select **Restart**."
   ]
  },
  {
   "cell_type": "markdown",
   "metadata": {},
   "source": [
    "### Making changes to the load Cell\n",
    "Make the following changes below to modify the load cell.\n",
    "\n",
    "\n",
    "### Adding `nir` measurement\n",
    "\n",
    "To calculate NDVI, we need to load Sentinel-2's near-infrared band (`nir` in the Sandbox).\n",
    "To add the band, modify the load cell according to the step below:\n",
    "\n",
    "1. Add `nir` to the measurements array.\n",
    "\n",
    "    ```\n",
    "    measurements = ['red', 'green', 'blue', 'nir']\n",
    "    ```\n",
    "\n",
    "If you completed the above step 1, your load cell should look like:\n",
    "\n",
    "    sentinel_2_ds = load_ard(\n",
    "        dc=dc,\n",
    "        products=[\"s2_l2a\"],\n",
    "        x=x, y=y,\n",
    "        time=(\"2019-01\", \"2019-12\"),\n",
    "        output_crs=\"EPSG:6933\",\n",
    "        measurements=['red', 'green', 'blue', 'nir'],\n",
    "        resolution=(-10, 10),\n",
    "        group_by='solar_day')\n"
   ]
  },
  {
   "cell_type": "markdown",
   "metadata": {},
   "source": [
    "### Running the notebook\n",
    "\n",
    "1. Select **Kernel -> Restart Kernel and Run All Cells…**.\n",
    "2. When prompted, select **Restart**.\n",
    "\n",
    "The notebook may take a little while to run. Check all the cells have run successfully with no error messages.\n",
    "\n",
    "Did you noticed any additional data variables to the `sentinel_2_ds`?\n",
    "\n",
    "<img align=\"middle\" src=\"images/4a.PNG\" alt=\"The DE Africa Sandbox Jupyterlab tutorial image.\" width=\"100%\">"
   ]
  },
  {
   "cell_type": "markdown",
   "metadata": {},
   "source": [
    "### Creating a new Cell\n",
    "\n",
    "After successfully running the notebook, this cell will be the last cell\n",
    "\n",
    "`geomedian_resample`\n",
    "\n",
    "<img align=\"middle\" src=\"images/4.PNG\" alt=\"The DE Africa Sandbox Jupyterlab tutorial image.\" width=\"100%\">\n",
    "\n",
    "Follow the steps below to create a new cell\n",
    "\n",
    "1. Make sure the last cell is selected.\n",
    "2. Press the `Esc` key, then follow it by pressing the `B` key. A new cell will be created below the current cell.\n",
    "\n",
    "Use the method above to create a new cell"
   ]
  },
  {
   "cell_type": "markdown",
   "metadata": {},
   "source": [
    "### Manually calculate an index\n",
    "One of the most commonly used remote sensing indices is the Normalised Difference Vegetation Index or `NDVI`. \n",
    "This index uses the ratio of the red and near-infrared (NIR) bands to identify live green vegetation.\n",
    "The formula for NDVI is:\n",
    "\n",
    "$$\n",
    "\\begin{aligned}\n",
    "\\text{NDVI} & = \\frac{(\\text{NIR} - \\text{Red})}{(\\text{NIR} + \\text{Red})} \\\\\n",
    "\\end{aligned}\n",
    "$$\n",
    "\n",
    "When interpreting this index, high values indicate vegetation, and low values indicate soil or water.\n"
   ]
  },
  {
   "cell_type": "markdown",
   "metadata": {},
   "source": [
    "### Calculate NDVI\n",
    "\n",
    "In a new cell, calculate the NDVI for the resampled geomedian dataset. To make it simpler, you can store the red and near-infrared bands in new variables, then calculate the NDVI using those variables, as shown below:\n",
    "\n",
    "```\n",
    "    nir = geomedian_resample.nir\n",
    "    red = geomedian_resample.red\n",
    "    \n",
    "    NDVI = (nir - red) / (nir + red)\n",
    "```\n",
    "Run the cell using `Shift + Enter`\n",
    "\n",
    "### Plot NDVI for each geomedian\n",
    "\n",
    "Our calculation is now stored in the `NDVI` variable. To visualise it, we can attach the `.plot()` method, which will give us an image of the NDVI for each geomedian in our dataset. We can then customise the plot by passing parameters to the `.plot()` method, as shown below:\n",
    "\n",
    "\n",
    "```\n",
    "    NDVI.plot(col='time', vmin=-0.50, vmax=0.8, cmap='RdYlGn')\n",
    "```\n",
    "\n",
    "Run the cell using `Shift + Enter`\n",
    "\n",
    "* `col='time'` tells the plot that we want to display one image for each time step in our dataset.\n",
    "* `vmin=-0.50` tells the plot to display all values below `-0.50` as the same colour. This can help keep contrast in the images (remember that NDVI can take values from -1 to 1).\n",
    "* `vmax=0.8` tells the plot to display all values above `0.8` as the same colour. This can help keep contrast in the images (remember that NDVI can take values from -1 to 1).\n",
    "* `cmap='RdYlGn'` tells the plot to display the NDVI values using a colour scale that ranges from red for low values to green for high values. This helps us because healthy vegetation shows up as green, and non-vegetation shows up as red.\n",
    "\n",
    "If you implement the NDVI plotting code correctly, you should see the image below:\n",
    "\n",
    "<img align=\"middle\" src=\"images/5.PNG\" alt=\"The DE Africa Sandbox Jupyterlab tutorial image.\" width=\"100%\">\n",
    "\n",
    "In the image above, vegetation shows up as green (NDVI > 0). \n",
    "Sand shows up as yellow (NDVI ~ 0) and water shows up as red (NDVI < 0)."
   ]
  },
  {
   "cell_type": "markdown",
   "metadata": {},
   "source": [
    "### Plot time series of the NDVI area \n",
    "\n",
    "While it is useful to see the NDVI values over the whole area in the plots above, it can sometimes be useful to calculate summary statistics, such as the mean NDVI for each geomedian. This can quickly reveal trends in vegetation health across time.\n",
    "\n",
    "To calculate the mean NDVI, we can apply the `.mean()` method to our NDVI variable. We can also then apply the `.plot()` method to see the result, as shown below:\n",
    "\n",
    "\n",
    "```\n",
    "    NDVI.mean(dim=['x', 'y']).plot(size=6)\n",
    "```\n",
    "Run the cell using `Shift + Enter`\n",
    "\n",
    "* `NDVI.mean(dim=['x', 'y'])` calculates the mean over all pixels, indicated by `dim=['x', 'y']`. To instead calculate the mean over all times, you would write `dim=['time']`.\n",
    "* `NDVI.mean(dim=['x', 'y']).plot(size=6)` calculates the mean over all pixels, then plots the result. The `size=6` argument specifies the size of the plot.\n",
    "\n",
    "If you implement the calculation and plotting code correctly, you should see the image below:\n",
    "\n",
    "<img align=\"middle\" src=\"images/6.PNG\" alt=\"The DE Africa Sandbox Jupyterlab tutorial image.\" width=\"100%\">\n",
    "\n",
    "Rather than a spatial view of NDVI at each time step, we see a single value (the mean NDVI) for each time.\n",
    "\n",
    "If you would like to add a title and y-axis label to this plot, you can add the following code below the command to calculate and plot the mean:\n",
    "\n",
    "```\n",
    "NDVI.mean(dim=['x', 'y']).plot(size=6)\n",
    "plt.title('Quarterly Trend in NDVI')\n",
    "plt.ylabel('Mean NDVI')\n",
    "```\n",
    "\n",
    "<img align=\"middle\" src=\"images/7.PNG\" alt=\"The DE Africa Sandbox Jupyterlab tutorial image.\" width=\"100%\">\n",
    "\n",
    "Run the cell using `Shift + Enter`"
   ]
  },
  {
   "cell_type": "markdown",
   "metadata": {},
   "source": [
    "## Conclusion\n",
    "\n",
    "Congratulations! You have successfully calculated and visualised the NDVI for a series of geomedian composite images.\n",
    "\n",
    "If you'd like to experiment futher, try running the code with different areas. Did you learn anything interesting to share with us?"
   ]
  }
 ],
 "metadata": {
  "kernelspec": {
   "display_name": "Python 3",
   "language": "python",
   "name": "python3"
  },
  "language_info": {
   "codemirror_mode": {
    "name": "ipython",
    "version": 3
   },
   "file_extension": ".py",
   "mimetype": "text/x-python",
   "name": "python",
   "nbconvert_exporter": "python",
   "pygments_lexer": "ipython3",
   "version": "3.8.3"
  }
 },
 "nbformat": 4,
 "nbformat_minor": 4
}
