{
 "cells": [
  {
   "cell_type": "markdown",
   "metadata": {},
   "source": [
    "# Data availability"
   ]
  },
  {
   "cell_type": "markdown",
   "metadata": {},
   "source": [
    "In the [previous section](./02_deafrica_map.ipynb), we loaded the Landsat 8 dataset onto the [Digital Earth Africa Map](https://maps.digitalearth.africa/) and saw it only covers certain parts of Africa on each day. The [section on Digital Earth Africa products](./01_products_intro.ipynb) tells us Landsat 8 data is only available at certain times in some countries. \n",
    "\n",
    "How do we know specifically **where** and **when** data is available? Before we start any analysis, we can answer this question by verifying existing data on the [Digital Earth Africa Metadata Explorer](https://explorer.digitalearth.africa/). The Metadata Explorer can be found at https://explorer.digitalearth.africa/.\n",
    "\n"
   ]
  },
  {
   "cell_type": "markdown",
   "metadata": {},
   "source": [
    "## Overview\n",
    "\n",
    "In this section, we will use the [Digital Earth Africa Metadata Explorer](https://explorer.digitalearth.africa/) to check where data is available for a selected time period. The place we will investigate is Tanzania, for the time period of 2018. "
   ]
  },
  {
   "cell_type": "markdown",
   "metadata": {},
   "source": [
    "## Map or Explorer?\n",
    "\n",
    "The [Digital Earth Africa Metadata Explorer](https://explorer.digitalearth.africa/) and [Digital Earth Africa Map](https://maps.digitalearth.africa/) might look similar, but they are designed for different purposes. \n",
    "\n",
    "Use the [Digital Earth Africa Map](https://maps.digitalearth.africa/) if you:\n",
    "\n",
    "* Want to see what the product or dataset looks like\n",
    "\n",
    "Use the [Digital Earth Africa Metadata Explorer](https://explorer.digitalearth.africa/) if you:\n",
    "\n",
    "* Want to know where and when you can find data"
   ]
  },
  {
   "cell_type": "markdown",
   "metadata": {},
   "source": [
    "## Exercise: Data for Tanzania in 2018"
   ]
  },
  {
   "cell_type": "markdown",
   "metadata": {},
   "source": [
    "### Open the Digital Earth Africa Metadata Explorer"
   ]
  },
  {
   "cell_type": "markdown",
   "metadata": {},
   "source": [
    "1. Open [https://explorer.digitalearth.africa/](https://explorer.digitalearth.africa/). This will display the Metadata Explorer user interface."
   ]
  },
  {
   "cell_type": "markdown",
   "metadata": {},
   "source": [
    "<img align=\"middle\" src=\"../_static/session_2/explorer_ui1.PNG\" alt=\"The DE Africa Metadata Explorer.\" width=600>"
   ]
  },
  {
   "cell_type": "markdown",
   "metadata": {},
   "source": [
    "The Digital Earth Africa Metadata Explorer has four main sections.\n",
    "\n",
    "1. **Product selection:** This shows the currently-selected product. Click the selected product name to open the products dropdown menu.\n",
    "2. **Time period:** This shows the time period for which the selected product is being displayed. Click the selected time period to open the time selection dropdown menu.\n",
    "3. **Map display:** This shows where data is available, for the selected time and product. Blue shaded tiles indicate the presence of data.\n",
    "4. **Product information:** The sidebar shows more information about the data for the selected time and product. For example, this includes how many datasets are selected, the name of the datasets in the product, and its coordinate reference system."
   ]
  },
  {
   "cell_type": "markdown",
   "metadata": {},
   "source": [
    "### Select the Landsat 8 product"
   ]
  },
  {
   "cell_type": "markdown",
   "metadata": {},
   "source": [
    "1. Click the **product selection** bar to open the dropdown menu. Select **ls8_usgs_sr_scene**. This selects the Landsat 8 product.\n",
    "\n",
    "<img align=\"middle\" src=\"../_static/session_2/explorer_ls8.PNG\" alt=\"Metadata Explorer Landsat 8.\" width=600>\n",
    "\n",
    "2. Click the **time** bar to open the dropdown menu. Select **2018**. This will show all Landsat 8 datasets for 2018.\n",
    "\n",
    "<img align=\"middle\" src=\"../_static/session_2/explorer_2018.PNG\" alt=\"Metadata Explorer Landsat 8 2018.\" width=600>\n",
    "\n",
    "3. The **map display** will now show all the Landsat 8 datasets for the year of 2018 as blue shaded boxes. Use the **+** button on the map to zoom in, and click and drag to pan the map. \n",
    "\n",
    "<img align=\"middle\" src=\"../_static/session_2/explorer_zoom.PNG\" alt=\"Metadata Explorer Landsat 8 2018.\" width=600>\n",
    "\n",
    "We can see that there is only data available for some African countries. Let's take a closer look at Tanzania."
   ]
  },
  {
   "cell_type": "markdown",
   "metadata": {},
   "source": [
    "### Zoom in on Tanzania"
   ]
  },
  {
   "cell_type": "markdown",
   "metadata": {},
   "source": [
    "Use the map's **+** button to zoom in on Africa. Click and drag to see Tanzania.\n",
    "\n",
    "<img align=\"middle\" src=\"../_static/session_2/explorer_tanzania.PNG\" alt=\"Metadata Explorer Landsat 8 2018.\" width=600>\n",
    "\n",
    "We can see the data for 2018 (blue shaded boxes) covers all of Tanzania, which means areas within Tanzania are a suitable location to choose for data analysis. For example, we would not be able to do any 2018 Landsat 8 analysis over the city of Nacala in Mozambique, as it does not have any data available for that time."
   ]
  },
  {
   "cell_type": "markdown",
   "metadata": {},
   "source": [
    "## Conclusion"
   ]
  },
  {
   "cell_type": "markdown",
   "metadata": {},
   "source": [
    "You now know how to use the Digital Earth Africa Metadata Explorer to check where and when you can perform data analysis. The next step is loading the data."
   ]
  }
 ],
 "metadata": {
  "kernelspec": {
   "display_name": "Python 3",
   "language": "python",
   "name": "python3"
  },
  "language_info": {
   "codemirror_mode": {
    "name": "ipython",
    "version": 3
   },
   "file_extension": ".py",
   "mimetype": "text/x-python",
   "name": "python",
   "nbconvert_exporter": "python",
   "pygments_lexer": "ipython3",
   "version": "3.6.9"
  }
 },
 "nbformat": 4,
 "nbformat_minor": 4
}
