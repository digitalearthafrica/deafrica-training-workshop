{
 "cells": [
  {
   "cell_type": "markdown",
   "metadata": {},
   "source": [
    "# Working with Jupyter cells"
   ]
  },
  {
   "cell_type": "markdown",
   "metadata": {},
   "source": [
    "This notebook discusses the following aspects of Jupyter notebooks:\n",
    "1. How to create a Jupyter notebook.\n",
    "1. How to run cells.\n",
    "1. The types of cells.\n",
    "1. How to create and delete cells.\n",
    "1. How to modify cells."
   ]
  },
  {
   "cell_type": "markdown",
   "metadata": {},
   "source": [
    "## Creating a Jupyter notebook"
   ]
  },
  {
   "cell_type": "markdown",
   "metadata": {},
   "source": [
    "These are the steps to create a Jupyter notebook:\n",
    "1. Browse to the directory in which you want to create a notebook.\n",
    "2. If the launcher is not the active tab in the right pane, click the + button at the top of the left pane to open the launcher in the right pane. <br>\n",
    "<img align=\"middle\" src=\"../_static/session_2/03_working_with_jupyter_notebooks_01_creating_notebook_open_launcher.png\" width=\"500\">\n",
    "3. In the Notebook section of the launcher, select the \"Python 3\" option to create a new notebook in the current directory.<br>\n",
    "<img align=\"center\" src=\"../_static/session_2/03_working_with_jupyter_notebooks_02_creating_notebook_launcher_button.png\" width=\"500\">\n",
    "4. The new notebook will be called \"Untitled.ipynb\", but you can rename it by right-clicking the notebook in the file menu, selecting \"Rename\", typing in the desired name, and then pressing the Enter key.<br>\n",
    "<div class=\"column\" style=\"float:left;\">\n",
    "    <img align=\"center\" src=\"../_static/session_2/03_working_with_jupyter_notebooks_03_creating_notebook_rename_1.png\" width=\"500\">\n",
    "</div>\n",
    "<div class=\"column\" style=\"float:left;\">\n",
    "    <div><img align=\"center\" src=\"../_static/session_2/03_working_with_jupyter_notebooks_04_creating_notebook_rename_2.png\" width=\"500\"></div>\n",
    "    <div><img align=\"center\" src=\"../_static/session_2/03_working_with_jupyter_notebooks_05_creating_notebook_rename_3.png\" width=\"500\"></div>\n",
    "</div>"
   ]
  },
  {
   "cell_type": "markdown",
   "metadata": {},
   "source": [
    "## How to run cells\n",
    "\n",
    "The most basic but also least convenient method of running cells is to select a cell and then click on the run button in the ribbon.\n",
    "Note that a cell can be selected by either clicking on it or using the up and down arrow keys to change the selected cell when a cell is already selected.\n",
    "If a cell is currently being edited, press the \"Esc\" key to stop editing that cell and select it instead.\n",
    "\n",
    "\n",
    "<div class=\"column\" style=\"float: left;\">\n",
    "    Button\n",
    "    <div><img align=\"center\" src=\"../_static/session_2/03_working_with_jupyter_notebooks_08_run_cell_ribbon_1.png\" width=\"500\"></div>\n",
    "</div>\n",
    "\n",
    "<div class=\"column\">\n",
    "    Result\n",
    "    <div><img align=\"center\" src=\"../_static/session_2/03_working_with_jupyter_notebooks_09_run_cell_ribbon_2.png\" width=\"500\"></div>\n",
    "</div>\n",
    "\n",
    "If there is a cell after the cell being run, it will be selected. If there is no cell after the cell being run, a new code cell will be created after it.\n",
    "\n",
    "There are also several keyboard shortcuts that can be used to run cells conveniently. They all only work if a cell is currently selected:\n",
    "- `Ctrl + Enter` Runs a cell and keeps it as the selected cell. This is useful for testing a cell, since simply pressing the Enter key after running will begin editing the cell.\n",
    "- `Shift + Enter` Runs a cell and selects the next cell - creating one if the current cell is the last cell.\n",
    "- `Alt + Enter` Runs a cell and creates a cell after it."
   ]
  },
  {
   "cell_type": "markdown",
   "metadata": {},
   "source": [
    "## Jupyter notebook cell types\n",
    "The Jupyter notebook cell types are Code, Markdown, and Raw. \n",
    "The type of a cell can be changed by selecting it and using the ribbon at the top of the notebook pane.\n",
    "<div><img align=\"center\" src=\"../_static/session_2/03_working_with_jupyter_notebooks_06_ribbon_change_cell_type.png\" width=\"500\"></div>\n",
    "\n",
    "The shortcut `M` changes the selected cell to markdown. The shortcut `Y` changes the selected cell to code."
   ]
  },
  {
   "cell_type": "markdown",
   "metadata": {},
   "source": [
    "### Code cells\n",
    "\n",
    "All code operations are performed in Code cells. \n",
    "Code cells can be used to edit and write new code, and perform tasks like loading data, plotting data and running analyses. \n",
    "\n",
    "Click on the cell below. \n",
    "Note that the ribbon describes it as a Code cell."
   ]
  },
  {
   "cell_type": "code",
   "execution_count": 1,
   "metadata": {},
   "outputs": [
    {
     "name": "stdout",
     "output_type": "stream",
     "text": [
      "This is a code cell\n"
     ]
    }
   ],
   "source": [
    "print(\"This is a code cell\")"
   ]
  },
  {
   "cell_type": "markdown",
   "metadata": {},
   "source": [
    "### Markdown cells\n",
    "Place the cursor in this cell by double clicking it or selecting it and pressing `Enter`.\n",
    "\n",
    "The cell format has changed to allow for editing. \n",
    "Note that the ribbon describes this as a Markdown cell.\n",
    "\n",
    "Run this cell to return the formatted version.\n",
    "\n",
    "Markdown cells provide the narrative to a notebook.\n",
    "They are used for text and are useful to describe the code operations in the following cells. \n",
    "To see some of the formatting options for text in a Markdown cell, navigate to the \"Help\" tab of the ribbon and select \"Markdown Reference\".\n",
    "Here you will see a wide range of text formatting options including headings, dot points, italics, hyperlinking and creating tables.\n",
    "\n",
    "<div><img align=\"center\" src=\"../_static/session_2/03_working_with_jupyter_notebooks_07_markdown_reference.png\" width=\"500\"></div>"
   ]
  },
  {
   "cell_type": "markdown",
   "metadata": {},
   "source": [
    "### Raw cells\n",
    "Information in Raw cells is stored in the notebook metadata and can be used to render different code formats into HTML or LaTeX.\n",
    "There are a range of available Raw cell formats that differ depending on how they are to be rendered.\n",
    "Raw cells are rarely used and not required for most notebook users."
   ]
  },
  {
   "cell_type": "markdown",
   "metadata": {},
   "source": [
    "## How to create and delete cells"
   ]
  },
  {
   "cell_type": "markdown",
   "metadata": {},
   "source": [
    "Cells can be created by clicking on the + button in the ribbon. The new cell will be created after the currently selected cell.\n",
    "<div>\n",
    "    <img align=\"center\" src=\"../_static/session_2/03_working_with_jupyter_notebooks_10_create_cell_ribbon_1.png\" width=\"500\">\n",
    "    <img align=\"center\" src=\"../_static/session_2/03_working_with_jupyter_notebooks_11_create_cell_ribbon_2.png\" width=\"500\">\n",
    "</div>\n",
    "\n",
    "A cell can be created below the selected cell by pressing `B` or above the selected cell by pressing `A`.\n",
    "\n",
    "As mentioned above, cells can also be created with the `Alt + Enter` and `Shift + Enter` keyboard shortcuts for running cells."
   ]
  },
  {
   "cell_type": "markdown",
   "metadata": {},
   "source": [
    "## How to modify cells"
   ]
  },
  {
   "cell_type": "markdown",
   "metadata": {},
   "source": [
    "To modify a cell, you can select it and press the Enter key.\n",
    "\n",
    "Code cells can be edited by clicking within them."
   ]
  }
 ],
 "metadata": {
  "kernelspec": {
   "display_name": "Python 3",
   "language": "python",
   "name": "python3"
  },
  "language_info": {
   "codemirror_mode": {
    "name": "ipython",
    "version": 3
   },
   "file_extension": ".py",
   "mimetype": "text/x-python",
   "name": "python",
   "nbconvert_exporter": "python",
   "pygments_lexer": "ipython3",
   "version": "3.6.9"
  }
 },
 "nbformat": 4,
 "nbformat_minor": 4
}
