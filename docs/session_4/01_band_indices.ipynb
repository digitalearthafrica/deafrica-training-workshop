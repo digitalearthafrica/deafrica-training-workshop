{
 "cells": [
  {
   "cell_type": "markdown",
   "metadata": {},
   "source": [
    "# Bands and band indices"
   ]
  },
  {
   "cell_type": "markdown",
   "metadata": {},
   "source": [
    "## What is a band?\n",
    "\n",
    "* Explain bands \n",
    "* What are bands used for?\n",
    "* *They are mentioned in Session 2 - products but not in great detail - as part of spectral resolution*"
   ]
  },
  {
   "cell_type": "markdown",
   "metadata": {},
   "source": [
    "## Band indices"
   ]
  },
  {
   "cell_type": "markdown",
   "metadata": {},
   "source": [
    "*|| Multispectral band indices video here ||*\n",
    "\n",
    "*Video content:*\n",
    "* *What is a band index?*\n",
    "* *What do they do?*\n",
    "* *How do we calculate them?*\n",
    "* *Quick example of NDVI showing healthy vegetation vs not*"
   ]
  },
  {
   "cell_type": "markdown",
   "metadata": {},
   "source": [
    "*Written Text*\n",
    "* General concept of difference over sum\n",
    "* Vary from -1 to 1 \n",
    "* Different indices measuring different things can be calculated using different bands "
   ]
  },
  {
   "cell_type": "markdown",
   "metadata": {},
   "source": [
    "### Normalised Difference Vegetation Index (NDVI)"
   ]
  },
  {
   "cell_type": "markdown",
   "metadata": {},
   "source": [
    "* One example of a band index is the Normalised Difference Vegetation Index (NDVI)\n",
    "* Used for ...\n",
    "* Calculated by... (formula)\n",
    "* Explain why NDVI measures veg - gives off nir when healthy\n",
    "\n",
    "Two example images: high ndvi vs low ndvi + explanatory caption"
   ]
  },
  {
   "cell_type": "code",
   "execution_count": null,
   "metadata": {},
   "outputs": [],
   "source": []
  }
 ],
 "metadata": {
  "kernelspec": {
   "display_name": "Python 3",
   "language": "python",
   "name": "python3"
  },
  "language_info": {
   "codemirror_mode": {
    "name": "ipython",
    "version": 3
   },
   "file_extension": ".py",
   "mimetype": "text/x-python",
   "name": "python",
   "nbconvert_exporter": "python",
   "pygments_lexer": "ipython3",
   "version": "3.6.9"
  }
 },
 "nbformat": 4,
 "nbformat_minor": 4
}
