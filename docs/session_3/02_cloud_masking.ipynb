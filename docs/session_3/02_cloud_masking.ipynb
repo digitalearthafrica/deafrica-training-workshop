{
 "cells": [
  {
   "cell_type": "markdown",
   "metadata": {},
   "source": [
    "# Cloud masking with `load_ard()`"
   ]
  },
  {
   "cell_type": "markdown",
   "metadata": {},
   "source": [
    "In this exercise, we will apply a cloud mask to Sentinel-2 data off the coast of Ghana. Cloud masks are important as they remove bad data points from our dataset, so we can form a reliable composite image."
   ]
  },
  {
   "cell_type": "markdown",
   "metadata": {},
   "source": [
    "## Make a new notebook"
   ]
  },
  {
   "cell_type": "markdown",
   "metadata": {},
   "source": [
    "Like in the last exercise, we will begin by making a new, blank Jupyter notebook. If you want more detailed instructions on making a new notebook, see [this section in the exercise on loading data in the Sandbox](../session_2/04_load_data_exercise.ipynb#Make-a-new-notebook) from the previous session. Otherwise, follow the steps below.\n",
    "\n",
    "1. Navigate to the **Training** folder (or create this folder following the instructions in [Session 1](../session_1/04_running_a_notebook.ipynb)).\n",
    "2. Click the **+** button and click **Python 3** under the **Notebook** section.\n",
    "3. Rename your file so you know it is from this exercise. We will use this notebook for working with geomedians, so let us call it `Geomedian_composite.ipynb`.\n",
    "4. Open the notebook."
   ]
  },
  {
   "cell_type": "markdown",
   "metadata": {},
   "source": [
    "## Set up notebook"
   ]
  },
  {
   "cell_type": "markdown",
   "metadata": {},
   "source": [
    "### Load packages and functions\n",
    "\n",
    "In the first cell, type the following code and then run the cell. Recall that cells can be run by pressing `Shift + Enter` on your keyboard.\n",
    "\n",
    "![image1](../_static/session_3/02_cloud_masking_01_imports.png)"
   ]
  },
  {
   "cell_type": "markdown",
   "metadata": {},
   "source": [
    "We used most of these packages and functions in the previous exercise on loading data in the Sandbox. `rgb` is for plotting true-colour images. `display_map` is for visualising the area we are mapping.\n",
    "\n",
    "In this session we introduce two new functions: `load_ard` and `xr_geomedian`. We will use `load_ard` to load data so it is cloud masked, and `xr_geomedian` is used in the next section to compute the geomedian."
   ]
  },
  {
   "cell_type": "markdown",
   "metadata": {},
   "source": [
    "### Connect to the datacube\n",
    "\n",
    "Enter the following code and run the cell to create our `dc` object, which provides access to the datacube.\n",
    "\n",
    "![image2](../_static/session_3/02_cloud_masking_02_connect_to_the_datacube.png)"
   ]
  },
  {
   "cell_type": "markdown",
   "metadata": {},
   "source": [
    "Your notebook is now set up. Next, we will load cloud-masked data using `load_ard()`."
   ]
  },
  {
   "cell_type": "markdown",
   "metadata": {},
   "source": [
    "## Load data with `load_ard()`"
   ]
  },
  {
   "cell_type": "raw",
   "metadata": {
    "raw_mimetype": "text/restructuredtext"
   },
   "source": [
    ".. note::\n",
    "    If you experience errors when running cells, check out the `troubleshooting code guide <../session_2/04_load_data_exercise.ipynb#Troubleshooting-code>`_ from the previous session."
   ]
  },
  {
   "cell_type": "markdown",
   "metadata": {},
   "source": [
    "Let us take a look at a coastal area in Ghana. Enter the following code and run it to display a map of the area. As before, `x` denotes longitude and `y` denotes latitude."
   ]
  },
  {
   "cell_type": "markdown",
   "metadata": {},
   "source": [
    "<img align=\"middle\" src=\"../_static/session_3/02_cloud_masking_displaymap.PNG\" alt=\"Example of display_map input and output.\" width=\"700\">"
   ]
  },
  {
   "cell_type": "markdown",
   "metadata": {},
   "source": [
    "In the new cell below, enter the following code, and then run it to load Sentinel-2 data. It will generate the output text `Using pixel quality parameters for Sentinel 2 ...`. The output text tells us we have loaded 4 timesteps."
   ]
  },
  {
   "cell_type": "markdown",
   "metadata": {},
   "source": [
    "<img align=\"middle\" src=\"../_static/session_3/02_cloud_masking_loadard.png\" alt=\"Using load_ard.\" width=\"700\">"
   ]
  },
  {
   "cell_type": "markdown",
   "metadata": {},
   "source": [
    "Take note of some of the differences between `dc.load()` and `load_ard`.\n",
    "\n",
    "* `dc=dc` is a required parameter for `load_ard()`. This links the data search to the datacube connection, which we defined in the notebook setup as `dc`.\n",
    "* The paramter for loading products is `products` (plural) not `product` as it is in `dc.load()`.\n",
    "* Product items must be listed inside square brackets `[]`, which is not required for `dc.load()`.\n",
    "* `min_gooddata` stands for 'minimum good data' and discards observations with less than the fractional requisite of good quality pixels."
   ]
  },
  {
   "cell_type": "raw",
   "metadata": {
    "raw_mimetype": "text/restructuredtext"
   },
   "source": [
    ".. note::\n",
    "    ``s2_l2a`` stands for **S**\\ entinel-**2** **L**\\evel-**2A**. The fourth character is a lower-case alphabet 'l'. Double-check you have entered the product name correctly to avoid errors."
   ]
  },
  {
   "cell_type": "markdown",
   "metadata": {},
   "source": [
    "We can use the same `rgb` plotting code as in the last session to show an RGB image of one of the timesteps. Let's start with the first timestep, which has an `index` of `0`."
   ]
  },
  {
   "cell_type": "markdown",
   "metadata": {},
   "source": [
    "<img align=\"middle\" src=\"../_static/session_3/02_cloud_masking_cloudmask1.png\" alt=\"Plotting an RGB of the first timestep.\" width=\"700\">"
   ]
  },
  {
   "cell_type": "markdown",
   "metadata": {},
   "source": [
    "This should produce a single RGB image as shown below. What happens if you try changing the `index` number?"
   ]
  },
  {
   "cell_type": "markdown",
   "metadata": {},
   "source": [
    "<img align=\"middle\" src=\"../_static/session_3/02_cloud_masking_rgbout.PNG\" alt=\"Output RGB of the first timestep.\" width=\"550\">"
   ]
  },
  {
   "cell_type": "markdown",
   "metadata": {},
   "source": [
    "If we want to see RGB images of all the timesteps at once, we can replace the `index` parameter with the `col` parameter. The parameter `col` stands for 'column'. Specifying `col='time'` creates a row of images for the timesteps."
   ]
  },
  {
   "cell_type": "markdown",
   "metadata": {},
   "source": [
    "<img align=\"middle\" src=\"../_static/session_3/02_cloud_masking_cloudmask2.png\" alt=\"Plotting RGBs of all timestep.\" width=\"700\">"
   ]
  },
  {
   "cell_type": "markdown",
   "metadata": {},
   "source": [
    "The output should look like this.\n",
    "\n",
    "<img align=\"middle\" src=\"../_static/session_3/02_cloud_masking_colout.PNG\" alt=\"Output RGBs from col=time.\" width=\"800\">"
   ]
  },
  {
   "cell_type": "markdown",
   "metadata": {},
   "source": [
    "## Conclusion"
   ]
  },
  {
   "cell_type": "markdown",
   "metadata": {},
   "source": [
    "Good work &mdash; you have now loaded data using `load_ard()`, which has an automatic cloud mask. We can see that the images at different timesteps have different cloud cover, so they have been masked in different places. This is why having data at different timesteps can allow us to create a composite image without any cloud. \n",
    "\n",
    "In the next section, we will use this loaded data to create a geomedian composite."
   ]
  }
 ],
 "metadata": {
  "kernelspec": {
   "display_name": "Python 3",
   "language": "python",
   "name": "python3"
  },
  "language_info": {
   "codemirror_mode": {
    "name": "ipython",
    "version": 3
   },
   "file_extension": ".py",
   "mimetype": "text/x-python",
   "name": "python",
   "nbconvert_exporter": "python",
   "pygments_lexer": "ipython3",
   "version": "3.6.9"
  }
 },
 "nbformat": 4,
 "nbformat_minor": 4
}
