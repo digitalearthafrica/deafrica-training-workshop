{
 "cells": [
  {
   "cell_type": "markdown",
   "metadata": {},
   "source": [
    "# Cloud masking"
   ]
  },
  {
   "cell_type": "markdown",
   "metadata": {},
   "source": [
    "Now we've successfully removed cloudy data points using the cloud mask, we need to piece together all the good data points to give us one complete image. We can do this by collating data points using a geomedian."
   ]
  },
  {
   "cell_type": "markdown",
   "metadata": {},
   "source": [
    "## Exercise: Cloud masking with `load_ard()`"
   ]
  },
  {
   "cell_type": "markdown",
   "metadata": {},
   "source": [
    "In this exercise, we will apply a cloud mask to some Sentinel-2 data */our image of XYZ. To edit*"
   ]
  },
  {
   "cell_type": "markdown",
   "metadata": {},
   "source": [
    "### Make new notebook\n",
    "\n",
    "Like in the last exercise, we will begin by making a new, blank Jupyter notebook. If you want more detailed instructions on making a new notebook, see [this section in the exercise on loading data in the Sandbox](../session_2/04_Load_data_exercise.ipynb#Make-a-new-notebook) from the previous session. Otherwise, follow the steps below.\n",
    "\n",
    "1. Navigate to the **Training** folder.\n",
    "2. Click the **+** button and click **Python 3** under the **Notebook** section.\n",
    "3. Rename your file so you know it is from this exercise. For example, call it `cloud_mask.ipynb`.\n",
    "4. Open the notebook.\n",
    "\n",
    "### Load packages and functions\n",
    "\n",
    "We can now load the packages and functions we want to use. In the first cell of your new notebook `cloud_mask.ipynb`, enter the following code and run the cell.\n"
   ]
  },
  {
   "cell_type": "markdown",
   "metadata": {},
   "source": [
    "<img align=\"middle\" src=\"../_static/session_3/01_cloud_masking_imports.PNG\" alt=\"Set up imports for the cloud mask notebook.\" width=\"500\">"
   ]
  },
  {
   "cell_type": "markdown",
   "metadata": {},
   "source": [
    "We used most of these packages and functions in the previous exercise on loading data in the Sandbox. The only new function is `load_ard`. "
   ]
  },
  {
   "cell_type": "markdown",
   "metadata": {},
   "source": [
    "### Connect to the datacube"
   ]
  },
  {
   "cell_type": "markdown",
   "metadata": {},
   "source": [
    "Enter the following code and run the cell to create our `dc` object, which provides access to the datacube.\n",
    "\n",
    "<img align=\"middle\" src=\"../_static/session_3/01_cloud_masking_datacube.PNG\" alt=\"Set up datacube connection for the cloud mask notebook.\" width=\"500\">"
   ]
  },
  {
   "cell_type": "markdown",
   "metadata": {},
   "source": [
    "### Load data with `load_ard()`"
   ]
  },
  {
   "cell_type": "raw",
   "metadata": {
    "raw_mimetype": "text/restructuredtext"
   },
   "source": [
    ".. note::\n",
    "    If you experience errors when running cells, check out the [troubleshooting code]() guide from the previous session."
   ]
  },
  {
   "cell_type": "markdown",
   "metadata": {},
   "source": [
    "Step through loading the data with load_ard\n",
    "\n",
    "Detailed with screenshots"
   ]
  },
  {
   "cell_type": "markdown",
   "metadata": {},
   "source": [
    "They should now have an image with holes"
   ]
  },
  {
   "cell_type": "markdown",
   "metadata": {},
   "source": [
    "Let us take a look at an area near the coast of Guinea Bissau. Enter the following code and run it to display a map of the area. As before, `x` denotes longitude and `y` latitude."
   ]
  },
  {
   "cell_type": "markdown",
   "metadata": {},
   "source": [
    "<img align=\"middle\" src=\"../_static/session_3/01_cloud_masking_displaymap.PNG\" alt=\"Example of display_map input and output.\" width=\"700\">"
   ]
  },
  {
   "cell_type": "markdown",
   "metadata": {},
   "source": [
    "In the new cell below, enter the following code, and then run it to load Sentinel-2 data. It will generate the output text `Using pixel quality parameters for Senntinel 2...`. The output text tells us we have loaded 4 timesteps."
   ]
  },
  {
   "cell_type": "markdown",
   "metadata": {},
   "source": [
    "<img align=\"middle\" src=\"../_static/session_3/01_cloud_masking_loadard.PNG\" alt=\"Using load_ard.\" width=\"700\">"
   ]
  },
  {
   "cell_type": "markdown",
   "metadata": {},
   "source": [
    "Take note of some of the differences between `dc.load()` and `load_ard`.\n",
    "\n",
    "* `dc=dc` is a required parameter for `load_ard()`. This links the data search to the datacube\n",
    "* The paramter for loading products is `products` (plural) not `product` as it is in `dc.load()`\n",
    "* Product items must be listed inside square brackets `[]`, which is not required for `dc.load()`\n",
    "* `min_gooddata` stands for 'minimum good data' and discards observations with less than the fractional requisite of good quality pixels"
   ]
  },
  {
   "cell_type": "markdown",
   "metadata": {},
   "source": [
    "We can use the same `rgb` plotting code as in the last session to show an RGB image of one of the timesteps. Let's start with the first timestep, which has an `index` of `0`."
   ]
  },
  {
   "cell_type": "markdown",
   "metadata": {},
   "source": [
    "<img align=\"middle\" src=\"../_static/session_3/01_cloud_masking_rgbin.PNG\" alt=\"Plotting an RGB of the first timestep.\" width=\"700\">"
   ]
  },
  {
   "cell_type": "markdown",
   "metadata": {},
   "source": [
    "This should produce a single RGB image. What happens if you try changing the `index` number?"
   ]
  },
  {
   "cell_type": "markdown",
   "metadata": {},
   "source": [
    "<img align=\"middle\" src=\"../_static/session_3/01_cloud_masking_rgbout.PNG\" alt=\"Output RGB of the first timestep.\" width=\"550\">"
   ]
  },
  {
   "cell_type": "markdown",
   "metadata": {},
   "source": [
    "If we want to see RGB images of all the timesteps at once, we can replace the `index` parameter with the `col` parameter. `col` stands for 'column', so `col='time'` gives us a new column with an image for each timestep."
   ]
  },
  {
   "cell_type": "markdown",
   "metadata": {},
   "source": [
    "<img align=\"middle\" src=\"../_static/session_3/01_cloud_masking_colin.PNG\" alt=\"Plotting RGBs of all timestep.\" width=\"700\">"
   ]
  },
  {
   "cell_type": "markdown",
   "metadata": {},
   "source": [
    "The output should look like this.\n",
    "\n",
    "<img align=\"middle\" src=\"../_static/session_3/01_cloud_masking_colout.PNG\" alt=\"Output RGBs from col=time.\" width=\"800\">"
   ]
  },
  {
   "cell_type": "markdown",
   "metadata": {},
   "source": [
    "\n",
    "*Discussion from Tuesday meeting: Extend with `nearest` and/or making a composite image? Don't want to confuse users or distract them with other averages (mean etc) which are not as good as geomedians.*"
   ]
  },
  {
   "cell_type": "markdown",
   "metadata": {},
   "source": [
    "## Conclusion"
   ]
  },
  {
   "cell_type": "markdown",
   "metadata": {},
   "source": [
    "Good work &mdash; you have now loaded data using `load_ard()`, which has an automatic cloud mask. We can see that the images at different timesteps have different cloud cover, so they have been masked in different places. This is why having data at different timesteps can allow us to create a composite image without any cloud. \n",
    "\n",
    "Next, we will introduce geomedians, which are an important statistical value used when making a composite image."
   ]
  }
 ],
 "metadata": {
  "kernelspec": {
   "display_name": "Python 3",
   "language": "python",
   "name": "python3"
  },
  "language_info": {
   "codemirror_mode": {
    "name": "ipython",
    "version": 3
   },
   "file_extension": ".py",
   "mimetype": "text/x-python",
   "name": "python",
   "nbconvert_exporter": "python",
   "pygments_lexer": "ipython3",
   "version": "3.6.9"
  }
 },
 "nbformat": 4,
 "nbformat_minor": 4
}
