{
 "cells": [
  {
   "cell_type": "markdown",
   "metadata": {},
   "source": [
    "# Exercise: Vegetation change detection"
   ]
  },
  {
   "cell_type": "markdown",
   "metadata": {},
   "source": [
    "## Set up notebook"
   ]
  },
  {
   "cell_type": "markdown",
   "metadata": {},
   "source": [
    "### Load packages and functions"
   ]
  },
  {
   "cell_type": "code",
   "execution_count": null,
   "metadata": {},
   "outputs": [],
   "source": [
    "import matplotlib.pyplot as plt\n",
    "%matplotlib inline\n",
    "\n",
    "import datacube\n",
    "\n",
    "from deafrica_tools.datahandling import load_ard\n",
    "from deafrica_tools.plotting import display_map\n",
    "from deafrica_tools.bandindices import calculate_indices"
   ]
  },
  {
   "cell_type": "markdown",
   "metadata": {},
   "source": [
    "Note that we have imported one new function for this exercise in the cell above: ```calculate indices```."
   ]
  },
  {
   "cell_type": "markdown",
   "metadata": {},
   "source": [
    "### Connect to the datacube"
   ]
  },
  {
   "cell_type": "markdown",
   "metadata": {},
   "source": [
    "We create a new connection to the Open Data Cube, and store it as the variable ```dc```."
   ]
  },
  {
   "cell_type": "code",
   "execution_count": null,
   "metadata": {},
   "outputs": [],
   "source": [
    "dc = datacube.Datacube(app=\"Vegetation_exercise\")"
   ]
  },
  {
   "cell_type": "markdown",
   "metadata": {},
   "source": [
    "For this exercise, we will select our area of interest by picking a centre point and specifying a ```buffer``` of space (in degrees) on all sides of it.\n",
    "We also create a variable called ```time_baseline``` which specifies a time in the middle of our date range which will be used to split the data into two groups later."
   ]
  },
  {
   "cell_type": "code",
   "execution_count": null,
   "metadata": {},
   "outputs": [],
   "source": [
    "# Define the area of interest\n",
    "latitude = 0.02\n",
    "longitude = 35.425\n",
    "buffer = 0.1\n",
    "\n",
    "# Combine central lat,lon with buffer to get area of interest\n",
    "lat_range = (latitude-buffer, latitude+buffer)\n",
    "lon_range = (longitude-buffer, longitude+buffer)\n",
    "\n",
    "# Set the range of dates for the complete sample\n",
    "time = ('2013-01-01', '2018-12-01')\n",
    "\n",
    "# Set the date to separate the data into two samples for comparison\n",
    "time_baseline = '2015-12-31'"
   ]
  },
  {
   "cell_type": "markdown",
   "metadata": {},
   "source": [
    "We use the ```display_map``` function to visualize the extents which will be loaded."
   ]
  },
  {
   "cell_type": "code",
   "execution_count": null,
   "metadata": {},
   "outputs": [],
   "source": [
    "display_map(x=lon_range, y=lat_range)"
   ]
  },
  {
   "cell_type": "markdown",
   "metadata": {},
   "source": [
    "### Load data"
   ]
  },
  {
   "cell_type": "markdown",
   "metadata": {},
   "source": [
    "In the following cell, we use the ```load_ard``` function to request data from the Open Data Cube, and we store it into the ```landsat_ds``` variable.  Loading the data will take a moment, but we should end up with 46 time steps."
   ]
  },
  {
   "cell_type": "code",
   "execution_count": null,
   "metadata": {},
   "outputs": [],
   "source": [
    "landsat_ds = load_ard(\n",
    "    dc=dc,\n",
    "    products=[\"ls8_sr\"],\n",
    "    lat=lat_range,\n",
    "    lon=lon_range,\n",
    "    time=time,\n",
    "    output_crs=\"EPSG:6933\",\n",
    "    resolution=(-30, 30),\n",
    "    align=(15, 15),\n",
    "    group_by='solar_day',\n",
    "    measurements=['nir', 'red', 'blue'],\n",
    "    min_gooddata=0.7)"
   ]
  },
  {
   "cell_type": "markdown",
   "metadata": {},
   "source": [
    "## Calculate Indices"
   ]
  },
  {
   "cell_type": "markdown",
   "metadata": {},
   "source": [
    "Below, we will use the ```calculate_indices``` function to add a new variable called ```EVI``` to our dataset, and we replace the original ```landsat_ds``` with our modified version."
   ]
  },
  {
   "cell_type": "code",
   "execution_count": null,
   "metadata": {},
   "outputs": [],
   "source": [
    "landsat_ds = calculate_indices(landsat_ds, index='EVI', collection='c2')"
   ]
  },
  {
   "cell_type": "markdown",
   "metadata": {},
   "source": [
    "## Detect Changes"
   ]
  },
  {
   "cell_type": "markdown",
   "metadata": {},
   "source": [
    "Now we will use ```slice``` and ```sel``` to split our time series into two pieces and store the EVI data from each part into a variable:\n",
    "\n",
    "- ```baseline_sample``` will contain data between the _first_ date in our ```time``` variable (```'2013-01-01'```) and the date we stored as ```time_baseline``` (```'2015-12-31'```)\n",
    "- ```postbaseline_sample``` will contain data between the ```time_baseline``` and the _second_ date stored in our ```'time'``` variable (```'2018-12-01'```)\n",
    "\n",
    "Remember that Python numbering starts at zero, so ```time[0]``` is the first entry, and ```time[1]``` is the second."
   ]
  },
  {
   "cell_type": "code",
   "execution_count": null,
   "metadata": {},
   "outputs": [],
   "source": [
    "baseline_sample = landsat_ds.EVI.sel(time=slice(time[0], time_baseline))\n",
    "postbaseline_sample = landsat_ds.EVI.sel(time=slice(time_baseline, time[1]))"
   ]
  },
  {
   "cell_type": "markdown",
   "metadata": {},
   "source": [
    "### Detect per-pixel changes"
   ]
  },
  {
   "cell_type": "markdown",
   "metadata": {},
   "source": [
    "First, we will use the ```mean``` function to find the average of all pixels in each of the new datasets along the time axis."
   ]
  },
  {
   "cell_type": "code",
   "execution_count": null,
   "metadata": {},
   "outputs": [],
   "source": [
    "baseline_composite = baseline_sample.mean('time')\n",
    "postbaseline_composite = postbaseline_sample.mean('time')"
   ]
  },
  {
   "cell_type": "markdown",
   "metadata": {},
   "source": [
    "Next, we will calculate the difference between the two mean mosaics and store that as ```diff_mean_composites```."
   ]
  },
  {
   "cell_type": "code",
   "execution_count": null,
   "metadata": {},
   "outputs": [],
   "source": [
    "diff_mean_composites = postbaseline_composite - baseline_composite"
   ]
  },
  {
   "cell_type": "markdown",
   "metadata": {},
   "source": [
    "Finally, we plot the difference."
   ]
  },
  {
   "cell_type": "code",
   "execution_count": null,
   "metadata": {},
   "outputs": [],
   "source": [
    "plt.figure(figsize=(9, 8))\n",
    "diff_mean_composites.plot.imshow(cmap='RdBu')\n",
    "plt.title(\"Mean Composite Difference (Older to Newer)\")\n",
    "plt.show()"
   ]
  }
 ],
 "metadata": {
  "kernelspec": {
   "display_name": "Python 3",
   "language": "python",
   "name": "python3"
  },
  "language_info": {
   "codemirror_mode": {
    "name": "ipython",
    "version": 3
   },
   "file_extension": ".py",
   "mimetype": "text/x-python",
   "name": "python",
   "nbconvert_exporter": "python",
   "pygments_lexer": "ipython3",
   "version": "3.6.9"
  }
 },
 "nbformat": 4,
 "nbformat_minor": 4
}
