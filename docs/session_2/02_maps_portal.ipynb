{
 "cells": [
  {
   "cell_type": "markdown",
   "metadata": {},
   "source": [
    "# Digital Earth Africa Maps"
   ]
  },
  {
   "cell_type": "markdown",
   "metadata": {},
   "source": [
    "## Use the DE Africa Map\n",
    "Start exploring the DE Africa Map at [maps.digitalearth.africa](https://maps.digitalearth.africa/). You can see what is available using the Explore data button to open the catalogue and expand a category you wish to browse."
   ]
  },
  {
   "cell_type": "raw",
   "metadata": {
    "raw_mimetype": "text/restructuredtext"
   },
   "source": [
    ".. only:: html\n",
    "\n",
    "   .. youtube:: 44mEA6GjugE"
   ]
  },
  {
   "cell_type": "markdown",
   "metadata": {},
   "source": [
    "Maps User Guide: https://maps.digitalearth.africa/help/help.html"
   ]
  }
 ],
 "metadata": {
  "kernelspec": {
   "display_name": "",
   "name": ""
  },
  "language_info": {
   "name": ""
  }
 },
 "nbformat": 4,
 "nbformat_minor": 4
}
