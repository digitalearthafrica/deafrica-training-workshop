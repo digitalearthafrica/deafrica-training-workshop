{
 "cells": [
  {
   "cell_type": "markdown",
   "metadata": {},
   "source": [
    "# Events"
   ]
  },
  {
   "cell_type": "markdown",
   "metadata": {},
   "source": [
    "The DE Africa training course convenors host regularly scheduled **virtual live sessions**. They are intended to be a friendly, open environment where anyone can ask questions and meet people from the DE Africa community. \n",
    "\n",
    "The live sessions are conducted on Zoom, an online meeting platform. They are open to anyone who is currently completing the 6-week training course, or has recently completed the 6-week training course.\n",
    "\n",
    "Live session details are distributed via a WhatsApp group. To join the WhatsApp group, please send an email to training@digitalearthafrica.org with your name and mobile phone number."
   ]
  },
  {
   "cell_type": "raw",
   "metadata": {
    "raw_mimetype": "text/restructuredtext"
   },
   "source": [
    ".. note::\n",
    "    Live sessions have concluded for 2020. They will resume in January 2021. Contact the course convenors on the above email for more details."
   ]
  }
 ],
 "metadata": {
  "kernelspec": {
   "display_name": "Python 3",
   "language": "python",
   "name": "python3"
  },
  "language_info": {
   "codemirror_mode": {
    "name": "ipython",
    "version": 3
   },
   "file_extension": ".py",
   "mimetype": "text/x-python",
   "name": "python",
   "nbconvert_exporter": "python",
   "pygments_lexer": "ipython3",
   "version": "3.6.9"
  }
 },
 "nbformat": 4,
 "nbformat_minor": 4
}
