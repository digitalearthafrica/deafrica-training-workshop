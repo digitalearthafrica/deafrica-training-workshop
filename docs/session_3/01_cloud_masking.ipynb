{
 "cells": [
  {
   "cell_type": "markdown",
   "metadata": {},
   "source": [
    "# Cloud masking"
   ]
  },
  {
   "cell_type": "markdown",
   "metadata": {},
   "source": [
    "## Recap: last session\n",
    "\n",
    "In the [last session](../session_2/04_load_data_exercise.ipynb) *note link will not work until Session 2 is merged with master, leave it for now*, we plotted RGB images for Dar es Salaam in Tanzania. The image had clouds in both the Landsat 8 and Sentinel-2 versions.\n",
    "\n",
    "What happens if we want to see what is underneath those clouds? If you have data for that place at only one time, this is not possible. However, if we have data for the same place at a different time, when that cloudy area isn't covered, we can 'fill' areas of cloud with data from the other time."
   ]
  },
  {
   "cell_type": "markdown",
   "metadata": {},
   "source": [
    "## Video: Time\n",
    "\n",
    "Watch this short video on using time in Earth observations (see relevant trello card)"
   ]
  },
  {
   "cell_type": "markdown",
   "metadata": {},
   "source": [
    "### Summary of video content"
   ]
  },
  {
   "cell_type": "markdown",
   "metadata": {},
   "source": [
    "* Including a brief explanation of cloud masking \n",
    "* We will be walking through a cloud masking exercise below\n",
    "* Geomedians will be covered in the subsequent sections"
   ]
  },
  {
   "cell_type": "markdown",
   "metadata": {},
   "source": [
    "## Exercise: Cloud masking with `load_ard()`"
   ]
  },
  {
   "cell_type": "markdown",
   "metadata": {},
   "source": [
    "The first step to forming a composite image is cloud masking: removing data where the clouds are. This will leave 'holes' in the data which can then be filled by data from a different timestep. In this exercise, we will apply a cloud mask to our image of XYZ."
   ]
  },
  {
   "cell_type": "markdown",
   "metadata": {},
   "source": [
    "### `load_ard()` vs `dc.load()`"
   ]
  },
  {
   "cell_type": "markdown",
   "metadata": {},
   "source": [
    "We previously loaded data using `dc.load()`. `dc.load()` is a universal function for loading data from the datacube and it is important to know how to use it. However, it doesn't have an in-built cloud masking capability. When we plotted the RGB images of Tanzania, the clouds were part of the image. This makes it difficult to perform cloud masking, as the dataset does not distinguish cloud and not-cloud.\n",
    "\n",
    "In this exercise, we will instead use the command `load_ard()` to load our data. It demands similar parameters to `dc.load()`."
   ]
  },
  {
   "cell_type": "raw",
   "metadata": {
    "raw_mimetype": "text/restructuredtext"
   },
   "source": [
    ".. note::\n",
    "    `load_ard()` is compatible with the Landsat 8 and Sentinel-2 datasets we use here. However, it is not compatible with some other Digital Earth Africa products."
   ]
  },
  {
   "cell_type": "markdown",
   "metadata": {},
   "source": [
    "### Set up notebook\n",
    "\n",
    "*Outline steps to set up notebook, including imports and a very brief explanation of each import. This content will purposefully overlap with the `load_data_exercise` notebook from the previous session to build familiarity through repetition.*"
   ]
  },
  {
   "cell_type": "markdown",
   "metadata": {},
   "source": [
    "### Load data with `load_ard()`"
   ]
  },
  {
   "cell_type": "markdown",
   "metadata": {},
   "source": [
    "They should now have an image with holes"
   ]
  },
  {
   "cell_type": "markdown",
   "metadata": {},
   "source": [
    "### Create a composite image"
   ]
  },
  {
   "cell_type": "markdown",
   "metadata": {},
   "source": [
    "Is this section part of what we want for this exercise?"
   ]
  },
  {
   "cell_type": "markdown",
   "metadata": {},
   "source": [
    "## Conclusion"
   ]
  },
  {
   "cell_type": "code",
   "execution_count": null,
   "metadata": {},
   "outputs": [],
   "source": []
  },
  {
   "cell_type": "code",
   "execution_count": null,
   "metadata": {},
   "outputs": [],
   "source": []
  }
 ],
 "metadata": {
  "kernelspec": {
   "display_name": "Python 3",
   "language": "python",
   "name": "python3"
  },
  "language_info": {
   "codemirror_mode": {
    "name": "ipython",
    "version": 3
   },
   "file_extension": ".py",
   "mimetype": "text/x-python",
   "name": "python",
   "nbconvert_exporter": "python",
   "pygments_lexer": "ipython3",
   "version": "3.6.9"
  }
 },
 "nbformat": 4,
 "nbformat_minor": 4
}
