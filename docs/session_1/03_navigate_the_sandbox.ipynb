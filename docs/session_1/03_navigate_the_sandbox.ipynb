{
 "cells": [
  {
   "cell_type": "markdown",
   "metadata": {},
   "source": [
    "# Navigate the Sandbox\n",
    "\n",
    "Now you have created a user account and successfully logged in, let's take a look at the main elements of the Sandbox.\n",
    "\n",
    "If you do not yet have a Digital Earth Africa account, follow the steps [here](02_create_a_user_account.ipynb) to create one."
   ]
  },
  {
   "cell_type": "markdown",
   "metadata": {},
   "source": [
    "## Overview\n",
    "\n",
    "The Digital Earth Africa Sandbox uses a JupyterLab interface. JupyterLab is a web-based interactive coding environment. It has a user-friendly interface to make file navigation and workflows more intuitive. Within the Sandbox JupyterLab, we create Jupyter noteboks to contain and execute code.\n",
    "\n",
    "Helpful documentation and beginner's guides are pre-loaded by the Sandbox. To access them, we will also show you how to open and close notebooks."
   ]
  },
  {
   "cell_type": "markdown",
   "metadata": {},
   "source": [
    "## The JupyterLab interface\n",
    "\n",
    "When the Sandbox starts up, you will be presented with three main sections, as numbered in the diagram below:\n",
    "\n",
    "<img align=\"middle\" src=\"../_static/sandbox-homescreen-sections.png\" alt=\"The DE Africa Sandbox Jupyterlab default home screen.\" width=\"500\">\n",
    "\n",
    "1. **Main work area:** Enables you to arrange documents and other windows (such as terminals or code consoles) into panels of tabs that can be resized or subdivided. Open files will show in this area. Most of your work will be done here.\n",
    "\n",
    "2. **Left sidebar:** Contains a file browser, the list of running kernels and terminals, the command palette, the notebook cell tools inspector, and the tabs list. By default, the file browser is selected; this will be the most useful toolbar for new users.\n",
    "\n",
    "3. **Horizontal menu bar:** Exposes actions available in JupyterLab, including actions related to saving, editing, viewing and running notebooks. When you are done, you can select **File -> Log Out** to quit your Sandbox session and free up server space."
   ]
  },
  {
   "cell_type": "markdown",
   "metadata": {},
   "source": [
    "## Open a Jupyter Notebook\n",
    "\n",
    "In JupyterLab, double-clicking in the left sidebar file browser opens folders and files. We can try this with the pre-loaded folders and notebooks in the Sandbox.\n",
    "\n",
    "Double-click the **Beginners_guide** folder in the left sidebar to open the folder and view its contents. This is shown in the figure below.\n",
    "\n",
    "<img align=\"middle\" src=\"../_static/sandbox-notebook-folders.png\" alt=\"Opening the Beginners_guide folder.\" width=\"500\">\n",
    "\n",
    "Jupyter notebooks can be identified by the file extension `.ipynb`. Choose a notebook (for example, `01_Jupyter_notebooks.ipynb`) and double-click to open it in the main work area.\n",
    "\n",
    "To navigate back to the home folder, click the folder icon at the start of the folder path. The folder path is near the top of the left sidebar.\n",
    "\n",
    "For more information, refer to this section of the JupyterLab documentation on [Working with Files](https://jupyterlab.readthedocs.io/en/stable/user/files.html)."
   ]
  },
  {
   "cell_type": "markdown",
   "metadata": {},
   "source": [
    "## Close a Jupyter Notebook\n",
    "\n",
    "Closing a notebook browser tab will not shut down its 'computational engine' (called the kernel). To shut down a kernel, go to the associated notebook and click on menu **File -> Close and Shutdown Notebook**. It is good practice to shut down the kernel of any notebooks you aren't using, as it will free up memory in your Sandbox session.\n",
    "\n",
    "<img align=\"middle\" src=\"../_static/sandbox-notebook-close.png\" alt=\"Close and Shutdown Notebook option.\" width=\"500\">"
   ]
  },
  {
   "cell_type": "markdown",
   "metadata": {},
   "source": [
    "## Next steps\n",
    "\n",
    "Now you are familiar with the Digital Earth Africa Sandbox's JupyterLab interface, and how to open and close notebooks, we explore some of the pre-loaded notebooks in the next section, [Getting Started](04_getting_started.ipynb)."
   ]
  }
 ],
 "metadata": {
  "kernelspec": {
   "display_name": "Python 3",
   "language": "python",
   "name": "python3"
  },
  "language_info": {
   "codemirror_mode": {
    "name": "ipython",
    "version": 3
   },
   "file_extension": ".py",
   "mimetype": "text/x-python",
   "name": "python",
   "nbconvert_exporter": "python",
   "pygments_lexer": "ipython3",
   "version": "3.6.9"
  }
 },
 "nbformat": 4,
 "nbformat_minor": 4
}
