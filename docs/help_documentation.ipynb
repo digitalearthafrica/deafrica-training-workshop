{
 "cells": [
  {
   "cell_type": "markdown",
   "metadata": {},
   "source": [
    "# Sandbox help documentation\n",
    "\n",
    "The Digital Earth Africa Sandbox, by default, will load several folders containing helpful notebooks and source code. They are essential to the Sandbox's operation, so do not delete or move any of the files.\n",
    "\n",
    "The Beginner's Guide notebooks cover similar material to the explanations and exercises in this workshop series. However, they also provides more in-depth detail on how to perform data extraction and analysis. The Beginner's Guide notebooks, along with the 'frequently used code' notebooks, are a great reference tool.\n",
    "\n",
    "This section provides a summary of these folders and their contents. It also contains some recommended but **not compulsory** activities that will help increase your familiarity with Digital Earth Africa and the Sandbox.\n",
    "\n",
    "For tips on how to access files and folders in the Sandbox, check out the section on [navigating the Sandbox](./session_1/03_navigate_the_sandbox.ipynb).\n",
    "\n",
    "For a review on how to execute code in a notebook, see this section on [running a notebook](./session_1/04_running_a_notebook.ipynb)."
   ]
  },
  {
   "cell_type": "markdown",
   "metadata": {},
   "source": [
    "## Beginner's Guide - start here\n",
    "\n",
    "<img align=\"middle\" src=\"./_static/other_information/sandbox-beginners-guide.PNG\" alt=\"Beginners Guide folder\" width=\"300\">\n",
    "\n",
    "The **Beginners_guide** folder contains step-by-step tutorials to help you become more familiar with the Digital Earth Africa Sandbox. The tutorials contain background information and context, as well as code and data examples and explanations. The guide covers a range of basic Sandbox functions, including how to load data and plot it. \n",
    "\n",
    "If you are still unclear on the scope and focus of Digital Earth Africa and the Sandbox, this is also a great place to read more about it and see some hands-on demonstrations of Earth observation data at work.\n",
    "\n",
    "The notebooks are numbered in progress order; start at `01_Jupyter_notebooks.ipynb`. There are no prerequisites to be able to complete this notebook.\n",
    "\n",
    "**Suggested activity:** Read and follow examples in the Beginner's Guide notebooks, starting with `01_Jupyter_notebooks.ipynb`. This can be done interactively (recommended), as detailed in [running a notebook](./session_1/04_running_a_notebook.ipynb). Open the file and from the horizontal menu bar select **Kernel -> Restart Kernel and Clear All Outputs**, then follow instructions in the notebook. \n",
    "\n",
    "Take your time &mdash; it is not necessary to review all of the notebooks in one sitting. If you are new to Python coding, there will be a fair amount of content. Some of it will be covered in subsequent sessions of this workshop series. "
   ]
  },
  {
   "cell_type": "markdown",
   "metadata": {},
   "source": [
    "## Frequently used code\n",
    "\n",
    "<img align=\"middle\" src=\"./_static/other_information/sandbox-freq-used-code.PNG\" alt=\"Frequently used code folder\" width=\"300\">\n",
    "\n",
    "The **Frequently_used_code** folder contains a series of notebooks that demonstrate code snippets doing useful and common functions. For example, want to calculate the Normalised Difference Vegetation Index (NDVI)? You could set up your own formula &mdash; but it would be faster and easier to use the NDVI function as shown in `Calculating_band_indices.ipynb`. How about drawing a contour line between water and land? Check out `Contour_extraction.ipynb`. There are many useful tips and tricks in the **Frequently_used_code** folder.\n",
    "\n",
    "It is helpful to know what is in this folder, so you can draw upon the code if you need to do something similar when writing your own notebooks.\n",
    "\n",
    "**Suggested activity:** Read all the titles of the notebooks in the folder. Open `Masking_data.ipynb` and run through its contents by selecting **Kernel -> Restart Kernel and Clear All Outputs** and then executing cells as you go. "
   ]
  },
  {
   "cell_type": "markdown",
   "metadata": {},
   "source": [
    "## Real world examples\n",
    "\n",
    "<img align=\"middle\" src=\"./_static/other_information/sandbox-real-world-examples.PNG\" alt=\"Real world examples folder\" width=\"300\">\n",
    "\n",
    "The analytical power of the Sandbox is shown in the folder **Real_world_examples**. This folder contains multiple notebooks which cater to 'real world' use cases, from monitoring crop health to detecting water. \n",
    "\n",
    "The code in these notebooks is more complex, but it is exciting to see what Digital Earth Africa can do.\n",
    "\n",
    "**Suggested activity:** Pick a notebook that interests you and run through it."
   ]
  },
  {
   "cell_type": "markdown",
   "metadata": {},
   "source": [
    "## Datasets\n",
    "\n",
    "<img align=\"middle\" src=\"./_static/other_information/sandbox-datasets.PNG\" alt=\"Datasets folder\" width=\"300\">\n",
    "\n",
    "The notebooks in the Sandbox are all based on Earth observation data available to Digital Earth Africa. These datasets are explained in individual notebooks in the **Datasets** folder. Each notebook contains background information about the dataset and examples of use. \n",
    "\n",
    "Some of the datasets are based directly on satellite measurements. For example, information on the Landsat and Sentinel satellite datasets can be found in their respective notebooks:\n",
    "\n",
    "* `Landsat_collections.ipynb`\n",
    "* `Sentinel_1.ipynb`\n",
    "* `Sentinel_2.ipynb`\n",
    "\n",
    "Other datasets refer to derived products which have been created to show a particular environmental feature. These include:\n",
    "\n",
    "* `Soil_Moisture.ipynb`\n",
    "* `Fractional_cover.ipynb`\n",
    "* `Water_Observations_from_Space.ipynb`\n",
    "\n",
    "More dataset notebooks are added to this folder as the Digital Earth Africa collection expands. Use the notebooks in this folder to familiarise yourself with the available data and products.\n",
    "\n",
    "**Suggested activity:** Run through the notebook on Sentinel 2 data, `Sentinel_2.ipynb`."
   ]
  },
  {
   "cell_type": "markdown",
   "metadata": {},
   "source": [
    "## Other folders\n",
    "\n",
    "There are a few other folders in the home folder, such as **Scripts** and **DCAL**. Feel free to have a browse, but they are not important to know about when you are starting out.\n",
    "\n",
    "**Suggested activity:** Ignore these folders for now."
   ]
  },
  {
   "cell_type": "markdown",
   "metadata": {},
   "source": [
    "## Help! I deleted a file...\n",
    "\n",
    "See the [Frequently asked questions](./Frequently_asked_questions.ipynb) section on restoring pre-loaded notebooks."
   ]
  }
 ],
 "metadata": {
  "kernelspec": {
   "display_name": "Python 3",
   "language": "python",
   "name": "python3"
  },
  "language_info": {
   "codemirror_mode": {
    "name": "ipython",
    "version": 3
   },
   "file_extension": ".py",
   "mimetype": "text/x-python",
   "name": "python",
   "nbconvert_exporter": "python",
   "pygments_lexer": "ipython3",
   "version": "3.6.9"
  }
 },
 "nbformat": 4,
 "nbformat_minor": 4
}
