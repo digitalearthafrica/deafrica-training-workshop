{
 "cells": [
  {
   "cell_type": "markdown",
   "metadata": {},
   "source": [
    "## Calculating NDVI (PART 1)\n",
    "\n",
    "This exercise follows on from the previous section. In the previous section (Session 3), you constructed a notebook to create geomedian composite.\n",
    "\n",
    "In this section, we will re-run the notebook from the previous section, and extend it to resampling of the dataset and create a geomedian of the dataset. \n"
   ]
  },
  {
   "cell_type": "markdown",
   "metadata": {},
   "source": [
    "\n",
    "\n",
    "> **Note:** We will be using the notebook we created in the previous section (Section 3). If you have not already set up a copy of the notebook called Geomedian_composite.ipynb with the required packages and functions, follow the instructions in previous section. Ensure you have completed all the steps, including loading the Sentinel-2 dataset.\n"
   ]
  },
  {
   "cell_type": "markdown",
   "metadata": {},
   "source": [
    "### Create a copy of the notebook\n",
    "\n",
    "Before you continue with the next step\n",
    "1. Make a copy of the geomedian_composite notebook \n",
    "2. Rename the notebook to calculate_ndvi.\n",
    "\n",
    "  * More detials on how to [Create a Copy of a notebook and rename](https://training.digitalearthafrica.org/en/latest/session_1/04_running_a_notebook.html#Create-a-copy-of-the-notebook)\n",
    "\n",
    "### Starting the notebook\n",
    "\n",
    "If you are following directly on from the last section, you can skip this step. If you have closed your Sandbox browser tab or disconnected from the Internet between exercises, follow these steps to ensure correct package imports and connection to the datacube.\n",
    "\n",
    "1. Navigate to the Training folder.\n",
    "2. Double-click calculate_ndvi.ipynb. It will open in the Launcher.\n",
    "3. Select Kernel -> Restart Kernel and Run All Cells…\n",
    "4. When prompted, select Restart.\n",
    "5. The notebook may take a little while to run. Check all the cells have run successfully with no error messages.\n",
    "\n",
    "\n",
    "### Changing the parameter for area of interest\n",
    "\n",
    "Change the latitude, longitude, x, y and time values to match values belows\n",
    "\n",
    "\n",
    "`lat = -15.92`\n",
    "\n",
    "`lon =  46.35`\n",
    "\n",
    "`buffer = 0.075`\n",
    "\n",
    "`x = (lon-buffer, lon+buffer)`\n",
    "\n",
    "`y = (lat+buffer, lat-buffer)`\n",
    "\n",
    "`time = ('2019-01', '2019-12')`\n",
    "\n",
    "\n",
    "### Resampling of the dataset\n",
    "**Resampling is used to create a new set of times at regular intervals, using the resample method the data can be arranged in days, months, quarterly and yearly. \n",
    "Below gives examples of how the data are grouped\n",
    "\n",
    "   * `'nD'` - number of days (e.g. `'7D'` for seven days)\n",
    "   * `'nM'` - number of months (e.g. `'6M'` for six months)\n",
    "   * `'nY'` - number of years (e.g. `'2Y'` for two years)"
   ]
  },
  {
   "cell_type": "markdown",
   "metadata": {},
   "source": [
    "The dataset will be resample (Quaterly 3 monthly groups ('3M'), \n",
    "with the group starting at the start of the month (represented by the 'S' at the end)."
   ]
  },
  {
   "cell_type": "markdown",
   "metadata": {},
   "source": [
    "`resample_da = da.resample(time='3MS')`"
   ]
  },
  {
   "cell_type": "markdown",
   "metadata": {},
   "source": [
    "### Computing the geomedian\n",
    "\n",
    "For this session, Instead of calling `xr_geomedian(ds)` on the entire array as we did in the previous version, we pass the `xr_geomedian` function to `map` to apply it separately to each resampled group(`resample_da`).\n",
    "\n"
   ]
  },
  {
   "cell_type": "markdown",
   "metadata": {},
   "source": [
    "`geomedian = resample_da.map(xr_geomedian)`"
   ]
  },
  {
   "cell_type": "markdown",
   "metadata": {},
   "source": [
    "We can plot the output geomedians, and see the change in the landscape over the year:"
   ]
  },
  {
   "cell_type": "markdown",
   "metadata": {},
   "source": [
    "`rgb (geomedian, col=\"time\", col_wrap=4)`"
   ]
  },
  {
   "cell_type": "markdown",
   "metadata": {},
   "source": [
    "## Conclusion\n",
    "\n",
    "Congratulations! You have finished the 4th session of this training! You now know how to open and close notebooks, make copies of notebooks and run them.\n",
    "If you would like to re-run this notebook using a different area of interest, follow these steps:\n",
    "\n",
    "1. Restart the notebook and clear all outputs.\n",
    "\n",
    "2. Run the cell that imports packages and functions.\n",
    "\n",
    "3. Change the latitude, longitude, and buffer values in the second code cell. You can either use the values suggested above the cell or provide your own. Then run the cell.\n",
    "\n",
    "\n",
    "Did you learn anything interesting share with ud?"
   ]
  },
  {
   "cell_type": "code",
   "execution_count": null,
   "metadata": {},
   "outputs": [],
   "source": []
  }
 ],
 "metadata": {
  "kernelspec": {
   "display_name": "Python 3",
   "language": "python",
   "name": "python3"
  },
  "language_info": {
   "codemirror_mode": {
    "name": "ipython",
    "version": 3
   },
   "file_extension": ".py",
   "mimetype": "text/x-python",
   "name": "python",
   "nbconvert_exporter": "python",
   "pygments_lexer": "ipython3",
   "version": "3.6.9"
  }
 },
 "nbformat": 4,
 "nbformat_minor": 4
}
