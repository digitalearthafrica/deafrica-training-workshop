{
 "cells": [
  {
   "cell_type": "markdown",
   "metadata": {},
   "source": [
    "# Band indices"
   ]
  },
  {
   "cell_type": "markdown",
   "metadata": {},
   "source": [
    "True-colour images, like the RGB ones we created in Session 2 and Session 3, are an intuitive way of displaying spatial data as it appears to our eyes. However, satellites capture many more layers of data: their range extends outside the visible spectrum. We can also make use of these measurements to perform various kinds of data analysis. \n",
    "\n",
    "One established analysis technique for identifying specific terrain features, such as water or bare soil, is to calculate a **band index**."
   ]
  },
  {
   "cell_type": "markdown",
   "metadata": {},
   "source": [
    "## Video: Band indices"
   ]
  },
  {
   "cell_type": "markdown",
   "metadata": {},
   "source": [
    "Watch the short video below to learn about band indices. Then, read the text below for more detail."
   ]
  },
  {
   "cell_type": "raw",
   "metadata": {
    "raw_mimetype": "text/restructuredtext"
   },
   "source": [
    "band index video here"
   ]
  },
  {
   "cell_type": "markdown",
   "metadata": {},
   "source": [
    "## What is a band?"
   ]
  },
  {
   "cell_type": "markdown",
   "metadata": {},
   "source": [
    "You may recall from the [introduction to satellite products](../session_2/01_products_intro.ipynb) that the range of data acquired by a satellite is defined by its **bands**. Bands are subdivisions of the electromagnetic spectrum dependent on the sensors on the satellite.\n",
    "\n",
    "A selection of commonly-used Landsat 8 and Sentinel-2 bands are shown in the table below. We can see the spectral ranges between Landsat 8 and Sentinel-2 are similar, but not the same. Also note the band numbers do not always correspond to the same spectral range."
   ]
  },
  {
   "cell_type": "markdown",
   "metadata": {},
   "source": [
    "|Spectral range| Landsat 8 bandwidth (micrometres) | Sentinel-2 bandwidth (micrometres)|\n",
    "|------------|--------|---------------|\n",
    "| Blue | Band 2 </br> 0.45 &ndash; 0.51| Band 2</br>0.458 &ndash; 0.523\n",
    "| Green| Band 3 </br> 0.53 &ndash; 0.59| Band 3</br>0.543 &ndash; 0.578\n",
    "| Red | Band 4</br>0.64 &ndash; 0.67 | Band 4</br>0.650 &ndash; 0.680\n",
    "| Near-infrared (NIR) | Band 5 </br> 0.85 &ndash; 0.88| Band 8</br>0.785 &ndash; 0.899|\n",
    "| Short-wave infrared 1 (SWIR 1) | Band 6</br>1.57 &ndash; 1.65 | Band 11</br>1.565 &ndash; 1.655||"
   ]
  },
  {
   "cell_type": "markdown",
   "metadata": {},
   "source": [
    "*Sources:* [Landsat 8 bands](https://www.usgs.gov/media/images/landsat-8-band-designations), [Sentinel-2 bands](https://earth.esa.int/web/sentinel/technical-guides/sentinel-2-msi/msi-instrument)"
   ]
  },
  {
   "cell_type": "markdown",
   "metadata": {},
   "source": [
    "## Bands and terrain features"
   ]
  },
  {
   "cell_type": "markdown",
   "metadata": {},
   "source": [
    "Different types of ground cover absorb and reflect different amounts of radiation along the electromagnetic spectrum. This is dependent on the physical and chemical properties of the surface.\n",
    "\n",
    "*feels like we should have a diagram of the electromagnetic spectrum*\n",
    "\n",
    "For example:\n",
    "\n",
    "* **Water:** Open water bodies generally reflect light in the visible spectrum, and absorb more short-wave infrared than near-infrared radiation. This can change if the water is turbid.\n",
    "\n",
    "* **Snow:** Ice and snow reflect most visible radiation, but do not reflect much short-wave infrared. Reflectance measurements depend on snow granule size and liquid water content.\n",
    "\n",
    "* **Green vegetation:** Chlorophyll, a pigment in plants, absorbs a lot of visible light, including red light. When plants are healthy, they strongly reflect near-infrared light.\n",
    "\n",
    "* **Bare soil:** The mineral composition of soil can be characterised using the visible and near-infrared spectrum. Soil moisture content can greatly influence the results.\n",
    "\n",
    "Using these spectral differences, we can calculate ratios between bands to isolate and accentuate the specific terrain feature we are interested in. These metrics are known as band ratios or **band indices**."
   ]
  },
  {
   "cell_type": "raw",
   "metadata": {
    "raw_mimetype": "text/restructuredtext"
   },
   "source": [
    ".. note::\n",
    "    In practice, variation within terrain feature classes, as well as the presence of multiple features in one area, can make different types of ground cover difficult to distinguish. This is one of the challenges of spectral data analysis."
   ]
  },
  {
   "cell_type": "markdown",
   "metadata": {},
   "source": [
    "### Example: Normalised Difference Vegetation Index (NDVI)"
   ]
  },
  {
   "cell_type": "markdown",
   "metadata": {},
   "source": [
    "One of the most widely-used band indices is the Normalised Difference Vegetation Index (NDVI). It is used to show the presence of live green vegetation. Generally, green vegetation has a low red band measurement, as red light is absorbed by chlorophyll. Oppositely, healthy leaf cell structures reflect near-infrared light, giving a high near-infrared band measurement. \n",
    "\n",
    "NDVI is therefore typically calculated using a satellite's NIR band and red band. One value is calculated per pixel."
   ]
  },
  {
   "cell_type": "markdown",
   "metadata": {},
   "source": [
    "\\begin{equation} \\text{NDVI} \\ = \\ \\frac{\\text{NIR} - \\text{Red}}{\\text{NIR} + \\text{Red}} \\end{equation}"
   ]
  },
  {
   "cell_type": "markdown",
   "metadata": {},
   "source": [
    "We see the index is calculated by the difference $(\\text{NIR} - \\text{Red})$ divided by the sum $(\\text{NIR} + \\text{Red})$. This normalises the index: all values will fall between $-1$ and $1$.\n",
    "\n",
    "Large values of NDVI will occur for pixels where NIR is high and red is low. Conversely, NDVI can be close to 0 or even negative where NIR is low and red is high. This means we interpret NDVI as follows:"
   ]
  },
  {
   "cell_type": "markdown",
   "metadata": {},
   "source": [
    "\\begin{align}\n",
    "\\text{NDVI} &> 0, \\text{ or close to }1 = \\text{green vegetation}\\\\\n",
    "\\text{NDVI} &\\leq 0 = \\text{not green vegetation; water, soil, etc.}\n",
    "\\end{align}"
   ]
  },
  {
   "cell_type": "raw",
   "metadata": {},
   "source": [
    ".. note::\n",
    "    Normalising band indices so their values fall between -1 and 1 gives a relative scale that allows for easier data analysis. Values of the index can be compared between different points in the area of analysis, and across time periods."
   ]
  },
  {
   "cell_type": "markdown",
   "metadata": {},
   "source": [
    "Below we have two plots of an area in Guinea-Bissau, a country that experiences monsoonal-like seasons. We see the amount of vegetation as detected by NDVI fluctuates over time. The top image shows NDVI in April, at the end of the dry season. NDVI readings are much lower than when compared to the same area in November (bottom image), after several months of rain during the wet season.\n",
    "\n",
    "Notice the RGB images may show parts of the area to be visibly 'dry' or 'lush', but in places where this is less obvious, it is easier to analyse NDVI than the multispectral RGB dataset."
   ]
  },
  {
   "cell_type": "markdown",
   "metadata": {},
   "source": [
    "<img align=\"middle\" src=\"./../_static/session_4/01_band_indices_ndvi.PNG\" alt=\"NDVI in Guinea-Bissau.\" width=\"600\">"
   ]
  },
  {
   "cell_type": "markdown",
   "metadata": {},
   "source": [
    "*NDVI calculated from Sentinel-2 data in Guinea-Bissau in April 2018 (top left) and November 2018 (bottom left). The NDVI values reflect typical seasonal patterns.*"
   ]
  },
  {
   "cell_type": "markdown",
   "metadata": {},
   "source": [
    "## Band indices in research"
   ]
  },
  {
   "cell_type": "markdown",
   "metadata": {},
   "source": [
    "NDVI is just one example of a useful band index. There are many other band indices used in Earth observation research to draw out terrain features. \n",
    "\n",
    "These include, but are not limited to:"
   ]
  },
  {
   "cell_type": "markdown",
   "metadata": {},
   "source": [
    "|Index name| Formula | Overview | References |\n",
    "|------------|--------------|---------------|--------|\n",
    "| Modified Normalised Difference Water Index (MNDWI) | $$\\frac{\\text{Green} - \\text{SWIR 1}}{\\text{Green} + \\text{SWIR 1}}$$ | Delineates water and not-water areas. High values indicate water. | [Xu, 2006](https://www.tandfonline.com/doi/full/10.1080/01431160600589179)\n",
    "| Normalised Burn Ratio (NBR) |$$\\frac{\\text{NIR} - \\text{SWIR 2}}{\\text{NIR} + \\text{SWIR 2}}$$ | Emphasises burnt areas. High values indicate healthy vegetation, and low values bare ground. | [L&oacute;pez, 1991](https://www.researchgate.net/publication/246761915_Mapping_burns_and_natural_reforestation_using_Thematic_Mapper_data)\n",
    "| Normalised Difference Built-up Index (NDBI) | $$\\frac{\\text{SWIR 1} - \\text{NIR}}{\\text{SWIR 1} + \\text{NIR}}$$ | High values indicate urban areas.| [Zha, 2003](https://www.tandfonline.com/doi/abs/10.1080/01431160304987)||"
   ]
  },
  {
   "cell_type": "markdown",
   "metadata": {},
   "source": [
    "It is important to remember band indices are not infallible, and can incorrectly label areas. However, as the field of remote sensing grows, ongoing research into spectral profiles and refining combinations of bands give rise to more nuanced data analysis. For instance, it is common to use more than one index to help distinguish feature classes with similar spectral characteristics. \n",
    "\n",
    "*mention machine learning applications?*"
   ]
  },
  {
   "cell_type": "markdown",
   "metadata": {},
   "source": [
    "## Conclusion"
   ]
  },
  {
   "cell_type": "markdown",
   "metadata": {},
   "source": [
    "We now know why band indices are an integral part of spatial data analysis. In the following sections, we will calculate band indices using the Sandbox."
   ]
  }
 ],
 "metadata": {
  "kernelspec": {
   "display_name": "Python 3",
   "language": "python",
   "name": "python3"
  },
  "language_info": {
   "codemirror_mode": {
    "name": "ipython",
    "version": 3
   },
   "file_extension": ".py",
   "mimetype": "text/x-python",
   "name": "python",
   "nbconvert_exporter": "python",
   "pygments_lexer": "ipython3",
   "version": "3.6.9"
  }
 },
 "nbformat": 4,
 "nbformat_minor": 4
}
