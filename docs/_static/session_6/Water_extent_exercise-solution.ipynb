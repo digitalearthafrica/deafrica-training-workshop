{
 "cells": [
  {
   "cell_type": "markdown",
   "metadata": {},
   "source": [
    "# Exercise: Determining the extent of water bodies"
   ]
  },
  {
   "cell_type": "markdown",
   "metadata": {},
   "source": [
    "## Set up notebook"
   ]
  },
  {
   "cell_type": "markdown",
   "metadata": {},
   "source": [
    "### Load packages and functions"
   ]
  },
  {
   "cell_type": "markdown",
   "metadata": {},
   "source": [
    "We begin this notebook with our standard set of initial configuration lines to import packages and functions we need. We also import one new function for this exercise: ```wofs_fuser```.  The ```wofs_fuser``` function is used to combine WOfS data from multiple scenes."
   ]
  },
  {
   "cell_type": "code",
   "execution_count": null,
   "metadata": {},
   "outputs": [],
   "source": [
    "import numpy as np\n",
    "import matplotlib.pyplot as plt\n",
    "%matplotlib inline\n",
    "\n",
    "import datacube\n",
    "\n",
    "from deafrica_tools.datahandling import load_ard, wofs_fuser\n",
    "from deafrica_tools.plotting import display_map, rgb"
   ]
  },
  {
   "cell_type": "markdown",
   "metadata": {},
   "source": [
    "### Connect to the datacube"
   ]
  },
  {
   "cell_type": "markdown",
   "metadata": {},
   "source": [
    "We create a new connection to the Open Data Cube, and save it into the variable ```dc```."
   ]
  },
  {
   "cell_type": "code",
   "execution_count": null,
   "metadata": {},
   "outputs": [],
   "source": [
    "dc = datacube.Datacube(app='water_extent')"
   ]
  },
  {
   "cell_type": "markdown",
   "metadata": {},
   "source": [
    "### Select area of interest"
   ]
  },
  {
   "cell_type": "markdown",
   "metadata": {},
   "source": [
    "Below, we save the lat/lon extents of our area of interest into variables that we will use to load the data.  We use the 'buffer method' to define the area in terms of a center point plus or minus a buffer of 0.2 degrees.  In the previous exercie we used a single buffer variable for both latitude and longitude; this time we will define both a ```lat_buffer``` and a ```lon_buffer``` so that we can easily define a rectangular region of interest."
   ]
  },
  {
   "cell_type": "code",
   "execution_count": null,
   "metadata": {},
   "outputs": [],
   "source": [
    "# Define the area of interest\n",
    "lat = -6.0873\n",
    "lon = 35.1817\n",
    "\n",
    "lat_buffer = 0.2\n",
    "lon_buffer = 0.2\n",
    "\n",
    "# Combine central lat,lon with buffer to get area of interest\n",
    "lat_range = (lat - lat_buffer, lat + lat_buffer)\n",
    "lon_range = (lon - lon_buffer, lon + lon_buffer)\n",
    "\n",
    "# Define the year \n",
    "time = '2018'"
   ]
  },
  {
   "cell_type": "code",
   "execution_count": null,
   "metadata": {},
   "outputs": [],
   "source": [
    "display_map(lon_range, lat_range)"
   ]
  },
  {
   "cell_type": "markdown",
   "metadata": {},
   "source": [
    "### Create query object"
   ]
  },
  {
   "cell_type": "markdown",
   "metadata": {},
   "source": [
    "In the following cell, we create a Python dictionary and assign it to the variable ```query```.  Dictionaries are key-value stores, which means that a value stored in a dictionary can be retrieved using the key under which it was stored.  In the dictionary below, for example, we define a key called ```'x'```, and store the ```lon_range``` under that key.  Creating a dictionary to store some or all of the values that we use to load our data can help to keep our code organized, and makes it easier to reuse the parameters in subsequent loads.  Below, we will use ```query``` in two separate calls to ```load_ard``` to load two sets of data (Landsat 8 and WOfS)."
   ]
  },
  {
   "cell_type": "code",
   "execution_count": null,
   "metadata": {},
   "outputs": [],
   "source": [
    "query = {\n",
    "    'x': lon_range,\n",
    "    'y': lat_range,\n",
    "    'resolution': (-30, 30),\n",
    "    'output_crs':'EPSG:6933',\n",
    "    'group_by':'solar_day',\n",
    "    'time': time,\n",
    "}"
   ]
  },
  {
   "cell_type": "markdown",
   "metadata": {},
   "source": [
    "## Load data"
   ]
  },
  {
   "cell_type": "markdown",
   "metadata": {},
   "source": [
    "### Load Landsat 8"
   ]
  },
  {
   "cell_type": "markdown",
   "metadata": {},
   "source": [
    "Note that the following call to ```load_ard``` omits several of the parameters we're used to seeing (such as the extents and resolution).  Instead we use the ```query``` variable that we defined above.  Passing ```**query``` tells Python to send each of the values stored in the dictionary to ```load_ard``` as if we had supplied that value for the parameter identified by the corresponding key.  For example, since the ```query``` dictionary defines ```'x'``` to be ```lon_range```, it is as if we had included the usual ```x = lon_range,``` line in our call to ```load_ard```."
   ]
  },
  {
   "cell_type": "code",
   "execution_count": null,
   "metadata": {},
   "outputs": [],
   "source": [
    "ds_landsat = load_ard(dc=dc,\n",
    "                     products=['ls8_sr'],\n",
    "                     measurements=['red', 'green', 'blue'],\n",
    "                     **query)\n",
    "\n",
    "ds_landsat"
   ]
  },
  {
   "cell_type": "markdown",
   "metadata": {},
   "source": [
    "### Load WOfS"
   ]
  },
  {
   "cell_type": "markdown",
   "metadata": {},
   "source": [
    "For the WOfS product, we use the ```dc.load``` call.  We can also pass the ```query``` dictionary to ```dc.load```, which will reuse the same values that we used in the previous cell."
   ]
  },
  {
   "cell_type": "code",
   "execution_count": null,
   "metadata": {},
   "outputs": [],
   "source": [
    "ds_wofs = dc.load(product=[\"ga_ls8c_wofs_2\"],\n",
    "             fuse_func=wofs_fuser,\n",
    "             **query\n",
    "            )\n",
    "\n",
    "ds_wofs"
   ]
  },
  {
   "cell_type": "markdown",
   "metadata": {},
   "source": [
    "## Calculating water extent"
   ]
  },
  {
   "cell_type": "markdown",
   "metadata": {},
   "source": [
    "### Extract the water pixels"
   ]
  },
  {
   "cell_type": "markdown",
   "metadata": {},
   "source": [
    "Using the table shown in the exercise, we determined that we want to examine all pixels in the WOfS product which have a value equal to 128.  We create a new variable, ```ds_valid_water```, which stores the locations of all pixels in the dataset which are equal to 128. Note this requires the double equals sign ``==``."
   ]
  },
  {
   "cell_type": "code",
   "execution_count": null,
   "metadata": {},
   "outputs": [],
   "source": [
    "ds_valid_water = ds_wofs.water == 128"
   ]
  },
  {
   "cell_type": "markdown",
   "metadata": {},
   "source": [
    "When we view the contents of the ```ds_valid_water``` variable, we can see that it contains a grid of True/False values.  Wherever ```ds_wofs.water``` was equal to 128, the array will be True.  Note that the preview below only shows a small subset of the full DataArray, and there may not be any True pixels visible in the preview output."
   ]
  },
  {
   "cell_type": "code",
   "execution_count": null,
   "metadata": {},
   "outputs": [],
   "source": [
    "ds_valid_water"
   ]
  },
  {
   "cell_type": "markdown",
   "metadata": {},
   "source": [
    "### Calculate the area per pixel"
   ]
  },
  {
   "cell_type": "markdown",
   "metadata": {},
   "source": [
    "We can calculate the area of a pixel by converting its resolution (which we specified in meters per pixel in our ```query``` variable's ```'resolution'``` key) into square kilometers per pixel:"
   ]
  },
  {
   "cell_type": "code",
   "execution_count": null,
   "metadata": {},
   "outputs": [],
   "source": [
    "pixel_length = query[\"resolution\"][1]  # in metres\n",
    "m_per_km = 1000  # conversion from metres to kilometres\n",
    "area_per_pixel = pixel_length**2 / m_per_km**2"
   ]
  },
  {
   "cell_type": "markdown",
   "metadata": {},
   "source": [
    "### Calculate area of water pixels"
   ]
  },
  {
   "cell_type": "markdown",
   "metadata": {},
   "source": [
    "Now that we know how many square kilometers a pixel represents, we can take that number and multiply it by the count of all pixels containing water in order to get the total water area in our dataset."
   ]
  },
  {
   "cell_type": "code",
   "execution_count": null,
   "metadata": {},
   "outputs": [],
   "source": [
    "ds_valid_water_pixel_sum = ds_valid_water.sum(dim=['x', 'y'])\n",
    "ds_valid_water_area = ds_valid_water_pixel_sum * area_per_pixel"
   ]
  },
  {
   "cell_type": "markdown",
   "metadata": {},
   "source": [
    "## Plot Time Series"
   ]
  },
  {
   "cell_type": "markdown",
   "metadata": {},
   "source": [
    "The following lines of code create a new ```figure``` which will contain a plot of our water area data, complete with custom titles, axis labels, etc."
   ]
  },
  {
   "cell_type": "code",
   "execution_count": null,
   "metadata": {},
   "outputs": [],
   "source": [
    "plt.figure(figsize=(18, 4))\n",
    "ds_valid_water_area.plot(marker='o', color='#9467bd')\n",
    "plt.title(f'Time Series Analysis of water observed area')\n",
    "plt.xlabel('Dates')\n",
    "plt.ylabel('Waterbody area (km$^2$)')\n",
    "plt.tight_layout()"
   ]
  },
  {
   "cell_type": "markdown",
   "metadata": {},
   "source": [
    "## Display of water coverage for a selected timestep"
   ]
  },
  {
   "cell_type": "markdown",
   "metadata": {},
   "source": [
    "Finally, we choose one of the times in our time series to generate more customised plots of both the Landsat and WOfS datasets.  Here we have chosen timestep ```4``` (the fifth time in the series, since we start counting at zero) but you are encouraged to experiment with other time indices to find times where the lake has dried out (the line plot above may provide some hints!)."
   ]
  },
  {
   "cell_type": "code",
   "execution_count": null,
   "metadata": {},
   "outputs": [],
   "source": [
    "timestep = 4\n",
    "\n",
    "# Plot water extent\n",
    "fig, ax = plt.subplots(1, 2, figsize=(12, 6))\n",
    "\n",
    "# Plot the true colour image\n",
    "ds_nearest_landsat = ds_landsat.sel(time=ds_wofs.time.isel(time=timestep), method='nearest')\n",
    "rgb(ds_nearest_landsat, ax=ax[0])\n",
    "\n",
    "# Plot the water extent from WOfS\n",
    "ds_wofs.isel(time=timestep).water.plot.imshow(ax=ax[1], cmap=\"Blues\", add_colorbar=False)\n",
    "\n",
    "# Titles\n",
    "ax[0].set_title(\"Water Extent - Landsat\"), ax[0].xaxis.set_visible(False), ax[0].yaxis.set_visible(False)\n",
    "ax[1].set_title(\"Water Extent - WOFS\"), ax[1].xaxis.set_visible(False), ax[1].yaxis.set_visible(False)\n",
    "\n",
    "plt.show()"
   ]
  }
 ],
 "metadata": {
  "kernelspec": {
   "display_name": "Python 3",
   "language": "python",
   "name": "python3"
  },
  "language_info": {
   "codemirror_mode": {
    "name": "ipython",
    "version": 3
   },
   "file_extension": ".py",
   "mimetype": "text/x-python",
   "name": "python",
   "nbconvert_exporter": "python",
   "pygments_lexer": "ipython3",
   "version": "3.6.9"
  },
  "widgets": {
   "application/vnd.jupyter.widget-state+json": {
    "state": {},
    "version_major": 2,
    "version_minor": 0
   }
  }
 },
 "nbformat": 4,
 "nbformat_minor": 4
}
