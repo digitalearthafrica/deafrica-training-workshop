{
 "cells": [
  {
   "cell_type": "markdown",
   "metadata": {},
   "source": [
    "# Working with geomedians"
   ]
  },
  {
   "cell_type": "markdown",
   "metadata": {},
   "source": [
    "Geomedians are \n",
    "\n",
    "*see https://github.com/digitalearthafrica/deafrica-sandbox-notebooks/blob/master/Frequently_used_code/Generating_geomedian_composites.ipynb for useful material on defining geomedians. Probably need to simplify and condense the information. Aim: users understand why to use geomedian and how to use it*\n",
    "\n",
    "*Would have been mentioned in the Time video from the previous section*\n",
    "\n",
    "* scientifically rigorous\n",
    "* better for spectral indices, which we will see next session"
   ]
  },
  {
   "cell_type": "markdown",
   "metadata": {},
   "source": [
    "## `xarray` functions mentioned in trello\n",
    "\n",
    "There is a trello card for Week 3: Explain xarray timeseries\n",
    "\n",
    "Not sure where that best fits in, possibly in this section.\n",
    "\n",
    "*Proposal: function explanations are best paired with immediate exercise/example. These two xarray items might work well with the Week 4 content on spectral indices. Consider moving to Week 4?*"
   ]
  },
  {
   "cell_type": "markdown",
   "metadata": {},
   "source": [
    "## Optional activity"
   ]
  },
  {
   "cell_type": "markdown",
   "metadata": {},
   "source": [
    "*Reference composites notebook to see other examples of composites (possibly [this notebook](https://github.com/digitalearthafrica/deafrica-sandbox-notebooks/blob/master/Frequently_used_code/Generating_composites.ipynb) or [this notebook](https://github.com/digitalearthafrica/deafrica-sandbox-notebooks/blob/master/Frequently_used_code/Generating_geomedian_composites.ipynb), I have not investigated thoroughly)*"
   ]
  },
  {
   "cell_type": "code",
   "execution_count": null,
   "metadata": {},
   "outputs": [],
   "source": []
  }
 ],
 "metadata": {
  "kernelspec": {
   "display_name": "Python 3",
   "language": "python",
   "name": "python3"
  },
  "language_info": {
   "codemirror_mode": {
    "name": "ipython",
    "version": 3
   },
   "file_extension": ".py",
   "mimetype": "text/x-python",
   "name": "python",
   "nbconvert_exporter": "python",
   "pygments_lexer": "ipython3",
   "version": "3.6.9"
  }
 },
 "nbformat": 4,
 "nbformat_minor": 4
}
