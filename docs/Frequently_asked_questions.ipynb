{
 "cells": [
  {
   "cell_type": "markdown",
   "metadata": {},
   "source": [
    "# Frequently asked questions"
   ]
  },
  {
   "cell_type": "raw",
   "metadata": {
    "raw_mimetype": "text/restructuredtext"
   },
   "source": [
    ".. contents::\n",
    "   :local:"
   ]
  },
  {
   "cell_type": "markdown",
   "metadata": {},
   "source": [
    "## I forgot my DE Africa Sandbox password. How do I reset it?\n",
    "\n",
    "Visit the Sandbox homepage at [https://sandbox.digitalearth.africa/hub/login](https://sandbox.digitalearth.africa/hub/login) and click **Login or Sign up**. Click **Forgot your password?** and follow the instructions to reset your password.\n",
    "\n",
    "<img align=\"middle\" src=\"_static/sandbox-forgot-password.PNG\" alt=\"Forgot your password?\" width=\"300\">\n"
   ]
  },
  {
   "cell_type": "markdown",
   "metadata": {},
   "source": [
    "## I accidentally deleted a pre-loaded notebook in the Sandbox. How do I get it back?\n",
    "\n",
    "The DE Africa Sandbox session automatically loads several folders of default notebooks. If you have accidentally deleted any of the folders or notebooks, they can be restored by restarting the server. \n",
    "\n",
    "1. Save any open working files.\n",
    "2. Select **File -> Hub Control Panel**. This will open a new tab. \n",
    "3. On the new tab, select **Stop My Server**. The server will take a few minutes to stop.\n",
    "4. When the server has stopped, the buttons will refresh. Select **Start My Server**.\n",
    "5. Select **Launch Server** and **Start**.\n",
    "\n",
    "This should reload all default folders and notebooks for the DE Africa Sandbox. Note that this will **not** overwrite files that have been added, renamed, or modified. Additionally, this only applies to default pre-loaded files and will not restore personal notebooks that have been deleted."
   ]
  },
  {
   "cell_type": "markdown",
   "metadata": {},
   "source": [
    "## I have fallen behind on course content. Can I still complete the course?"
   ]
  },
  {
   "cell_type": "markdown",
   "metadata": {},
   "source": [
    "Yes. It is recommended to spend 2 hours a week on new content. This will allow you to build on the previous week's content and finish the training course in around 6 weeks. However, this training course is self-paced, so there is no cut-off date for access. You are encouraged and welcome to spend more time on the course as necessary.\n",
    "\n",
    "Certification will be evaluated by submissions to the course conveners, so it is possible to obtain certification even if the course takes you longer than 6 weeks to complete.\n",
    "\n",
    "If you need help with the content or have course feedback, see the [course logistics](Course_logistics.ipynb) page for support channels and convener contact information."
   ]
  },
  {
   "cell_type": "markdown",
   "metadata": {},
   "source": [
    "## How do I download an offline copy of course material?"
   ]
  },
  {
   "cell_type": "markdown",
   "metadata": {},
   "source": [
    "The Digital Earth Africa training course material can be downloaded as a PDF for offline reading or printing. The PDF contains all text and images, but does not embed videos. As content may be updated, it is recommended you download a new copy every 1 &ndash; 2 weeks.\n",
    "\n",
    "1. Go to the Digital Earth Africa training homepage at [https://training.digitalearthafrica.org/en/latest/index.html](https://training.digitalearthafrica.org/en/latest/index.html).\n",
    "2. Scroll to the bottom of the page and click **v: latest** to expand the menu.\n",
    "\n",
    "    ![Latest](_static/faq-download-1.PNG){ width=\"400px\" }\n",
    "\n",
    "3. Select **PDF**. This will generate a PDF of the training website. Click **Save** or **Download** to save a copy to your computer.\n",
    "\n",
    "    ![PDF](_static/faq-download-2.PNG){ width=\"400px\" }\n",
    "\n",
    "Note Sandbox access requires an internet connection. You will not be able to complete Sandbox exercises offline.\n",
    "\n",
    "PDFs can be viewed using [Adobe Acrobat Reader DC](https://get.adobe.com/reader/), which can be downloaded for free."
   ]
  },
  {
   "cell_type": "markdown",
   "metadata": {},
   "source": [
    "## My kernel has crashed. What do I do?"
   ]
  },
  {
   "cell_type": "markdown",
   "metadata": {},
   "source": [
    "The Digital Earth Africa Sandbox has a finite amount of processing power for each user. This means if you attempt to load or calculate a lot of data, the kernel may crash. You will see a message like this:\n",
    "\n",
    "![Kernel error](_static/faq-kernel-restart.PNG){ width=\"300px\" }\n",
    "\n",
    "You will not lose any files, but will have to rerun your notebook to continue working. However, if the notebook is demanding too many resources, it will crash again.\n",
    "\n",
    "You can prevent kernel crashes by:\n",
    "\n",
    "* Decreasing the area to load and process data\n",
    "* Shortening the time extent\n",
    "* Shutting down kernels of notebooks you have finished using: open the notebook and select **Kernel -> Shut Down Kernel**"
   ]
  }
 ],
 "metadata": {
  "kernelspec": {
   "display_name": "Python 3",
   "language": "python",
   "name": "python3"
  },
  "language_info": {
   "codemirror_mode": {
    "name": "ipython",
    "version": 3
   },
   "file_extension": ".py",
   "mimetype": "text/x-python",
   "name": "python",
   "nbconvert_exporter": "python",
   "pygments_lexer": "ipython3",
   "version": "3.6.9"
  }
 },
 "nbformat": 4,
 "nbformat_minor": 4
}
