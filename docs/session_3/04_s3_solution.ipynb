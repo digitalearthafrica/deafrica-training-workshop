{
 "cells": [
  {
   "cell_type": "markdown",
   "metadata": {},
   "source": [
    "# Session 3 Quiz and Solution"
   ]
  },
  {
   "cell_type": "markdown",
   "metadata": {},
   "source": [
    "In Session 3, you loaded Sentinel-2 data into the Sandbox using `load_ard()`. The first section of the exercise showed that `load_ard()` applies a cloud mask to each timestep in the dataset. The second part of the exercise used the same dataset to calculate and plot a cloud-free geomedian, using `xr_geomedian()` and `rgb()`."
   ]
  },
  {
   "cell_type": "markdown",
   "metadata": {},
   "source": [
    "## Quiz"
   ]
  },
  {
   "cell_type": "markdown",
   "metadata": {},
   "source": [
    "If you would like to be awarded a certificate of achievement at the end of the course, we ask that you [complete the quiz](https://docs.google.com/forms/d/e/1FAIpQLSfrW9iPikaKStkWRvp7o0CjmPeXj_xQatR58xQPDPEq_Et0CA/viewform?usp=sf_link). You will need to supply your email address to progress towards the certificate. After you complete the quiz, you can check if your answers were correct by pressing the **View Accuracy** button.\n",
    "\n",
    "The quiz will ask you to use the notebook you developed for this session's exercise on loading data. If you would like to confirm that your notebook works as expected, you can check it against the solution notebook provided below. "
   ]
  },
  {
   "cell_type": "raw",
   "metadata": {
    "raw_mimetype": "text/restructuredtext"
   },
   "source": [
    ".. note::\n",
    "    The solution notebook below does not contain the answer to the quiz. Use it to check that you implemented the exercise correctly, then use your exercise notebook to answer the quiz. Accessing the solution notebook will not affect your progression towards the certificate."
   ]
  },
  {
   "cell_type": "markdown",
   "metadata": {},
   "source": [
    "## Solution notebook"
   ]
  },
  {
   "cell_type": "raw",
   "metadata": {
    "raw_mimetype": "text/restructuredtext"
   },
   "source": [
    ".. note::\n",
    "    We strongly encourage you to attempt the exercises on the previous two pages before downloading the solution below. This will help you learn how to use the Sandbox independently for your own analyses."
   ]
  },
  {
   "cell_type": "markdown",
   "metadata": {},
   "source": [
    "[Download the solution notebook for the Session 3 exercises](../_static/session_3/Geomedian_composite_solution.ipynb)\n",
    "\n",
    "To view this notebook on the Sandbox, you will need to first download it to your computer, then upload it to the Sandbox. Follow these instructions:\n",
    "\n",
    "1. Download the notebook by clicking the link above.\n",
    "2. On the Sandbox, open the **Training** folder.\n",
    "3. Click the **Upload Files** button as shown below.\n",
    "\n",
    "<img align=\"middle\" src=\"../_static/session_2/05_solution_uploadbutton.png\" alt=\"Upload button.\" width=400>\n",
    "\n",
    "4. Select the downloaded notebook using the file browser. Click **OK**.\n",
    "5. The solution notebook will appear in the **Training** folder. Double-click to open it."
   ]
  }
 ],
 "metadata": {
  "kernelspec": {
   "display_name": "Python 3",
   "language": "python",
   "name": "python3"
  },
  "language_info": {
   "codemirror_mode": {
    "name": "ipython",
    "version": 3
   },
   "file_extension": ".py",
   "mimetype": "text/x-python",
   "name": "python",
   "nbconvert_exporter": "python",
   "pygments_lexer": "ipython3",
   "version": "3.7.4"
  }
 },
 "nbformat": 4,
 "nbformat_minor": 4
}
