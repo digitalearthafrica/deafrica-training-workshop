{
 "cells": [
  {
   "cell_type": "markdown",
   "metadata": {},
   "source": [
    "# Create a geomedian composite"
   ]
  },
  {
   "cell_type": "markdown",
   "metadata": {},
   "source": [
    "## Overview"
   ]
  },
  {
   "cell_type": "markdown",
   "metadata": {},
   "source": [
    "In this exercise, we will load data from the datacube and create a geomedian composite. First, we will set up a new notebook to work in. Then, we will load Sentinel-2 data for a specific time and visualize individual time steps. Finally, we will create a geomedian composite and compare it to the individual time steps."
   ]
  },
  {
   "cell_type": "markdown",
   "metadata": {},
   "source": [
    "## Make a new notebook"
   ]
  },
  {
   "cell_type": "markdown",
   "metadata": {},
   "source": [
    "Create new notebook in the **Training** folder and name it `geomedian_composite.ipynb`.\n",
    "\n",
    "If you need a few hints on the steps to make a new notebook, see this [section from the cloud masking exercise](./01_cloud_masking.ipynb#).\n",
    "\n",
    "If you want more detailed instructions on making a new notebook, see [this section in the exercise on loading data in the Sandbox](../session_2/04_Load_data_exercise.ipynb#Make-a-new-notebook) from the previous session."
   ]
  },
  {
   "cell_type": "markdown",
   "metadata": {},
   "source": [
    "## Set up notebook\n",
    "\n",
    "### Load packages and functions"
   ]
  },
  {
   "cell_type": "markdown",
   "metadata": {},
   "source": [
    "In the first cell, type the following code and then run the cell. Recall that cells can be run with the `Shift + Enter` keyboard shortcut.\n",
    "\n",
    "![image1](../_static/session_3/03_geomedian_exercise_01_imports.png)"
   ]
  },
  {
   "cell_type": "markdown",
   "metadata": {},
   "source": [
    "### Connect to the datacube"
   ]
  },
  {
   "cell_type": "markdown",
   "metadata": {},
   "source": [
    "Enter the following code and run the cell to create our `dc` object, which provides access to the datacube.\n",
    "\n",
    "![image2](../_static/session_3/03_geomedian_exercise_02_connect_to_the_datacube.png)"
   ]
  },
  {
   "cell_type": "markdown",
   "metadata": {},
   "source": [
    "### Load Sentinel-2 data"
   ]
  },
  {
   "cell_type": "markdown",
   "metadata": {},
   "source": [
    "This exercise will load Sentinel-2 data for an area of Dar es Salaam, Tanzania.\n",
    "\n",
    "First, we will view this area on a map. In the new cell below, enter the following code, and then run it to see this area on a map.\n",
    "\n",
    "![image3](../_static/session_3/03_geomedian_exercise_03_display_map_1.png)"
   ]
  },
  {
   "cell_type": "markdown",
   "metadata": {},
   "source": [
    "The output of that cell should look like this.\n",
    "\n",
    "![image4](../_static/session_3/03_geomedian_exercise_04_display_map_2.png)"
   ]
  },
  {
   "cell_type": "markdown",
   "metadata": {},
   "source": [
    "In the new cell below, enter the following code, and then run it to load Sentinel-2 data. \n",
    "\n",
    "![image5](../_static/session_3/03_geomedian_exercise_05_load_data.png)"
   ]
  },
  {
   "cell_type": "markdown",
   "metadata": {},
   "source": [
    "### Create RGB images for all time steps"
   ]
  },
  {
   "cell_type": "markdown",
   "metadata": {},
   "source": [
    "In the next blank cell, enter the following code. Run the cell to generate RGB images for the time steps.\n",
    "\n",
    "![image6](../_static/session_3/03_geomedian_exercise_06_rgb_1.png)"
   ]
  },
  {
   "cell_type": "markdown",
   "metadata": {},
   "source": [
    "The RGB images will look like this:\n",
    "\n",
    "![image7](../_static/session_3/03_geomedian_exercise_07_rgb_2.png)"
   ]
  },
  {
   "cell_type": "markdown",
   "metadata": {},
   "source": [
    "There is a significant amount of cloud cover. Some pixels - many of the completely white ones - will be ignored when compositing because `load_ard()` filtered them. But on `2018-01-21`, `2018-01-26`, and `2018-01-31` - the last 3 images - both clouds and cloud shadows remain in the image."
   ]
  },
  {
   "cell_type": "markdown",
   "metadata": {},
   "source": [
    "### Create a geomedian composite"
   ]
  },
  {
   "cell_type": "markdown",
   "metadata": {},
   "source": [
    "Now we will create a geomedian composite. Hopefully the result will not have clouds or cloud shadows.\n",
    "\n",
    "In the new cell below, enter the following code, and then run it to create a geomedian composite.\n",
    "\n",
    "![image8](../_static/session_3/03_geomedian_exercise_08_geomedian.png)"
   ]
  },
  {
   "cell_type": "markdown",
   "metadata": {},
   "source": [
    "### Create an RGB image of the composite"
   ]
  },
  {
   "cell_type": "markdown",
   "metadata": {},
   "source": [
    "In the new cell below, enter the following code, and then run it to generate an RGB image of the composite.\n",
    "\n",
    "![image9](../_static/session_3/03_geomedian_exercise_09_geomedian_rgb_1.png)"
   ]
  },
  {
   "cell_type": "markdown",
   "metadata": {},
   "source": [
    "The RGB image will look like this:\n",
    "\n",
    "![image10](../_static/session_3/03_geomedian_exercise_10_geomedian_rgb_2.png)\n",
    "\n",
    "Excellent! There are no clouds or cloud shadows in the geomedian composite.\n",
    "\n",
    "There are some visual anomalies, but most of the image accurately represents the area."
   ]
  },
  {
   "cell_type": "markdown",
   "metadata": {},
   "source": [
    "## Conclusion"
   ]
  },
  {
   "cell_type": "markdown",
   "metadata": {},
   "source": [
    "We have created a geomedian composite of Sentinel-2 data and seen that it is an accurate representation of an area and can fill in missing or masked data as well as clouds and cloud shadows."
   ]
  }
 ],
 "metadata": {
  "kernelspec": {
   "display_name": "Python 3",
   "language": "python",
   "name": "python3"
  },
  "language_info": {
   "codemirror_mode": {
    "name": "ipython",
    "version": 3
   },
   "file_extension": ".py",
   "mimetype": "text/x-python",
   "name": "python",
   "nbconvert_exporter": "python",
   "pygments_lexer": "ipython3",
   "version": "3.6.9"
  }
 },
 "nbformat": 4,
 "nbformat_minor": 4
}
