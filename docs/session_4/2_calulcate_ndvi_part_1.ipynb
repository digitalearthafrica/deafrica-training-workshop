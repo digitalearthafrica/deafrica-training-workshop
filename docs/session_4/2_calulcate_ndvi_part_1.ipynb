{
 "cells": [
  {
   "cell_type": "markdown",
   "metadata": {},
   "source": [
    "## Calculating NDVI: Part 1\n",
    "\n",
    "This exercise follows on from the previous section. In the [final exercise of the previous session](../session_3/03_geomedian_exercise.ipynb), you constructed a notebook to create geomedian composite.\n",
    "\n",
    "In this section, we will re-run the notebook from the previous section. However, we will change the area of interest and time extent. We will resample the new dataset and create a geomedian of the new data. In the next section, we will calculate and plot NDVI."
   ]
  },
  {
   "cell_type": "raw",
   "metadata": {
    "raw_mimetype": "text/restructuredtext"
   },
   "source": [
    ".. note::\n",
    "    We will be using the notebook we created in the previous section, `Create a geomedian composite <../session_3/03_geomedian_exercise.ipynb>`_. If you have not already set up a copy of the notebook called ``Geomedian_composite.ipynb`` with the required packages and functions, follow the instructions in previous section. Ensure you have completed all the steps, including loading the Sentinel-2 dataset."
   ]
  },
  {
   "cell_type": "markdown",
   "metadata": {},
   "source": [
    "## Set up notebook\n",
    "\n",
    "### Create a copy of the notebook\n",
    "\n",
    "Before you continue with the next step\n",
    "\n",
    "1. Log in to the Sandbox and open the **Training** folder.\n",
    "2. Make a copy of the `Geomedian_composite.ipynb` notebook.\n",
    "3. Rename the notebook to `calculate_ndvi.ipynb`.\n",
    "\n",
    "More details on how to [create a copy of a notebook and rename it](https://training.digitalearthafrica.org/en/latest/session_1/04_running_a_notebook.html#Create-a-copy-of-the-notebook).\n",
    "\n",
    "### Changing the parameter for area of interest\n",
    "\n",
    "We want to use a different time and area for calculating NDVI. \n",
    "Change the latitude, longitude, x, y and time values to match values below.\n",
    "\n",
    "\n",
    "`lat = -15.92`\n",
    "\n",
    "`lon =  46.35`\n",
    "\n",
    "`buffer = 0.075`\n",
    "\n",
    "`x = (lon-buffer, lon+buffer)`\n",
    "\n",
    "`y = (lat+buffer, lat-buffer)`\n",
    "\n",
    "`time = ('2019-01', '2019-12')`\n"
   ]
  },
  {
   "cell_type": "markdown",
   "metadata": {},
   "source": [
    "### Run the notebook\n",
    "\n",
    "If your file browser is not already in the **Training** folder, navigate to the **Training** folder.\n",
    "\n",
    "1. Double-click `calculate_ndvi.ipynb`. It will open in the Launcher.\n",
    "2. Select **Kernel -> Restart Kernel and Run All Cells…**.\n",
    "3. When prompted, select **Restart**.\n",
    "4. The notebook may take a little while to run. Check all the cells have run successfully with no error messages."
   ]
  },
  {
   "cell_type": "markdown",
   "metadata": {},
   "source": [
    "###  Plot timesteps\n",
    "\n",
    "Set the timesteps to visualise\n",
    "`timesteps = [2, 3, 6]`\n",
    "\n",
    "#### Generate RGB plots at each timestep\n",
    "`rgb(ds, index=timesteps)`\n",
    "\n",
    "<img align=\"middle\" src=\"ndvi_part_1_plot_rgb.PNG\" alt=\"The DE Africa Sandbox Jupyterlab tutorial image.\" width=\"1000\">"
   ]
  },
  {
   "cell_type": "markdown",
   "metadata": {},
   "source": [
    "## Resampling the dataset\n",
    "Resampling is used to create a new set of times at regular intervals. Using the resample method, the data can be arranged in days, months, quarterly (three months) or yearly. \n",
    "\n",
    "Below gives examples of how the data are grouped.\n",
    "\n",
    "   * `'nD'` - number of days (e.g. `'7D'` for seven days)\n",
    "   * `'nM'` - number of months (e.g. `'6M'` for six months)\n",
    "   * `'nY'` - number of years (e.g. `'2Y'` for two years)"
   ]
  },
  {
   "cell_type": "markdown",
   "metadata": {},
   "source": [
    "Follow the steps below to resample the dataset time steps to quarterly.\n",
    "\n",
    "1. Create a new cell using `Esc + B`\n",
    "2. In the new created cell, enter the syntax below \n",
    "   \n",
    "   `resample_da = da.resample(time='3MS')`\n",
    "   \n",
    "('S' at the end of 3MS is to group the data by start of the month)."
   ]
  },
  {
   "cell_type": "markdown",
   "metadata": {},
   "source": [
    "### Compute the geomedian\n",
    "\n",
    "For this session, instead of calling `xr_geomedian(ds)` on the entire array as we did in the previous exercise, we pass the `xr_geomedian` function to `map` and apply it separately to each resampled group(`resample_da`).\n",
    "\n",
    "`geomedian_resample = resample_da.map(xr_geomedian)`"
   ]
  },
  {
   "cell_type": "markdown",
   "metadata": {},
   "source": [
    "We can plot the output geomedians, and see the change in the landscape over the year:"
   ]
  },
  {
   "cell_type": "markdown",
   "metadata": {},
   "source": [
    "`rgb (geomedian, col=\"time\", col_wrap=4)`\n",
    "\n",
    "<img align=\"middle\" src=\"ndvi_part_1_resample_rgb.PNG\" alt=\"The DE Africa Sandbox Jupyterlab tutorial image.\" width=\"1000\">\n",
    "\n",
    "* Click on the image to enlarge."
   ]
  },
  {
   "cell_type": "markdown",
   "metadata": {},
   "source": [
    "### Comparing the two dataset\n",
    "\n",
    "Comparing the two dataset can you tell the difference from the results shown below? \n",
    "\n",
    "`ds`\n",
    "\n",
    "<img align=\"middle\" src=\"ndvi_part_1_dataset.PNG\" alt=\"The DE Africa Sandbox Jupyterlab tutorial image.\" width=\"800\">"
   ]
  },
  {
   "cell_type": "markdown",
   "metadata": {},
   "source": [
    "`geomedian_resample`\n",
    "\n",
    "<img align=\"middle\" src=\"ndvi_part_1_geomedian_resample.PNG\" alt=\"The DE Africa Sandbox Jupyterlab tutorial image.\" width=\"800\">"
   ]
  },
  {
   "cell_type": "markdown",
   "metadata": {},
   "source": [
    "Looking at the dimensions the raw dataset(`ds`) has 71 time steps loaded but after resampling to quaterly the time dimension is now 4."
   ]
  },
  {
   "cell_type": "markdown",
   "metadata": {},
   "source": [
    "## Conclusion\n",
    "\n",
    "Congratulations! You have finished the 4th session of this training!\n",
    "\n",
    "We have created a geomedian composite using resampling of Sentinel-2 data to quartely time stamps.\n",
    "\n",
    "\n",
    "Try with different resampling values?\n",
    "\n",
    "\n",
    "Did you learn anything interesting to share with us?"
   ]
  }
 ],
 "metadata": {
  "kernelspec": {
   "display_name": "Python 3",
   "language": "python",
   "name": "python3"
  },
  "language_info": {
   "codemirror_mode": {
    "name": "ipython",
    "version": 3
   },
   "file_extension": ".py",
   "mimetype": "text/x-python",
   "name": "python",
   "nbconvert_exporter": "python",
   "pygments_lexer": "ipython3",
   "version": "3.6.9"
  }
 },
 "nbformat": 4,
 "nbformat_minor": 4
}
