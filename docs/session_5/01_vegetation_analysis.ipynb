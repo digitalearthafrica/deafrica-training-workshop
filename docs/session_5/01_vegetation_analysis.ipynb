{
 "cells": [
  {
   "cell_type": "markdown",
   "metadata": {},
   "source": [
    "# Vegetation analysis"
   ]
  },
  {
   "cell_type": "markdown",
   "metadata": {},
   "source": [
    "In the [last session](), we calculated the Normalised Difference Vegetation Index (NDVI) as a method of measuring green vegetation over our area of interest. \n",
    "\n",
    "We saw how the index allowed easier analysis of Earth observation data, and allowed comparison across time periods. However, it also had limitations. In our NDVI map of the fields around Mansoura, Egypt, we saw there were areas which constantly had low NDVI. We would need to provide additional context to know those were urbanised areas.\n",
    "\n",
    "Taking vegetation analysis further now depends on **what you want to do**. Knowing the strengths and limitations of vegetation indices, we can use it to form the basis of a complete case study. \n",
    "\n",
    "This session is about extending the dataset calculations into a meaningful report. First, we need to select the aim of our analysis."
   ]
  },
  {
   "cell_type": "markdown",
   "metadata": {},
   "source": [
    "## The significance of vegetation"
   ]
  },
  {
   "cell_type": "markdown",
   "metadata": {},
   "source": [
    "Growing things are a cornerstone of life on Earth. Monitoring vegetation can give us insight to:\n",
    "\n",
    "* **Agriculture:** including cropping, seasonal patterns and changes in land use\n",
    "\n",
    "* **Environment health and industry:** including forestry, logging and mining\n",
    "\n",
    "* **Climate:** including desertification and drought"
   ]
  },
  {
   "cell_type": "markdown",
   "metadata": {},
   "source": [
    "## Real world example notebooks"
   ]
  },
  {
   "cell_type": "markdown",
   "metadata": {},
   "source": [
    "As vegetation is a useful indicator of so many \n",
    "\n",
    "Several of these notebooks can be found in the folder called **Real_world_examples**."
   ]
  },
  {
   "cell_type": "markdown",
   "metadata": {},
   "source": [
    "* Crop health\n",
    "\n",
    "* Wetlands insight tool\n",
    "\n",
    "* Vegetation change detection"
   ]
  },
  {
   "cell_type": "raw",
   "metadata": {
    "raw_mimetype": "text/restructuredtext"
   },
   "source": [
    ".. note::\n",
    "    It is recommended you open these notebooks in the Sandbox. This will allow you to run the pre-prepared code for yourself. However, they can also be viewed at the links provided above, which will display a read-only HTML version from GitHub."
   ]
  },
  {
   "cell_type": "markdown",
   "metadata": {},
   "source": [
    "If you've opened up some of these notebooks, you might notice they are more complicated than the exercises in this training course. However, they all have the same structure as the notebooks you have created to complete the exercises.\n",
    "\n",
    "Each notebook:\n",
    "\n",
    "1. Loads packages and functions\n",
    "2. Connects to the datacube\n",
    "3. Defines the area of interest using longitude and latitude\n",
    "4. Loads data from the datacube\n",
    "5. Performs analysis or calculation on the data \n",
    "6. Plots the results\n",
    "\n",
    "The **Real_world_examples** notebooks go a step further:\n",
    "\n",
    "7. Extend results analysis and discussion\n",
    "\n"
   ]
  },
  {
   "cell_type": "markdown",
   "metadata": {},
   "source": [
    "## Make your own vegetation change notebook"
   ]
  },
  {
   "cell_type": "markdown",
   "metadata": {},
   "source": [
    "This week's exercise is about "
   ]
  }
 ],
 "metadata": {
  "kernelspec": {
   "display_name": "Python 3",
   "language": "python",
   "name": "python3"
  },
  "language_info": {
   "codemirror_mode": {
    "name": "ipython",
    "version": 3
   },
   "file_extension": ".py",
   "mimetype": "text/x-python",
   "name": "python",
   "nbconvert_exporter": "python",
   "pygments_lexer": "ipython3",
   "version": "3.6.9"
  }
 },
 "nbformat": 4,
 "nbformat_minor": 4
}
