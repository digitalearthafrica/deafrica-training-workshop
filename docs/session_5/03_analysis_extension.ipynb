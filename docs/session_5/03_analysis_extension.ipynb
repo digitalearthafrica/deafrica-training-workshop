{
 "cells": [
  {
   "cell_type": "markdown",
   "metadata": {},
   "source": [
    "# Extra features"
   ]
  },
  {
   "cell_type": "markdown",
   "metadata": {},
   "source": [
    "Recall from the "
   ]
  },
  {
   "cell_type": "markdown",
   "metadata": {},
   "source": [
    "### Detect total change"
   ]
  },
  {
   "cell_type": "markdown",
   "metadata": {},
   "source": [
    "(This section was moved from the **02_vegetation_exercise** document in this session. It shows how to find the difference in the total mean for the time periods. I also considered showing how to find and plot the differences of per-time-slice means to their half's mean - possibly coloring parts of the graph higher than the mean in green and parts lower than the mean in red.)\n",
    "\n",
    "Sometimes we want to know exactly how much the average vegetation index value changes between time periods - not just how much the average of the values for each pixel changes.\n",
    "\n",
    "In the next cell, enter the following code, and then run it to compute the average of the vegetation index values for the older and newer halves. Note that the `.values` after `mean()` changes the result from an `xarray` object to a number so that we can easily print results in the next cell."
   ]
  },
  {
   "cell_type": "code",
   "execution_count": 21,
   "metadata": {},
   "outputs": [],
   "source": [
    "baseline_mean = baseline_sample.mean().values\n",
    "postbaseline_mean = postbaseline_sample.mean().values"
   ]
  },
  {
   "cell_type": "markdown",
   "metadata": {},
   "source": [
    "In the next cell, enter the following code, and then run it to calculate the difference between the averages of the older and newer halves of the data to check for vegetation change.\n",
    "\n",
    "The strings here start with `f` to allow code expressions like `baseline_mean` or `diff_total_mean` to be evaluated and substituted into the string when enclosed in braces. The `:.2%` in the substitution in the `Percent EVI difference` string formats the output as a percent with 2 decimal places (so the value of `diff_total_mean / baseline_mean` is approximately `-0.0159`, which is the decimal equivalent of `-1.59%`)."
   ]
  },
  {
   "cell_type": "code",
   "execution_count": 28,
   "metadata": {},
   "outputs": [
    {
     "name": "stdout",
     "output_type": "stream",
     "text": [
      "First half EVI: 0.46214985847473145\n",
      "Second half EVI: 0.4548082649707794\n",
      "EVI difference: -0.007341593503952026\n",
      "Percent EVI difference: -1.59%\n"
     ]
    }
   ],
   "source": [
    "diff_total_mean = postbaseline_mean - baseline_mean\n",
    "print(f\"First half EVI: {baseline_mean}\")\n",
    "print(f\"Second half EVI: {postbaseline_mean}\")\n",
    "print(f\"EVI difference: {diff_total_mean}\")\n",
    "print(f\"Percent EVI difference: {(diff_total_mean / baseline_mean):.2%}\")"
   ]
  }
 ],
 "metadata": {
  "kernelspec": {
   "display_name": "Python 3",
   "language": "python",
   "name": "python3"
  },
  "language_info": {
   "codemirror_mode": {
    "name": "ipython",
    "version": 3
   },
   "file_extension": ".py",
   "mimetype": "text/x-python",
   "name": "python",
   "nbconvert_exporter": "python",
   "pygments_lexer": "ipython3",
   "version": "3.6.9"
  }
 },
 "nbformat": 4,
 "nbformat_minor": 4
}
