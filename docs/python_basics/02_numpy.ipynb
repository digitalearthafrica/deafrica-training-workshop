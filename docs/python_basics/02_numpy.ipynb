{
 "cells": [
  {
   "cell_type": "markdown",
   "metadata": {},
   "source": [
    "# Python basics 2: Numpy"
   ]
  },
  {
   "cell_type": "markdown",
   "metadata": {},
   "source": [
    "This tutorial introduces numpy (pronounced _num-pye_, rhymes with _eye_), a Python library for performing numerical computations in Python. We will learn how to create and manipulate numpy arrays, which are useful matrix-like structures for holding large amounts of data."
   ]
  },
  {
   "cell_type": "markdown",
   "metadata": {},
   "source": [
    "Follow the instructions below to download the tutorial and open it in the Sandbox."
   ]
  },
  {
   "cell_type": "markdown",
   "metadata": {},
   "source": [
    "## Download the tutorial notebook"
   ]
  },
  {
   "cell_type": "markdown",
   "metadata": {},
   "source": [
    "[Download the Python basics 2 tutorial notebook](../_static/python_basics/02_download-numpy.ipynb)\n",
    "\n",
    "To view this notebook on the Sandbox, you will need to first download it to your computer, then upload it to the Sandbox. Ensure you have followed the set-up prerequisities listed in [Python basics 1: Jupyter](./01_jupyter.ipynb), and then follow these instructions:\n",
    "\n",
    "1. Download the notebook by clicking the link above.\n",
    "2. On the Sandbox, open the **Training** folder.\n",
    "3. Click the **Upload Files** button as shown below.\n",
    "\n",
    "<img align=\"middle\" src=\"../_static/session_2/05_solution_uploadbutton.png\" alt=\"Upload button.\" width=400>\n",
    "\n",
    "4. Select the downloaded notebook using the file browser. Click **OK**.\n",
    "5. The solution notebook will appear in the **Training** folder. Double-click to open it.\n",
    "\n",
    "You can now use the tutorial notebook as an interactive version of this webpage. "
   ]
  },
  {
   "cell_type": "raw",
   "metadata": {
    "raw_mimetype": "text/restructuredtext"
   },
   "source": [
    ".. note::\n",
    "    The tutorial notebook should look like the text and code below. However, the tutorial notebook outputs are blank (i.e. no results showing after code cells). Follow the instructions in the notebook to run the cells in the tutorial notebook. Refer to this page to check your outputs look similar."
   ]
  },
  {
   "cell_type": "markdown",
   "metadata": {},
   "source": [
    "## Introduction to numpy"
   ]
  },
  {
   "cell_type": "markdown",
   "metadata": {},
   "source": [
    "In order to be able to use numpy we need to import the numpy library using the special word `import`. To avoid typing `numpy` every time we want to use one of its functions, we can provide an alias using the special word `as`. We will nickname numpy as `np`:"
   ]
  },
  {
   "cell_type": "code",
   "execution_count": 1,
   "metadata": {},
   "outputs": [],
   "source": [
    "import numpy as np"
   ]
  },
  {
   "cell_type": "markdown",
   "metadata": {},
   "source": [
    ">**Note:** If we do not `import numpy`, we cannot use any of the numpy functions. If you forget to import packages, you may get an error that says `name is not defined`.\n",
    "\n",
    "Now, we have access to all the functions available in `numpy` by typing `np.name_of_function`. For example, the equivalent of `1 + 1` in Python can be done in `numpy`:"
   ]
  },
  {
   "cell_type": "code",
   "execution_count": 2,
   "metadata": {},
   "outputs": [
    {
     "data": {
      "text/plain": [
       "2"
      ]
     },
     "execution_count": 2,
     "metadata": {},
     "output_type": "execute_result"
    }
   ],
   "source": [
    "np.add(1,1)"
   ]
  },
  {
   "cell_type": "markdown",
   "metadata": {},
   "source": [
    "By default the result of a function or operation is shown underneath the cell containing the code. If we want to reuse this result for a later operation we can assign it to a variable. For instance, let us call the variable `a`:"
   ]
  },
  {
   "cell_type": "code",
   "execution_count": 3,
   "metadata": {},
   "outputs": [],
   "source": [
    "a = np.add(2,3)"
   ]
  },
  {
   "cell_type": "markdown",
   "metadata": {},
   "source": [
    "We have just declared a variable `a` that holds the result of the function. We can now use of display this variable, at any point of this notebook. For example we can show its contents by typing the variable name in a new cell:"
   ]
  },
  {
   "cell_type": "code",
   "execution_count": 4,
   "metadata": {},
   "outputs": [
    {
     "data": {
      "text/plain": [
       "5"
      ]
     },
     "execution_count": 4,
     "metadata": {},
     "output_type": "execute_result"
    }
   ],
   "source": [
    "a"
   ]
  },
  {
   "cell_type": "markdown",
   "metadata": {},
   "source": [
    " One of numpy's core concepts is the `array`. They can hold multi-dimensional data. To declare a numpy array explicity we do:"
   ]
  },
  {
   "cell_type": "code",
   "execution_count": 6,
   "metadata": {},
   "outputs": [],
   "source": [
    "np.array([1,2,3,4,5,6,7,8,9])"
   ]
  },
  {
   "cell_type": "markdown",
   "metadata": {},
   "source": [
    ">**Note:** The array defined above has only 1 dimension."
   ]
  },
  {
   "cell_type": "markdown",
   "metadata": {},
   "source": [
    "Most of the functions and operations defined in numpy can be applied to arrays. For example, with the previous `add` operation:"
   ]
  },
  {
   "cell_type": "code",
   "execution_count": 7,
   "metadata": {},
   "outputs": [
    {
     "data": {
      "text/plain": [
       "array([ 4,  6,  8, 10])"
      ]
     },
     "execution_count": 7,
     "metadata": {},
     "output_type": "execute_result"
    }
   ],
   "source": [
    "arr1 = np.array([1,2,3,4])\n",
    "arr2 = np.array([3,4,5,6])\n",
    "\n",
    "np.add(arr1, arr2)"
   ]
  },
  {
   "cell_type": "markdown",
   "metadata": {},
   "source": [
    "We can also add arrays using the following convenient notation:"
   ]
  },
  {
   "cell_type": "code",
   "execution_count": 8,
   "metadata": {},
   "outputs": [
    {
     "data": {
      "text/plain": [
       "array([ 4,  6,  8, 10])"
      ]
     },
     "execution_count": 8,
     "metadata": {},
     "output_type": "execute_result"
    }
   ],
   "source": [
    "arr1 + arr2"
   ]
  },
  {
   "cell_type": "markdown",
   "metadata": {},
   "source": [
    "Arrays can be sliced and diced. We can get subsets of the arrays using the indexing notation which is `[ start : end : stride ]`. Let's see what this means:"
   ]
  },
  {
   "cell_type": "code",
   "execution_count": 8,
   "metadata": {},
   "outputs": [
    {
     "name": "stdout",
     "output_type": "stream",
     "text": [
      "5\n",
      "[ 5  6  7  8  9 10 11 12 13 14 15]\n",
      "[0 1 2 3 4]\n",
      "[ 0  2  4  6  8 10 12 14]\n"
     ]
    }
   ],
   "source": [
    "arr = np.array([0,1,2,3,4,5,6,7,8,9,10,11,12,13,14,15])\n",
    "\n",
    "print(arr[5])\n",
    "print(arr[5:])\n",
    "print(arr[:5])\n",
    "print(arr[::2])"
   ]
  },
  {
   "cell_type": "markdown",
   "metadata": {},
   "source": [
    "Experiment playing with the indexes to understand the meaning of `start`, `end` and `stride`. What happens if you don't specify a start? What value does numpy use instead? \n",
    "\n",
    "> **Note:** Numpy indexes start on `0`, the same convention used in Python lists."
   ]
  },
  {
   "cell_type": "markdown",
   "metadata": {},
   "source": [
    "Indexes can also be negative, meaning that you start counting by the end. For example, to select the last 2 elements in an array we can do:"
   ]
  },
  {
   "cell_type": "code",
   "execution_count": 9,
   "metadata": {},
   "outputs": [
    {
     "data": {
      "text/plain": [
       "array([14, 15])"
      ]
     },
     "execution_count": 9,
     "metadata": {},
     "output_type": "execute_result"
    }
   ],
   "source": [
    "arr = np.array([0,1,2,3,4,5,6,7,8,9,10,11,12,13,14,15])\n",
    "\n",
    "arr[-2:]"
   ]
  },
  {
   "cell_type": "markdown",
   "metadata": {},
   "source": [
    "Numpy arrays can have multiple dimensions. Dimensions are indicated using nested square brackets `[ ]`. The convention in numpy is that the outer `[ ]` represent the first dimension and the innermost `[ ]` contains the last dimension.\n",
    "\n",
    "<img src=\"../_static/python_basics/numpy_array_t.png\" alt=\"drawing\" width=\"600\" align=\"left\"/>"
   ]
  },
  {
   "cell_type": "markdown",
   "metadata": {},
   "source": [
    "The following cell declares a 2-dimensional array with shape (1, 9).\n",
    "\n",
    "> **Tip:** Notice the nested (double) square brackets `[[ ]]`. As there are two brackets, this indicates the array is 2-dimensional."
   ]
  },
  {
   "cell_type": "code",
   "execution_count": 10,
   "metadata": {},
   "outputs": [
    {
     "data": {
      "text/plain": [
       "array([[1, 2, 3, 4, 5, 6, 7, 8, 9]])"
      ]
     },
     "execution_count": 10,
     "metadata": {},
     "output_type": "execute_result"
    }
   ],
   "source": [
    "np.array([[1,2,3,4,5,6,7,8,9]])"
   ]
  },
  {
   "cell_type": "markdown",
   "metadata": {},
   "source": [
    "To visualise the shape (dimensions) of a numpy array we can add the suffix `.shape` to an array expression or variable containing a numpy array."
   ]
  },
  {
   "cell_type": "code",
   "execution_count": 11,
   "metadata": {},
   "outputs": [
    {
     "data": {
      "text/plain": [
       "((9,), (1, 9), (9, 1), (3,))"
      ]
     },
     "execution_count": 11,
     "metadata": {},
     "output_type": "execute_result"
    }
   ],
   "source": [
    "arr1 = np.array([1,2,3,4,5,6,7,8,9])\n",
    "arr2 = np.array([[1,2,3,4,5,6,7,8,9]])\n",
    "arr3 = np.array([[1],[2],[3],[4],[5],[6],[7],[8],[9]])\n",
    "\n",
    "arr1.shape, arr2.shape, arr3.shape, np.array([1,2,3]).shape"
   ]
  },
  {
   "cell_type": "markdown",
   "metadata": {},
   "source": [
    "Numpy arrays can contain numerical values of different types. These types can be divided in these groups:\n",
    "\n",
    " * Integers\n",
    "    * Unsigned\n",
    "        * 8 bits: `uint8`\n",
    "        * 16 bits: `uint16`\n",
    "        * 32 bits: `uint32`\n",
    "        * 64 bits: `uint64`\n",
    "    * Signed\n",
    "        * 8 bits: `int8`\n",
    "        * 16 bits: `int16`\n",
    "        * 32 bits: `int32`\n",
    "        * 64 bits: `int64`\n",
    "\n",
    "* Floats\n",
    "    * 32 bits: `float32`\n",
    "    * 64 bits: `float64`\n",
    "    \n",
    "We can look up the type of an array by using the `.dtype` suffix."
   ]
  },
  {
   "cell_type": "code",
   "execution_count": 12,
   "metadata": {},
   "outputs": [
    {
     "data": {
      "text/plain": [
       "dtype('float64')"
      ]
     },
     "execution_count": 12,
     "metadata": {},
     "output_type": "execute_result"
    }
   ],
   "source": [
    "arr = np.ones((10,10,10))\n",
    "\n",
    "arr.dtype"
   ]
  },
  {
   "cell_type": "markdown",
   "metadata": {},
   "source": [
    "Numpy arrays normally store numeric values but they can also contain boolean values, `'bool'`. Boolean is a data type that can have two possible values: `True`, or `False`. For example:"
   ]
  },
  {
   "cell_type": "code",
   "execution_count": 13,
   "metadata": {},
   "outputs": [
    {
     "data": {
      "text/plain": [
       "(array([ True, False,  True]), (3,), dtype('bool'))"
      ]
     },
     "execution_count": 13,
     "metadata": {},
     "output_type": "execute_result"
    }
   ],
   "source": [
    "arr = np.array([True, False, True])\n",
    "\n",
    "arr, arr.shape, arr.dtype"
   ]
  },
  {
   "cell_type": "markdown",
   "metadata": {},
   "source": [
    "We can operate with boolean arrays using the numpy functions for performing logical operations such as `and` and `or`."
   ]
  },
  {
   "cell_type": "code",
   "execution_count": 14,
   "metadata": {},
   "outputs": [
    {
     "name": "stdout",
     "output_type": "stream",
     "text": [
      "[ True False False False]\n",
      "[ True  True  True False]\n"
     ]
    }
   ],
   "source": [
    "arr1 = np.array([True, True, False, False])\n",
    "arr2 = np.array([True, False, True, False])\n",
    "\n",
    "print(np.logical_and(arr1, arr2))\n",
    "print(np.logical_or(arr1, arr2))"
   ]
  },
  {
   "cell_type": "markdown",
   "metadata": {},
   "source": [
    "These operations are conveniently offered by numpy with the symbols `*` (`and`), and `+` (`or`).\n",
    "\n",
    "> **Note:** Here the `*` and `+` symbols are not performing multiplication and addition as with numerical arrays. Numpy detects the type of the arrays involved in the operation and changes the behaviour of these operators."
   ]
  },
  {
   "cell_type": "code",
   "execution_count": 15,
   "metadata": {},
   "outputs": [
    {
     "name": "stdout",
     "output_type": "stream",
     "text": [
      "[ True False False False]\n",
      "[ True  True  True False]\n"
     ]
    }
   ],
   "source": [
    "print(arr1 * arr2)\n",
    "print(arr1 + arr2)"
   ]
  },
  {
   "cell_type": "markdown",
   "metadata": {},
   "source": [
    "Boolean arrays are often the result of comparing a numerical arrays with certain values. This is sometimes useful to detect values that are equal, below or above a number in a numpy array. For example, if we want to know which values in an array are equal to 1, and the values that are greater than 2 we can do:"
   ]
  },
  {
   "cell_type": "code",
   "execution_count": 16,
   "metadata": {},
   "outputs": [
    {
     "name": "stdout",
     "output_type": "stream",
     "text": [
      "[ True False False  True False False  True False False  True]\n",
      "[False  True  True False  True  True False  True  True False]\n"
     ]
    }
   ],
   "source": [
    "arr = np.array([1, 3, 5, 1, 6, 3, 1, 5, 7, 1])\n",
    "\n",
    "print(arr == 1)\n",
    "print(arr > 2)"
   ]
  },
  {
   "cell_type": "markdown",
   "metadata": {},
   "source": [
    "You can use a boolean array to mask out `False` values from a numeric array. The returned array only contains the numeric values which are at the same index as `True` values in the `mask` array."
   ]
  },
  {
   "cell_type": "code",
   "execution_count": 17,
   "metadata": {},
   "outputs": [
    {
     "data": {
      "text/plain": [
       "array([1, 3, 5, 7, 9])"
      ]
     },
     "execution_count": 17,
     "metadata": {},
     "output_type": "execute_result"
    }
   ],
   "source": [
    "arr = np.array([1,2,3,4,5,6,7,8,9])\n",
    "mask = np.array([True,False,True,False,True,False,True,False,True])\n",
    "\n",
    "arr[mask]"
   ]
  },
  {
   "cell_type": "markdown",
   "metadata": {},
   "source": [
    "## Exercises"
   ]
  },
  {
   "cell_type": "markdown",
   "metadata": {},
   "source": [
    "### 2.1 Use the numpy `add` function to add the values `34` and `29` in the cell below."
   ]
  },
  {
   "cell_type": "code",
   "execution_count": null,
   "metadata": {},
   "outputs": [],
   "source": [
    "# Use numpy add function to add 34 and 29\n",
    "\n"
   ]
  },
  {
   "cell_type": "markdown",
   "metadata": {},
   "source": [
    "### 2.2 Declare a new array with contents [5,4,3,2,1] and slice it to select the last 3 items."
   ]
  },
  {
   "cell_type": "code",
   "execution_count": null,
   "metadata": {},
   "outputs": [],
   "source": [
    "# Substitute the ? symbols by the correct expressions and values\n",
    "\n",
    "# Declare the array\n",
    "\n",
    "arr = ?\n",
    "\n",
    "# Slice array for the last 3 items only\n",
    "\n",
    "arr[?:?]"
   ]
  },
  {
   "cell_type": "markdown",
   "metadata": {},
   "source": [
    "### 2.3 Select all the elements in the array below excluding the last one, `[15]`."
   ]
  },
  {
   "cell_type": "code",
   "execution_count": 10,
   "metadata": {},
   "outputs": [],
   "source": [
    "arr = np.array([0,1,2,3,4,5,6,7,8,9,10,11,12,13,14,15])\n",
    "\n",
    "# Substitute the ? symbols by the correct expressions and values\n",
    "\n",
    "arr[?]"
   ]
  },
  {
   "cell_type": "markdown",
   "metadata": {},
   "source": [
    "### 2.4 Use `arr` as defined in 2.3. Exclude the last element from the list, but now only select every 3rd element. Remember the third index indicates `stride`, if used.\n",
    "> **Hint:** The result should be `[0,3,6,9,12]`."
   ]
  },
  {
   "cell_type": "code",
   "execution_count": null,
   "metadata": {},
   "outputs": [],
   "source": [
    "# Substitute the ? symbols by the correct expressions and values\n",
    "\n",
    "arr[?:?:?]"
   ]
  },
  {
   "cell_type": "markdown",
   "metadata": {},
   "source": [
    "### 2.5 You'll need to combine array comparisons and logical operators to solve this one. Find out the values in the following array that are greater than `3` AND less than `7`. The output should be a boolean array.\n",
    "> **Hint:** If you are stuck, reread the section on boolean arrays."
   ]
  },
  {
   "cell_type": "code",
   "execution_count": null,
   "metadata": {},
   "outputs": [],
   "source": [
    "arr = np.array([1, 3, 5, 1, 6, 3, 1, 5, 7, 1])\n",
    "\n",
    "# Use array comparisons (<, >, etc.) and logical operators (*, +) to find where\n",
    "# the values are greater than 3 and less than 7.\n",
    "\n",
    "boolean_array = ?"
   ]
  },
  {
   "cell_type": "markdown",
   "metadata": {},
   "source": [
    "### 2.6 Use your boolean array from 2.5 to mask the `False` values from `arr`. \n",
    "> **Hint:** The result should be `[5, 6, 5]`."
   ]
  },
  {
   "cell_type": "code",
   "execution_count": null,
   "metadata": {},
   "outputs": [],
   "source": [
    "# Use your resulting boolean_array array from 2.5\n",
    "# to mask arr as defined in 2.5\n",
    "\n"
   ]
  },
  {
   "cell_type": "markdown",
   "metadata": {},
   "source": [
    "## Conclusion"
   ]
  },
  {
   "cell_type": "markdown",
   "metadata": {},
   "source": [
    "Numpy is a fundamental numerical computing library in Python programming and it is useful to understand how it works. Next, we explore plotting geospatial data using matplotlib."
   ]
  }
 ],
 "metadata": {
  "kernelspec": {
   "display_name": "Python 3",
   "language": "python",
   "name": "python3"
  },
  "language_info": {
   "codemirror_mode": {
    "name": "ipython",
    "version": 3
   },
   "file_extension": ".py",
   "mimetype": "text/x-python",
   "name": "python",
   "nbconvert_exporter": "python",
   "pygments_lexer": "ipython3",
   "version": "3.6.9"
  }
 },
 "nbformat": 4,
 "nbformat_minor": 4
}
