{
 "cells": [
  {
   "cell_type": "markdown",
   "metadata": {},
   "source": [
    "# Events"
   ]
  },
  {
   "cell_type": "markdown",
   "metadata": {},
   "source": [
    "The DE Africa training course convenors host regularly scheduled **virtual live sessions**. They are intended to be a friendly, open environment where anyone can ask questions and meet people from the DE Africa community. \n",
    "\n",
    "The live sessions are conducted on Zoom, an online meeting platform. They are open to anyone who is currently completing the 6-week training course, or has recently completed the 6-week training course.\n",
    "\n",
    "To receive details on how to join the live sessions, please send an email to training@digitalearthafrica.org."
   ]
  }
 ],
 "metadata": {
  "kernelspec": {
   "display_name": "Python 3",
   "language": "python",
   "name": "python3"
  },
  "language_info": {
   "codemirror_mode": {
    "name": "ipython",
    "version": 3
   },
   "file_extension": ".py",
   "mimetype": "text/x-python",
   "name": "python",
   "nbconvert_exporter": "python",
   "pygments_lexer": "ipython3",
   "version": "3.6.9"
  }
 },
 "nbformat": 4,
 "nbformat_minor": 4
}
