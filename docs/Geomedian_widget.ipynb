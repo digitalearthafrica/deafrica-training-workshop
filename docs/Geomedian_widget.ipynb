{
 "cells": [
  {
   "cell_type": "markdown",
   "metadata": {},
   "source": [
    "# Geomedian widget"
   ]
  },
  {
   "cell_type": "raw",
   "metadata": {
    "raw_mimetype": "text/restructuredtext",
    "tags": []
   },
   "source": [
    ".. note:: \n",
    "    **Training at Digital Earth Africa has moved!** Register at `learn.digitalearthafrica.org <https://learn.digitalearthafrica.org/>`_ to enrol in the revised and updated 6-week training course, now called `Intro to Sandbox <https://learn.digitalearthafrica.org/courses/course-v1:digitalearthafrica+DEA101+2021/about>`_ (EN) and `Introduction à la sandbox <https://learn.digitalearthafrica.org/courses/course-v1:digitalearthafrica+DEA101-fr+2021/about>`_ (FR). Find out more about the move on `our blog <https://www.digitalearthafrica.org/media-center/blog/now-available-learning-platform-and-new-intro-sandbox-course>`_.\n",
    "    \n",
    "    Quiz links are no longer available from this website. Please complete the Intro to Sandbox course on  `learn.digitalearthafrica.org <https://learn.digitalearthafrica.org/>`_ to receive a certificate.\n",
    "    \n",
    "    **La formation à Digital Earth Africa a déménagé !** Connectez-vous sur `learn.digitalearthafrica.org <https://learn.digitalearthafrica.org/>`_ pour vous inscrire à la formation révisée et mise à jour, désormais appelée `Icntroduction à la sandbox <https://learn.digitalearthafrica.org/courses/course-v1:digitalearthafrica+DEA101-fr+2021/about>`_ (FR) et `Intro to Sandbox <https://learn.digitalearthafrica.org/courses/course-v1:digitalearthafrica+DEA101+2021/about>`_ (EN). En savoir plus sur le déménagement en consultant `notre blog <https://www.digitalearthafrica.org/media-center/blog/now-available-learning-platform-and-new-intro-sandbox-course>`_.\n",
    "\n",
    "    Les liens de quiz ne sont plus disponibles sur ce site Web. Veuillez suivre le cours Introduction à la sandbox sur `learn.digitalearthafrica.org <https://learn.digitalearthafrica.org/>`_ pour recevoir un certificat."
   ]
  },
  {
   "cell_type": "markdown",
   "metadata": {},
   "source": [
    "Geomedian composites are introduced in [Session 3](./session_3/01_intro_composites.ipynb). Geomedians are a method of combining multiple timesteps of data into one image. \n",
    "\n",
    "Geomedians were defined as follows:\n",
    "\n",
    "> A geomedian composite finds the median values of the bands for each pixel when considered **together**. This means they represent the data **better** than median composites. \n",
    "\n",
    "This gives rise to a few common questions. \n",
    "\n",
    "* What does it mean to **consider the bands together**? \n",
    "* What might that look like? \n",
    "* How does it affect the colour of each pixel in my final composite image?\n",
    "\n",
    "To explore the answers to these questions, we can use an interactive module known as a **widget**. Instead of looking at one whole image, the widget focuses on a single pixel.\n",
    "\n",
    "The geomedian widget gives three timesteps of data. You can click on the sliders to change the data for each timestep, which affects the pixel colour. In turn, this will impact the computation of the median and geomedian. As you will see, they are not always the same!"
   ]
  },
  {
   "cell_type": "markdown",
   "metadata": {},
   "source": [
    "<img align=\"middle\" src=\"./_static/other_information/widget2.PNG\" alt=\"Example of the widget.\" width=650>"
   ]
  },
  {
   "cell_type": "markdown",
   "metadata": {},
   "source": [
    "*An example of what the geomedian widget looks like. To interact with the widget, download and run the geomedian widget notebook.*"
   ]
  },
  {
   "cell_type": "markdown",
   "metadata": {},
   "source": [
    "Follow the instructions below to download the widget notebook. It can help with understanding the following concepts:\n",
    "\n",
    "* In which cases are the median and geomedian very similar or the same?\n",
    "* In which cases are the median and geomedian very different?\n",
    "* Why are geomedians more representative of the whole dataset, compared to medians?"
   ]
  },
  {
   "cell_type": "markdown",
   "metadata": {},
   "source": [
    "## Download geomedian widget notebook"
   ]
  },
  {
   "cell_type": "markdown",
   "metadata": {},
   "source": [
    "[Download the geomedian widget notebook](./_static/other_information/Geomedian_interactive_extend1.ipynb)\n",
    "\n",
    "To view this notebook on the Sandbox, you will need to first download it to your computer, then upload it to the Sandbox. Follow these instructions:\n",
    "\n",
    "1. Download the notebook by clicking the link above.\n",
    "2. On the Sandbox, open the **Training** folder.\n",
    "3. Click the **Upload Files** button as shown below.\n",
    "\n",
    "<img align=\"middle\" src=\"./_static/session_2/05_solution_uploadbutton.png\" alt=\"Upload button.\" width=400>\n",
    "\n",
    "4. Select the downloaded notebook using the file browser. Click **OK**.\n",
    "5. The solution notebook will appear in the **Training** folder. Double-click to open it."
   ]
  }
 ],
 "metadata": {
  "kernelspec": {
   "display_name": "Python 3 (ipykernel)",
   "language": "python",
   "name": "python3"
  },
  "language_info": {
   "codemirror_mode": {
    "name": "ipython",
    "version": 3
   },
   "file_extension": ".py",
   "mimetype": "text/x-python",
   "name": "python",
   "nbconvert_exporter": "python",
   "pygments_lexer": "ipython3",
   "version": "3.8.10"
  }
 },
 "nbformat": 4,
 "nbformat_minor": 4
}
