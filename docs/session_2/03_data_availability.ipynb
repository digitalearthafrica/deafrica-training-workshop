{
 "cells": [
  {
   "cell_type": "markdown",
   "metadata": {},
   "source": [
    "# Data availability"
   ]
  },
  {
   "cell_type": "markdown",
   "metadata": {},
   "source": [
    "In the [previous section](./02_deafrica_maps), we loaded the Landsat 8 dataset onto the [Digital Earth Africa Map](https://maps.digitalearth.africa/) and saw it only covers certain parts of Africa on each day. The section on [Digital Earth Africa products](./01_products_info.ipynb) tells us Landsat 8 data is only available at certain times in some countries. \n",
    "\n",
    "How do we know specifically **where** and **when** data is available? Before we start any analysis, we can answer this question by verifying existing data on the [Digital Earth Africa Metadata Explorer](https://explorer.digitalearth.africa/). The Metadata Explorer can be found at https://explorer.digitalearth.africa/.\n",
    "\n"
   ]
  },
  {
   "cell_type": "markdown",
   "metadata": {},
   "source": [
    "## Overview\n",
    "\n",
    "In this section, we will use the [Digital Earth Africa Metadata Explorer](https://explorer.digitalearth.africa/) to check where data is available for a selected time period. The place we will investigate is Tanzania, for the time period of 2018."
   ]
  },
  {
   "cell_type": "markdown",
   "metadata": {},
   "source": [
    "## Maps or Explorer?\n",
    "\n",
    "The [Digital Earth Africa Metadata Explorer](https://explorer.digitalearth.africa/) and [Digital Earth Africa Map](https://maps.digitalearth.africa/) might look similar, but they are designed for different purposes. \n",
    "\n",
    "Use the [Digital Earth Africa Map](https://maps.digitalearth.africa/) if you:\n",
    "\n",
    "* Want to see what the product or dataset looks like\n",
    "\n",
    "Use the [Digital Earth Africa Metadata Explorer](https://explorer.digitalearth.africa/) if you:\n",
    "\n",
    "* Want to know where and when you can find the data"
   ]
  },
  {
   "cell_type": "markdown",
   "metadata": {},
   "source": [
    "## Exercise: Tanzania in 2018"
   ]
  },
  {
   "cell_type": "code",
   "execution_count": null,
   "metadata": {},
   "outputs": [],
   "source": []
  },
  {
   "cell_type": "markdown",
   "metadata": {},
   "source": [
    "## Check data availability"
   ]
  },
  {
   "cell_type": "markdown",
   "metadata": {},
   "source": [
    "In this session we going to use Landsat and its important to know where it's available see the EXPLORER HEREEE\n",
    "\n",
    "Here's a link\n",
    "\n",
    "Here's a screenshot\n",
    "\n",
    "Blue areas indicate where data is available\n",
    "\n",
    "Click on point to get lon/lat, zoom, etc.\n",
    "\n",
    "In this example, we will be using data from Tanzania\n",
    "\n",
    "(show screenshot of Tanzania - data is available here)"
   ]
  }
 ],
 "metadata": {
  "kernelspec": {
   "display_name": "Python 3",
   "language": "python",
   "name": "python3"
  },
  "language_info": {
   "codemirror_mode": {
    "name": "ipython",
    "version": 3
   },
   "file_extension": ".py",
   "mimetype": "text/x-python",
   "name": "python",
   "nbconvert_exporter": "python",
   "pygments_lexer": "ipython3",
   "version": "3.6.9"
  }
 },
 "nbformat": 4,
 "nbformat_minor": 4
}
