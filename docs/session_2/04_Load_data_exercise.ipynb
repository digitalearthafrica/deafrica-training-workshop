{
 "cells": [
  {
   "cell_type": "markdown",
   "metadata": {},
   "source": [
    "# Loading data in the Sandbox"
   ]
  },
  {
   "cell_type": "markdown",
   "metadata": {},
   "source": [
    "## Overview"
   ]
  },
  {
   "cell_type": "markdown",
   "metadata": {},
   "source": [
    "In this exercise, we will load data from the datacube. First, we will set up a new notebook to work in. Then, we will load Landsat data for a specific time, and use that data to plot a colour image. Finally, we will show you how to modify the load process to load and plot Sentinel-2 data."
   ]
  },
  {
   "cell_type": "markdown",
   "metadata": {},
   "source": [
    "## Make a new notebook"
   ]
  },
  {
   "cell_type": "markdown",
   "metadata": {},
   "source": [
    "Let's create a new, blank Jupyter notebook for this exercise.\n",
    "\n",
    "1. Navigate to the **Training** folder. The **Training** folder was created as part of Session 1, for copying and running the Crop Health notebook. If you do not have this folder in the Sandbox, you can create it by following the steps in [Running a Notebook](../session_1/04_running_a_notebook.ipynb).\n",
    "    \n",
    "    ![image1](../_static/session_2/04_load_data_exercise_01_navigate_to_Training_dir.png)\n",
    "\n",
    "2. If Launcher is not the active tab in the main work area (right pane), click the **+** button at the top of the left sidebar to open the launcher in the right pane.\n",
    "    \n",
    "    ![image2](../_static/session_2/04_load_data_exercise_02_creating_notebook_open_launcher.png)\n",
    "\n",
    "3. In the **Notebook** section of Launcher, select the **Python 3** option to create a new notebook in the current directory.\n",
    "\n",
    "    ![image3](../_static/session_2/04_load_data_exercise_03_creating_notebook_launcher_button.png)\n",
    "\n",
    "4. The new notebook will be called `Untitled.ipynb`, but you can rename it. Right-click the notebook in the file menu and select **Rename**.\n",
    "\n",
    "   ![image4](../_static/session_2/04_load_data_exercise_04_creating_notebook_rename_1.png)\n",
    "\n",
    "   Type in the desired name. For example, we can call it `Load_data.ipynb`.\n",
    "\n",
    "   ![image5](../_static/session_2/04_load_data_exercise_05_creating_notebook_rename_2.png)\n",
    "\n",
    "   Press the `Enter` key to finish renaming the notebook.\n",
    "\n",
    "   ![image6](../_static/session_2/04_load_data_exercise_06_creating_notebook_rename_3.png)"
   ]
  },
  {
   "cell_type": "markdown",
   "metadata": {},
   "source": [
    "## Set up notebook\n",
    "\n",
    "### Load packages and functions"
   ]
  },
  {
   "cell_type": "markdown",
   "metadata": {},
   "source": [
    "Packages and functions act as the toolbox of Python programming. We will import the ones which will be useful to us.\n",
    "\n",
    "In the first cell, type the following code and then run the cell.\n",
    "\n",
    "![image7](../_static/session_2/04_load_data_exercise_07_imports.png)\n",
    "\n",
    "* `%matplotlib inline` allows us to plot graphs and maps\n",
    "\n",
    "* The package `sys` is imported to run `sys.path.append('../Scripts')`, which allows this notebook to access the Python utility functions in the `Scripts` folder\n",
    "\n",
    "* The package `datacube` is imported to allow us to create an object that can retrieve data from the datacube, which we will do in the next cell we create\n",
    "\n",
    "* From the `deafrica_plotting` file in the `Scripts` folder, we import the `rgb` function, which will allow us to visualise data as true-colour (RGB) images\n",
    "\n",
    "When the cell has finished running, it will show `[1]` next to it, and generate a new blank cell below it."
   ]
  },
  {
   "cell_type": "markdown",
   "metadata": {},
   "source": [
    "### Connect to the datacube"
   ]
  },
  {
   "cell_type": "markdown",
   "metadata": {},
   "source": [
    "The `datacube` package allows us to access the data in the Sandbox. To use it, we must establish a connection with the datacube. Enter the following code and run the cell.\n",
    "\n",
    "![image8](../_static/session_2/04_load_data_exercise_08_connect_to_the_datacube.png)\n",
    "\n",
    "The `datacube.Datacube` class provides access to the datacube. We usually call objects of this class `dc`, as we have done here. The `app` parameter is a unique name for the analysis which is based on the notebook file name.\n",
    "\n",
    "When the cell has finished running, it will show a `[2]` next to it, and generate a new blank cell below it."
   ]
  },
  {
   "cell_type": "markdown",
   "metadata": {},
   "source": [
    "## Load Landsat 8 data"
   ]
  },
  {
   "cell_type": "markdown",
   "metadata": {},
   "source": [
    "In the new cell below, enter the following code, and then run it to load Landsat 8 data. \n",
    "\n",
    "![image9](../_static/session_2/04_load_data_exercise_09_load_data.png)"
   ]
  },
  {
   "cell_type": "markdown",
   "metadata": {},
   "source": [
    "We load data with the `dc.load()` function. We have chosen to call the loaded dataset `landsat_ds`. The text between the brackets of `dc.load()` are our parameters.\n",
    "\n",
    "* The `product` argument is the datacube product to load data from. We want to access the Landsat 8 dataset, which is named `ls8_usgs_sr_scene`.\n",
    "\n",
    "* The `x` and `y` arguments specify the area to load data for as a rectangle spanning their ranges of coordinate values. In this case, they represent longitude and latitude.\n",
    "\n",
    "* The `time` argument specifies the time range of data to load. We have specified all of the year of 2018.\n",
    "\n",
    "* The `output_crs` argument specifies the Coordinate Reference System (CRS) to load data in. The CRS `EPSG:4326` is the latitude/longitude coordinate system.\n",
    "\n",
    "* The `resolution` argument is the `y` and `x` resolutions (in that order) in pixels per degree. The first value is typically negative. In this case a `resolution` of `(-0.00027, 0.00027)` is a resolution of 30 meters per pixel, which is the resolution of Landsat data.\n",
    "\n",
    "* The `group_by` argument controls how data that is close in time is combined to provide better images. Specifying a value of `'solar_day'` is very common.\n",
    "\n",
    "* The `measurements` argument specifies what bands will be loaded. We will plot a true-colour image of this data later. To do that, we need the red, green, and blue bands.\n"
   ]
  },
  {
   "cell_type": "markdown",
   "metadata": {},
   "source": [
    "### Troubleshooting code\n",
    "\n",
    "If an error message appears, try checking some of these common issues:\n",
    "\n",
    "* Are all brackets and quotation marks in the right place?\n",
    "* Does every open bracket have a corresponding close bracket?\n",
    "* Do your bracket types match? `(` must be closed by `)` and `[` with `]`, and they have different meanings in Python, so they are not interchangeable\n",
    "* Does every opening quotation mark have a closing quotation mark? You can use either `'` or `\"`, but pairs of quotation marks must be the same\n",
    "* Are there commas between items listed in brackets?\n",
    "* Is there a comma at the end of every line except the last line? \n",
    "* Are each of the parameters indented correctly? Press `Tab` on your keyboard to indent\n",
    "* Is everything spelt correctly? \n",
    "\n",
    "Once you have made your changes, try executing the cell again, by pressing `Shift + Enter` on your keyboard. "
   ]
  },
  {
   "cell_type": "markdown",
   "metadata": {},
   "source": [
    "## Examine data"
   ]
  },
  {
   "cell_type": "markdown",
   "metadata": {},
   "source": [
    "When the `dc.load()` cell successfully executes, it will create a new cell below it. In this new cell, we can enter the name of our dataset and run the cell. This will show the dataset we loaded.\n",
    "\n",
    "![image10](../_static/session_2/04_load_data_exercise_10_examine_data_1.png)\n",
    "\n",
    "The output of the cell should look similar to this:\n",
    "\n",
    "![image11](../_static/session_2/04_load_data_exercise_11_examine_data_2.png)\n",
    "\n",
    "Notice the number next to the output cell matches its executed input cell. In this case, it is `[4]`."
   ]
  },
  {
   "cell_type": "markdown",
   "metadata": {},
   "source": [
    "The output of `dc.load()` is an `xarray.Dataset` object. This type of dataset is a common format for satellite data, and is organised by:\n",
    "\n",
    "* **Dimensions:** The dimensions of the dataset. For Earth observation data, this is often longitude, latitude and time, as seen here. The units for longitude and latitude are pixels, while time is counted in number of flyovers &mdash; in this example we see there were 21 flyovers of our selected location during the year of 2018.\n",
    "\n",
    "* **Coordinates:** A list of the values of each dimension. `spatial_ref` refers to the CRS we selected in `dc.load()`.\n",
    "\n",
    "* **Data variables:** The data values for our chosen measurements. We see `red`, `green` and `blue` are loaded as we specified in the `dc.load()` command. This product provides values for surface reflectance, which is unitless.\n",
    "\n",
    "* **Attributes:** Metadata about this dataset. The CRS is listed again."
   ]
  },
  {
   "cell_type": "markdown",
   "metadata": {},
   "source": [
    "## Plot a true-colour image"
   ]
  },
  {
   "cell_type": "markdown",
   "metadata": {},
   "source": [
    "True-colour images are also known as red-green-blue (RGB) images. They are rendered using the image's 'natural' colours and appear how they might be seen by the human eye. As we loaded red, green and blue bands from Landsat 8, we can now plot an RGB image using the data from `landsat_ds`."
   ]
  },
  {
   "cell_type": "markdown",
   "metadata": {},
   "source": [
    "In the next blank cell, enter the following code. Run the cell to generate an RGB image.\n",
    "\n",
    "![image12](../_static/session_2/04_load_data_exercise_12_rgb_1.png)"
   ]
  },
  {
   "cell_type": "markdown",
   "metadata": {},
   "source": [
    "The function used here is called `rgb()`.\n",
    "\n",
    "* The first item inside the `rgb()` brackets is the name of the dataset we are drawing the data from. In this case, we want to pull information from `landsat_ds`.\n",
    "\n",
    "* `bands` specifies the name of the data variables in the dataset that correspond to red, green and blue. We saw above that in `landsat_ds` they are conveniently named `red`, `green` and `blue`.  \n",
    "\n",
    "* `index` refers to the timestep to view. The default is 0. The Python language counts from 0, so `index=0` shows the first flyover, and `index=1` the second.\n",
    "\n",
    "* `size` is the height of the image.\n",
    "\n",
    "The RGB image will look like:\n",
    "\n",
    "![image13](../_static/session_2/04_load_data_exercise_13_rgb_2.png)"
   ]
  },
  {
   "cell_type": "markdown",
   "metadata": {},
   "source": [
    "The title of the image notes that the date for this data is February 16, 2018."
   ]
  },
  {
   "cell_type": "markdown",
   "metadata": {},
   "source": [
    "## Exercise: Load and plot Sentinel-2 data"
   ]
  },
  {
   "cell_type": "markdown",
   "metadata": {},
   "source": [
    "Let us repeat the data loading process for Sentinel-2 data. It is a very similar process to loading the Landsat 8 data. We want to load data for the same time and place, so we only have to change the `product`. "
   ]
  },
  {
   "cell_type": "markdown",
   "metadata": {},
   "source": [
    "1. Let us call our Sentinel-2 dataset `sentinel_2_ds`. You must name it something different from the Landsat 8 dataset. In a new cell, type the name of the Sentinel-2 dataset.\n",
    "\n",
    "    ![Sentinel-2 dataset](../_static/session_2/04_load_data_exercise_sentinel2ds.PNG)\n",
    "\n",
    "2. Again, we will use `dc.load()` to import Sentinel-2 data. After `sentinel_2_ds`, type ` = dc.load()`. It should look like `sentinel_2_ds = dc.load()`.\n",
    "\n",
    "    How do we fill out the parameters inside the brackets of `dc.load()`? We can do this by copying some of the information from the Landsat 8 `dc.load()` input cell. The first parameter we listed before was the `product`. However, we don't want to use the Landsat 8 product, we want to select the Sentinel-2 product.\n",
    "\n",
    "    ![Sentinel-2 dataset load](../_static/session_2/04_load_data_exercise_productsentinel2.PNG)\n",
    "    \n",
    "    Now, type the rest of the parameters to be the same as they were for the Landsat 8 load. This includes:\n",
    "        \n",
    "    * `x`\n",
    "    * `y`\n",
    "    * `time`\n",
    "    * `output_crs`\n",
    "    * `resolution`\n",
    "    * `group_by`\n",
    "    * `measurements`\n",
    "    \n",
    "    As before, watch out for commas, quotation marks, and brackets, to avoid error messages when running the cell.\n",
    "\n",
    "3. You should end up with a set of parameters that look like:\n",
    "\n",
    "    ![Sentinel-2 dc.load](../_static/session_2/04_load_data_exercise_sent2query.PNG)\n",
    "\n",
    "4. Run the cell to load Sentinel-2 data.\n",
    "\n",
    "5. In the new cell below that, we will plot an RGB image around the same time as the Landsat 8 RGB image, which was from February 16, 2018.\n",
    "\n",
    "    We must specify the dataset first, followed by the bands, index, and size. In this case, we want to use `index=9`. Run the cell.\n",
    "    \n",
    "    ![image15](../_static/session_2/04_load_data_exercise_15_rgb_1.png)\n",
    "  \n",
    "6. An RGB image using Sentinel-2 data will be generated. \n",
    "\n",
    "![image16](../_static/session_2/04_load_data_exercise_16_rgb_2.png)"
   ]
  },
  {
   "cell_type": "markdown",
   "metadata": {},
   "source": [
    "As Landsat 8 data and Sentinel-2 data come from different satellites, their flyovers are not always at the same time. In this case, the closest date of Sentinel-2 data to the Landsat data is one day before, on February 15, 2018. It is another cloudy scene, like the Landsat 8 one."
   ]
  },
  {
   "cell_type": "markdown",
   "metadata": {},
   "source": [
    "## Conclusion\n",
    "\n",
    "You successfully loaded and plotted data for Landsat 8 and Sentinel-2. Congratulations!"
   ]
  }
 ],
 "metadata": {
  "kernelspec": {
   "display_name": "Python 3",
   "language": "python",
   "name": "python3"
  },
  "language_info": {
   "codemirror_mode": {
    "name": "ipython",
    "version": 3
   },
   "file_extension": ".py",
   "mimetype": "text/x-python",
   "name": "python",
   "nbconvert_exporter": "python",
   "pygments_lexer": "ipython3",
   "version": "3.6.9"
  }
 },
 "nbformat": 4,
 "nbformat_minor": 4
}
