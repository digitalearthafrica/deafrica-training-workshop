{
 "cells": [
  {
   "cell_type": "markdown",
   "metadata": {},
   "source": [
    "# Loading data in the Sandbox"
   ]
  },
  {
   "cell_type": "markdown",
   "metadata": {},
   "source": [
    "## Overview"
   ]
  },
  {
   "cell_type": "markdown",
   "metadata": {},
   "source": [
    "In this exercise, we will load data from the datacube. First we will load Landsat data and show an image of a specific time in the loaded data. After that, we will show how to load Sentinel-2 data."
   ]
  },
  {
   "cell_type": "markdown",
   "metadata": {},
   "source": [
    "## Making a new notebook"
   ]
  },
  {
   "cell_type": "markdown",
   "metadata": {},
   "source": [
    "Follow these steps to create a Jupyter notebook for this exercise:\n",
    "\n",
    "1. Navigate to the **Training** folder.\n",
    "    \n",
    "    ![image1](../_static/session_2/04_load_data_exercise_01_navigate_to_Training_dir.png)\n",
    "\n",
    "\n",
    "2. If the launcher is not the active tab in the right pane, click the + button at the top of the left pane to open the launcher in the right pane.\n",
    "    \n",
    "    ![image2](../_static/session_2/04_load_data_exercise_02_creating_notebook_open_launcher.png)\n",
    "\n",
    "3. In the Notebook section of the launcher, select the \"Python 3\" option to create a new notebook in the current directory.\n",
    "\n",
    "    ![image3](../_static/session_2/04_load_data_exercise_03_creating_notebook_launcher_button.png)\n",
    "\n",
    "4. The new notebook will be called \"Untitled.ipynb\", but you can rename it. \n",
    "\n",
    "   Right-click the notebook in the file menu and select \"Rename\".\n",
    "\n",
    "   ![image4](../_static/session_2/04_load_data_exercise_04_creating_notebook_rename_1.png)\n",
    "\n",
    "   Type in the desired name.\n",
    "\n",
    "   ![image5](../_static/session_2/04_load_data_exercise_05_creating_notebook_rename_2.png)\n",
    "\n",
    "   Press the Enter key to rename the notebook.\n",
    "\n",
    "   ![image6](../_static/session_2/04_load_data_exercise_06_creating_notebook_rename_3.png)"
   ]
  },
  {
   "cell_type": "markdown",
   "metadata": {},
   "source": [
    "## Set up notebook\n",
    "### Load packages and functions"
   ]
  },
  {
   "cell_type": "markdown",
   "metadata": {},
   "source": [
    "In the first cell, type the following code and then run the cell:\n",
    "\n",
    "![image7](../_static/session_2/04_load_data_exercise_07_imports.png)\n",
    "\n",
    "The `%matplotlib inline` command allows the plotting library that we use to plot in the notebook.\n",
    "\n",
    "The package `sys` is imported to run `sys.path.append('../Scripts')`, which allows this notebook to access the Python utility functions in the `Scripts` folder.\n",
    "\n",
    "The package `datacube` is imported to allow us to create an object that can retrieve data from the data cube, which we will do in the next cell we create.\n",
    "\n",
    "From the `deafrica_plotting` file in the `Scripts` folder, we import the `rgb` function, which will allow us to visualize data as RGB images."
   ]
  },
  {
   "cell_type": "markdown",
   "metadata": {},
   "source": [
    "### Connect to the datacube"
   ]
  },
  {
   "cell_type": "markdown",
   "metadata": {},
   "source": [
    "Create a new cell, enter the following code, and then run it. \n",
    "\n",
    "![image8](../_static/session_2/04_load_data_exercise_08_connect_to_the_datacube.png)\n",
    "\n",
    "In this cell, we connect to the datacube so we can access DEA data. The `datacube.Datacube` class provides this access to the datacube. We usually call objects of this class `dc`.\n",
    "\n",
    "The `app` parameter is a unique name for the analysis which is based on the notebook file name."
   ]
  },
  {
   "cell_type": "markdown",
   "metadata": {},
   "source": [
    "## Load Landsat 8 data"
   ]
  },
  {
   "cell_type": "markdown",
   "metadata": {},
   "source": [
    "Create a new cell, enter the following code, and then run it to load Landsat 8 data. \n",
    "\n",
    "![image9](../_static/session_2/04_load_data_exercise_09_load_data.png)"
   ]
  },
  {
   "cell_type": "markdown",
   "metadata": {},
   "source": [
    "We load data with the `load()` function of `datacube.Datacube`.\n",
    "\n",
    "The `product` argument is the datacube product to load data from.\n",
    "\n",
    "The `x` and `y` arguments specify the area to load data for as a rectangle spanning their ranges of coordinate values. Because `output_crs` is set to `\"EPSG:4326\"`, the units of these ranges are, respectively, longitude and latitude.\n",
    "\n",
    "The `time` argument specifies the time range of data to load.\n",
    "\n",
    "The `output_crs` argument specifies the Coordinate Reference System (CRS) to load data in. The CRS `EPSG:4326` is the latitude/longitude coordinate system.\n",
    "\n",
    "The `resolution` argument is the `y` and `x` resolutions (in that order) in pixels per degree. The first value is typically negative. In this case a `resolution` of `(-0.00027, 0.00027)` is a resolution of 30 meters per pixel, which is the resolution of Landsat data.\n",
    "\n",
    "The `group_by` argument controls how data that is close in time is combined to provide better images. Specifying a value of `'solar_day'` is very common.\n",
    "\n",
    "The `measurements` argument specifies what bands will be loaded. We only need to show an RGB image of this data, so only the red, green, and blue bands are needed."
   ]
  },
  {
   "cell_type": "markdown",
   "metadata": {},
   "source": [
    "## Examine data"
   ]
  },
  {
   "cell_type": "markdown",
   "metadata": {},
   "source": [
    "Create a new cell, enter the following code, and then run it to show what we have loaded.\n",
    "\n",
    "![image10](../_static/session_2/04_load_data_exercise_10_examine_data_1.png)\n",
    "\n",
    "This is the output of that cell after it has been run:\n",
    "\n",
    "![image11](../_static/session_2/04_load_data_exercise_11_examine_data_2.png)\n",
    "\n",
    "The output of `dc.load()` is an `xarray.Dataset` object. We will discuss `xarray.Dataset` objects and related `xarray` topics in a future part of this session."
   ]
  },
  {
   "cell_type": "markdown",
   "metadata": {},
   "source": [
    "## Plot a true-colour image"
   ]
  },
  {
   "cell_type": "markdown",
   "metadata": {},
   "source": [
    "Create a new cell, enter the following code, and then run it to create an RGB image.\n",
    "\n",
    "![image12](../_static/session_2/04_load_data_exercise_12_rgb_1.png)\n",
    "\n",
    "This is the RGB image that should appear:\n",
    "\n",
    "![image13](../_static/session_2/04_load_data_exercise_13_rgb_2.png)"
   ]
  },
  {
   "cell_type": "markdown",
   "metadata": {},
   "source": [
    "The title of the image notes that the date for this data is February 16, 2018.\n",
    "\n",
    "We will discuss the `rgb` function more in a future part of this session."
   ]
  },
  {
   "cell_type": "markdown",
   "metadata": {},
   "source": [
    "## Exercise: Load Sentinel-2 data"
   ]
  },
  {
   "cell_type": "markdown",
   "metadata": {},
   "source": [
    "Now we will do the same, but with Sentinel-2 data instead of Landsat 8 data.\n",
    "\n",
    "Create a new cell, enter the following code, and then run it to load Sentinel-2 data.\n",
    "\n",
    "![image14](../_static/session_2/04_load_data_exercise_14_load_data_sentinel2.png)"
   ]
  },
  {
   "cell_type": "markdown",
   "metadata": {},
   "source": [
    "Create a new cell, enter the following code, and then run it to create an RGB image around the same time as the Landsat 8 RGB image (February 16, 2018).\n",
    "\n",
    "![image15](../_static/session_2/04_load_data_exercise_15_rgb_1.png)\n",
    "\n",
    "This is the RGB image that should appear:\n",
    "\n",
    "![image16](../_static/session_2/04_load_data_exercise_16_rgb_2.png)"
   ]
  },
  {
   "cell_type": "markdown",
   "metadata": {},
   "source": [
    "In this case, the closest date of Sentinel-2 data is February 15, 2018.\n",
    "\n",
    "This is another cloudy scene, like the Landsat 8 one."
   ]
  },
  {
   "cell_type": "markdown",
   "metadata": {},
   "source": [
    "## Conclusion\n",
    "\n",
    "You did it! Congratulations!"
   ]
  }
 ],
 "metadata": {
  "kernelspec": {
   "display_name": "Python 3",
   "language": "python",
   "name": "python3"
  },
  "language_info": {
   "codemirror_mode": {
    "name": "ipython",
    "version": 3
   },
   "file_extension": ".py",
   "mimetype": "text/x-python",
   "name": "python",
   "nbconvert_exporter": "python",
   "pygments_lexer": "ipython3",
   "version": "3.6.9"
  }
 },
 "nbformat": 4,
 "nbformat_minor": 4
}
