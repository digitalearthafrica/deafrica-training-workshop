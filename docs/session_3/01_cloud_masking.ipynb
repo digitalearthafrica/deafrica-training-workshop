{
 "cells": [
  {
   "cell_type": "markdown",
   "metadata": {},
   "source": [
    "# Cloud masking"
   ]
  },
  {
   "cell_type": "markdown",
   "metadata": {},
   "source": [
    "## Overview\n",
    "\n",
    "This session is about creating datasets and images composed of data from multiple timesteps. This lets us remove and replace unwanted data, such as clouds, and also allows us to form images that represent the area of interest over a period of time. \n",
    "\n",
    "This is summarised in this week's video, **Time aggregation of data**. Watch the video to see how to use Earth observation data at different points in time."
   ]
  },
  {
   "cell_type": "markdown",
   "metadata": {},
   "source": [
    "## Video: Time aggregation of data"
   ]
  },
  {
   "cell_type": "raw",
   "metadata": {},
   "source": [
    ":: rst video link here ::"
   ]
  },
  {
   "cell_type": "markdown",
   "metadata": {},
   "source": [
    "In this section, we focus on removing cloudy data from our datasets &mdash; the subsequent sections in this session will cover geomedians. Read the information and follow the steps below to create your own cloud-masked images."
   ]
  },
  {
   "cell_type": "markdown",
   "metadata": {},
   "source": [
    "## Recap: loading and plotting data\n",
    "\n",
    "In the last session *note link will not work until Session 2 is merged with master, leave it for now*, we plotted RGB images for Dar es Salaam in Tanzania. The image had clouds in both the Landsat 8 and Sentinel-2 versions.\n",
    "\n",
    "<img align=\"middle\" src=\"../_static/session_3/01_cloud_masking_daressalaam_landsat_sentinel2_022018.PNG\" alt=\"dc.load images from previous session.\" width=\"400\">\n",
    "\n",
    "*Landsat 8 data from 16 February 2018 (left), and Sentinel-2 data from 15 February 2018 (right). Some cloud cover is visible in both images.*\n",
    "\n",
    "### Next steps: removing cloudy data\n",
    "\n",
    "What if we want to know what is underneath those clouds? If you have data at only one point in time, this is not possible. However, if we have data for the same place at a different time, when the clouds are not present, we can use this data to 'fill' in areas of cloud. \n",
    "\n",
    "To do that, we must first identify which pixels are clouds. The process of determining and removing cloud data points is known as 'cloud masking'."
   ]
  },
  {
   "cell_type": "markdown",
   "metadata": {},
   "source": [
    "## Exercise: Cloud masking with `load_ard()`"
   ]
  },
  {
   "cell_type": "markdown",
   "metadata": {},
   "source": [
    "In this exercise, we will apply a cloud mask to some Sentinel-2 data */our image of XYZ. To edit*"
   ]
  },
  {
   "cell_type": "markdown",
   "metadata": {},
   "source": [
    "### `load_ard()` vs `dc.load()`"
   ]
  },
  {
   "cell_type": "markdown",
   "metadata": {},
   "source": [
    "We previously loaded data in the Sandbox using `dc.load()`. `dc.load()` is a universal function for loading data from the datacube and it is important to know how to use it. However, it does not have an in-built cloud masking capability. \n",
    "\n",
    "When we plotted the RGB images of Tanzania with data loaded using `dc.load()`, the clouds were part of the image. This makes it difficult to perform cloud masking, as the dataset does not distinguish cloud and not-cloud.\n",
    "\n",
    "In this exercise, we will instead use the command `load_ard()` to load our data. It demands similar parameters to `dc.load()`, but automatically applies cloud masking to the loaded data."
   ]
  },
  {
   "cell_type": "markdown",
   "metadata": {},
   "source": [
    "<img align=\"middle\" src=\"../_static/session_3/01_cloud_masking_daressalaam_sentinel2_022018_masked.PNG\" alt=\"dc.load vs load_ard.\" width=\"400\">\n"
   ]
  },
  {
   "cell_type": "markdown",
   "metadata": {},
   "source": [
    "*Sentinel-2 data from 15 February 2018 loaded with `dc.load()` (left) and `load_ard()` (right). The `dc.load` image shows cloud cover, while the white pixels in the `load_ard` image are not clouds, but points where data has been removed by the cloud mask.*"
   ]
  },
  {
   "cell_type": "markdown",
   "metadata": {},
   "source": [
    "The cloud masking algorithm on Sentinel-2 data is more aggressive than its Landsat 8 counterpart. This means it sometimes misinteprets white sand beaches or urban regions as cloud. This can reduce the amount of data available. "
   ]
  },
  {
   "cell_type": "raw",
   "metadata": {
    "raw_mimetype": "text/restructuredtext"
   },
   "source": [
    ".. note::\n",
    "    ``load_ard()`` is compatible with the Sentinel-2 dataset we use here. It is also compatible with the Landsat 8 dataset we used in the last session. However, it is not compatible with some other Digital Earth Africa products, such as Water Observations from Space, with which you will need to use ``dc.load()``."
   ]
  },
  {
   "cell_type": "markdown",
   "metadata": {},
   "source": [
    "### Make new notebook\n",
    "\n",
    "Like in the last exercise, we will begin by making a new, blank Jupyter notebook. If you want more detailed instructions on making a new notebook, see [this section in the exercise on loading data in the Sandbox](../session_2/04_Load_data_exercise.ipynb#Make-a-new-notebook) from the previous session. Otherwise, follow the steps below.\n",
    "\n",
    "1. Navigate to the **Training** folder.\n",
    "2. Click the **+** button and click **Python 3** under the **Notebook** section.\n",
    "3. Rename your file so you know it is from this exercise. For example, call it `cloud_mask.ipynb`.\n",
    "4. Open the notebook.\n",
    "\n",
    "### Load packages and functions\n",
    "\n",
    "We can now load the packages and functions we want to use. In the first cell of your new notebook `cloud_mask.ipynb`, enter the following code and run the cell.\n"
   ]
  },
  {
   "cell_type": "markdown",
   "metadata": {},
   "source": [
    "<img align=\"middle\" src=\"../_static/session_3/01_cloud_masking_imports.PNG\" alt=\"Set up imports for the cloud mask notebook.\" width=\"500\">"
   ]
  },
  {
   "cell_type": "markdown",
   "metadata": {},
   "source": [
    "We used most of these packages and functions in the previous exercise on loading data in the Sandbox. The only new function is `load_ard`. "
   ]
  },
  {
   "cell_type": "markdown",
   "metadata": {},
   "source": [
    "### Connect to the datacube"
   ]
  },
  {
   "cell_type": "markdown",
   "metadata": {},
   "source": [
    "Enter the following code and run the cell to create our `dc` object, which provides access to the datacube.\n",
    "\n",
    "<img align=\"middle\" src=\"../_static/session_3/01_cloud_masking_datacube.PNG\" alt=\"Set up datacube connection for the cloud mask notebook.\" width=\"500\">"
   ]
  },
  {
   "cell_type": "markdown",
   "metadata": {},
   "source": [
    "### Load data with `load_ard()`"
   ]
  },
  {
   "cell_type": "raw",
   "metadata": {
    "raw_mimetype": "text/restructuredtext"
   },
   "source": [
    ".. note::\n",
    "    If you experience errors when running cells, check out the [troubleshooting code]() guide from the previous session."
   ]
  },
  {
   "cell_type": "markdown",
   "metadata": {},
   "source": [
    "Step through loading the data with load_ard\n",
    "\n",
    "Detailed with screenshots"
   ]
  },
  {
   "cell_type": "markdown",
   "metadata": {},
   "source": [
    "They should now have an image with holes"
   ]
  },
  {
   "cell_type": "markdown",
   "metadata": {},
   "source": [
    "Let us take a look at an area near the coast of Guinea Bissau. Enter the following code and run it to display a map of the area. As before, `x` denotes longitude and `y` latitude."
   ]
  },
  {
   "cell_type": "markdown",
   "metadata": {},
   "source": [
    "<img align=\"middle\" src=\"../_static/session_3/01_cloud_masking_displaymap.PNG\" alt=\"Example of display_map input and output.\" width=\"700\">"
   ]
  },
  {
   "cell_type": "markdown",
   "metadata": {},
   "source": [
    "In the new cell below, enter the following code, and then run it to load Sentinel-2 data. It will generate the output text `Using pixel quality parameters for Senntinel 2...`. The output text tells us we have loaded 4 timesteps."
   ]
  },
  {
   "cell_type": "markdown",
   "metadata": {},
   "source": [
    "<img align=\"middle\" src=\"../_static/session_3/01_cloud_masking_loadard.PNG\" alt=\"Using load_ard.\" width=\"700\">"
   ]
  },
  {
   "cell_type": "markdown",
   "metadata": {},
   "source": [
    "Take note of some of the differences between `dc.load()` and `load_ard`.\n",
    "\n",
    "* `dc=dc` is a required parameter for `load_ard()`. This links the data search to the datacube\n",
    "* The paramter for loading products is `products` (plural) not `product` as it is in `dc.load()`\n",
    "* Product items must be listed inside square brackets `[]`, which is not required for `dc.load()`\n",
    "* `min_gooddata` stands for 'minimum good data' and discards observations with less than the fractional requisite of good quality pixels"
   ]
  },
  {
   "cell_type": "markdown",
   "metadata": {},
   "source": [
    "We can use the same `rgb` plotting code as in the last session to show an RGB image of one of the timesteps. Let's start with the first timestep, which has an `index` of `0`."
   ]
  },
  {
   "cell_type": "markdown",
   "metadata": {},
   "source": [
    "<img align=\"middle\" src=\"../_static/session_3/01_cloud_masking_rgbin.PNG\" alt=\"Plotting an RGB of the first timestep.\" width=\"700\">"
   ]
  },
  {
   "cell_type": "markdown",
   "metadata": {},
   "source": [
    "This should produce a single RGB image. What happens if you try changing the `index` number?"
   ]
  },
  {
   "cell_type": "markdown",
   "metadata": {},
   "source": [
    "<img align=\"middle\" src=\"../_static/session_3/01_cloud_masking_rgbout.PNG\" alt=\"Output RGB of the first timestep.\" width=\"550\">"
   ]
  },
  {
   "cell_type": "markdown",
   "metadata": {},
   "source": [
    "If we want to see RGB images of all the timesteps at once, we can replace the `index` parameter with the `col` parameter. `col` stands for 'column', so `col='time'` gives us a new column with an image for each timestep."
   ]
  },
  {
   "cell_type": "markdown",
   "metadata": {},
   "source": [
    "<img align=\"middle\" src=\"../_static/session_3/01_cloud_masking_colin.PNG\" alt=\"Plotting RGBs of all timestep.\" width=\"700\">"
   ]
  },
  {
   "cell_type": "markdown",
   "metadata": {},
   "source": [
    "The output should look like this.\n",
    "\n",
    "<img align=\"middle\" src=\"../_static/session_3/01_cloud_masking_colout.PNG\" alt=\"Output RGBs from col=time.\" width=\"800\">"
   ]
  },
  {
   "cell_type": "markdown",
   "metadata": {},
   "source": [
    "\n",
    "*Discussion from Tuesday meeting: Extend with `nearest` and/or making a composite image? Don't want to confuse users or distract them with other averages (mean etc) which are not as good as geomedians.*"
   ]
  },
  {
   "cell_type": "markdown",
   "metadata": {},
   "source": [
    "## Conclusion"
   ]
  },
  {
   "cell_type": "markdown",
   "metadata": {},
   "source": [
    "Good work &mdash; you have now loaded data using `load_ard()`, which has an automatic cloud mask. We can see that the images at different timesteps have different cloud cover, so they have been masked in different places. This is why having data at different timesteps can allow us to create a composite image without any cloud. \n",
    "\n",
    "Next, we will introduce geomedians, which are an important statistical value used when making a composite image."
   ]
  }
 ],
 "metadata": {
  "kernelspec": {
   "display_name": "Python 3",
   "language": "python",
   "name": "python3"
  },
  "language_info": {
   "codemirror_mode": {
    "name": "ipython",
    "version": 3
   },
   "file_extension": ".py",
   "mimetype": "text/x-python",
   "name": "python",
   "nbconvert_exporter": "python",
   "pygments_lexer": "ipython3",
   "version": "3.6.9"
  }
 },
 "nbformat": 4,
 "nbformat_minor": 4
}
