{
 "cells": [
  {
   "cell_type": "markdown",
   "metadata": {},
   "source": [
    "# Introduction to water analyses"
   ]
  },
  {
   "cell_type": "markdown",
   "metadata": {},
   "source": [
    "## Overview"
   ]
  },
  {
   "cell_type": "markdown",
   "metadata": {},
   "source": [
    "In this section, we will introduce water analyses in the context of Open Data Cube and Digital Earth Africa.\n",
    "\n",
    "There are many useful analyses that involve water, such as: \n",
    "* Detection of mangroves, which can lessen damage from water surges, such as from storms and tsunamis\n",
    "* Reporting for indicators in the United Nations (UN) Sustainable Development Goals (SDGs) that involve water. For example, [Goal 6](https://sdgs.un.org/goals/goal6) is about water and sanitation. Some example indicators that the Open Data Cube can facilitate reporting for include: \n",
    "    1. Indicator 6.3.2: Proportion of bodies of water with good ambient water quality\n",
    "    1. Indicator 6.6.1: Change in the extent of water-related ecosystems over time\n",
    "* Detection of coastal erosion.\n",
    "* Detection of drought."
   ]
  },
  {
   "cell_type": "markdown",
   "metadata": {},
   "source": [
    "## Water detection with WOfS"
   ]
  },
  {
   "cell_type": "markdown",
   "metadata": {},
   "source": [
    "We detect water with the Water Observations from Space (WOfS) algorithm from Geoscience Australia, which is trained on Landsat data from 1987 to the present (more info [here](https://www.ga.gov.au/scientific-topics/community-safety/flood/wofs/about-wofs)).\n",
    "\n",
    "Our base product of WOfS water classification data is **ga_ls8c_wofs_2**, which tracks the presence of water over time. It has a single measurement  - **water** - for which there are many possible values which represent different classifications for the data. If `dc` is a `datacube.Datacube` object, then `dc.list_measurements().loc[\"ga_ls8c_wofs_2\", \"water\"]['flags_definition']` will show information regarding the significance of different values for this measurement. That information shows that the classification `'wet'` has `'values': {'128': True}`, so if we have data from the product **ga_ls8c_wofs_2** in a variable called `water_ds`, then we can find which pixels WOfS has classified as water with `water_ds.water == 128`.\n",
    "\n",
    "We also have an annual summary product called **ga_ls8c_wofs_2_annual_summary**, which records how often a pixel was classified as water in a given year. This is useful for comparing the presence of water over different years. It has 3 measurements - **count_wet**, **count_clear** and **frequency**."
   ]
  },
  {
   "cell_type": "markdown",
   "metadata": {},
   "source": [
    "## Example water analysis notebooks"
   ]
  },
  {
   "cell_type": "markdown",
   "metadata": {},
   "source": [
    "There are several notebooks in the Digital Earth Africa sandbox that analyze water bodies. A few of them are summarized below:\n",
    "\n",
    "**Real_world_examples/Chlorophyll_monitoring.ipynb**  \n",
    "Monitors chlorophyll-a in water bodies with Sentinel-2 data (optical).\n",
    "\n",
    "**Real_world_examples/Coastal_erosion.ipynb**  \n",
    "Monitors coastal erosion with Landsat 8 data (optical).\n",
    "\n",
    "**Real_world_examples/Intertidal_elevation.ipynb**  \n",
    "Models tides with Landsat 5, 7, and 8 data (optical).\n",
    "\n",
    "**Real_world_examples/Radar_water_detection.ipynb**  \n",
    "Water detection with Sentinel-1 data (radar - SAR). Sometimes cloud cover makes it impossible to conduct a successful water analysis of optical data. In cases like this, we can use radar data to detect water since radar waves pass through clouds much more than shorter wavelengths of light.   \n",
    "\n",
    "**Real_world_Examples/Water_extent.ipynb**  \n",
    "Determines the extent of water bodies with the **ga_ls8c_wofs_2** product."
   ]
  }
 ],
 "metadata": {
  "kernelspec": {
   "display_name": "Python 3",
   "language": "python",
   "name": "python3"
  },
  "language_info": {
   "codemirror_mode": {
    "name": "ipython",
    "version": 3
   },
   "file_extension": ".py",
   "mimetype": "text/x-python",
   "name": "python",
   "nbconvert_exporter": "python",
   "pygments_lexer": "ipython3",
   "version": "3.6.9"
  }
 },
 "nbformat": 4,
 "nbformat_minor": 4
}
