{
 "cells": [
  {
   "cell_type": "markdown",
   "metadata": {},
   "source": [
    "# Cloud masking"
   ]
  },
  {
   "cell_type": "markdown",
   "metadata": {},
   "source": [
    "## Recap: last session\n",
    "\n",
    "In the last session *note link will not work until Session 2 is merged with master, leave it for now*, we plotted RGB images for Dar es Salaam in Tanzania. The image had clouds in both the Landsat 8 and Sentinel-2 versions.\n",
    "\n",
    "What happens if we want to see what is underneath those clouds? If you have data for that place at only one time, this is not possible. However, if we have data for the same place at a different time, when that cloudy area isn't covered, we can 'fill' areas of cloud with data from the other time."
   ]
  },
  {
   "cell_type": "markdown",
   "metadata": {},
   "source": [
    "## Video: Time\n",
    "\n",
    "Watch this short video on using time in Earth observations (see relevant trello card)"
   ]
  },
  {
   "cell_type": "markdown",
   "metadata": {},
   "source": [
    "### Summary of video content"
   ]
  },
  {
   "cell_type": "markdown",
   "metadata": {},
   "source": [
    "* Including a brief explanation of cloud masking \n",
    "* We will be walking through a cloud masking exercise below\n",
    "* You can then piece together cloud-masked images to form a composite image\n",
    "* Geomedians are a special type of composite\n",
    "* Geomedians will be covered in the subsequent sections"
   ]
  },
  {
   "cell_type": "markdown",
   "metadata": {},
   "source": [
    "## Exercise: Cloud masking with `load_ard()`"
   ]
  },
  {
   "cell_type": "markdown",
   "metadata": {},
   "source": [
    "The first step to forming a composite image is cloud masking: removing data where the clouds are. This will leave 'holes' in the data which can then be filled by non-cloud data from a different timestep. In this exercise, we will apply a cloud mask to some Sentinel-2 data */our image of XYZ. To edit*"
   ]
  },
  {
   "cell_type": "markdown",
   "metadata": {},
   "source": [
    "### `load_ard()` vs `dc.load()`"
   ]
  },
  {
   "cell_type": "markdown",
   "metadata": {},
   "source": [
    "We previously loaded data using `dc.load()`. `dc.load()` is a universal function for loading data from the datacube and it is important to know how to use it. However, it does not have an in-built cloud masking capability. \n",
    "\n",
    "When we plotted the RGB images of Tanzania with data loaded using `dc.load()`, the clouds were part of the image. This makes it difficult to perform cloud masking, as the dataset does not distinguish cloud and not-cloud.\n",
    "\n",
    "In this exercise, we will instead use the command `load_ard()` to load our data. It demands similar parameters to `dc.load()` but automatically applies cloud masking to the loaded data."
   ]
  },
  {
   "cell_type": "markdown",
   "metadata": {},
   "source": [
    "*Put 2 images here - can probably use the Dar es Salaam location from before?*\n",
    "\n",
    "*Image 1: image loaded with dc.load*\n",
    "\n",
    "*Image 2: image loaded with load_ard*"
   ]
  },
  {
   "cell_type": "raw",
   "metadata": {
    "raw_mimetype": "text/restructuredtext"
   },
   "source": [
    ".. note::\n",
    "    `load_ard()` is compatible with the Sentinel-2 dataset we use here. It is also compatible with the Landsat 8 dataset we used in the last session. However, it is not compatible with some other Digital Earth Africa products, with which you will need to use `dc.load()`."
   ]
  },
  {
   "cell_type": "markdown",
   "metadata": {},
   "source": [
    "### Set up notebook\n",
    "\n",
    "*Outline steps to set up notebook, including imports and a very brief explanation of each import. This content will purposefully overlap with the `load_data_exercise` notebook from the previous session to build familiarity through repetition.*"
   ]
  },
  {
   "cell_type": "markdown",
   "metadata": {},
   "source": [
    "### Load data with `load_ard()`"
   ]
  },
  {
   "cell_type": "markdown",
   "metadata": {},
   "source": [
    "Step through loading the data with load_ard\n",
    "\n",
    "Detailed with screenshots"
   ]
  },
  {
   "cell_type": "markdown",
   "metadata": {},
   "source": [
    "They should now have an image with holes"
   ]
  },
  {
   "cell_type": "markdown",
   "metadata": {},
   "source": [
    "### See how the clouds change over time"
   ]
  },
  {
   "cell_type": "markdown",
   "metadata": {},
   "source": [
    "Provide instructions on how to change the index to see different timesteps (briefly covered in the previous session; can reference but also explain again.)\n",
    "\n",
    "As you change the index number we can see the cloud cover (and thus cloud masking) changes.\n",
    "\n",
    "Therefore, you can see why we will be able to fill in the holes left by clouds, by using data from different days"
   ]
  },
  {
   "cell_type": "markdown",
   "metadata": {},
   "source": [
    "## Conclusion"
   ]
  },
  {
   "cell_type": "markdown",
   "metadata": {},
   "source": [
    "* We understand the importance of cloud masking and how different timesteps can provide the data needed to create composite images\n",
    "* Using `load_ard` we can generate cloud masks\n",
    "* Next we will introduce geomedians, which are an important statistical average\n",
    "* Then we will use this technique to generate a geomedian composite image (fill in the holes)"
   ]
  },
  {
   "cell_type": "code",
   "execution_count": null,
   "metadata": {},
   "outputs": [],
   "source": []
  }
 ],
 "metadata": {
  "kernelspec": {
   "display_name": "Python 3",
   "language": "python",
   "name": "python3"
  },
  "language_info": {
   "codemirror_mode": {
    "name": "ipython",
    "version": 3
   },
   "file_extension": ".py",
   "mimetype": "text/x-python",
   "name": "python",
   "nbconvert_exporter": "python",
   "pygments_lexer": "ipython3",
   "version": "3.6.9"
  }
 },
 "nbformat": 4,
 "nbformat_minor": 4
}
