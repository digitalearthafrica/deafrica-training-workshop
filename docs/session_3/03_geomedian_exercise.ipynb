{
 "cells": [
  {
   "cell_type": "markdown",
   "metadata": {},
   "source": [
    "# Create a geomedian composite"
   ]
  },
  {
   "cell_type": "markdown",
   "metadata": {},
   "source": [
    "This exercise follows on from the previous section. In the previous section, we loaded Sentinel-2 data using `load_ard()`. This applied a cloud mask to the data by identifying and removing cloudy data points. We can now use this data to create a geomedian composite.\n",
    "\n",
    "In this section, we will re-run the notebook from the previous section, and extend it to create a geomedian composite. First, we will open and run our `Geomedian_composite.ipynb` notebook. This will ensure it loads the Sentinel-2 cloud-masked data. Then, we will use a function called `xr_geomedian` to calculate geomedians. This will allow us to plot a cloud-free geomedian composite image."
   ]
  },
  {
   "cell_type": "raw",
   "metadata": {
    "raw_mimetype": "text/restructuredtext"
   },
   "source": [
    ".. note::\n",
    "    We will be using the notebook we created in the `previous section <./02_cloud_masking.ipynb>`_, **Cloud masking with load_ard()**. If you have not already set up a notebook called ``Geomedian_composite.ipynb`` with the required packages and functions, follow the instructions in previous section. Ensure you have completed all the steps, including loading the Sentinel-2 dataset for the Ghanaian coast."
   ]
  },
  {
   "cell_type": "markdown",
   "metadata": {},
   "source": [
    "## Open and run notebook"
   ]
  },
  {
   "cell_type": "markdown",
   "metadata": {},
   "source": [
    "If you are following directly on from the last section, you can skip this step. If you have closed your Sandbox browser tab or disconnected from the Internet between exercises, follow these steps to ensure correct package imports and connection to the datacube.\n",
    "\n",
    "1. Navigate to the **Training** folder.\n",
    "2. Double-click `Geomedian_composite.ipynb`. It will open in the Launcher.\n",
    "3. Select **Kernel -> Restart Kernel and Run All Cells...**\n",
    "4. When prompted, select **Restart**.\n",
    "\n",
    "The notebook may take a little while to run. Check all the cells have run successfully with no error messages."
   ]
  },
  {
   "cell_type": "markdown",
   "metadata": {},
   "source": [
    "## Check the Sentinel-2 dataset"
   ]
  },
  {
   "cell_type": "markdown",
   "metadata": {},
   "source": [
    "Let's confirm we have successfully loaded our Sentinel-2 dataset. Recall we named it `sentinel_2_ds`. Scroll to the bottom of the notebook and run the dataset name in the next empty cell."
   ]
  },
  {
   "cell_type": "markdown",
   "metadata": {},
   "source": [
    "![image7](../_static/session_3/03_geomedian_exercise_ds.PNG)"
   ]
  },
  {
   "cell_type": "markdown",
   "metadata": {},
   "source": [
    "The output should show we have 4 timesteps."
   ]
  },
  {
   "cell_type": "raw",
   "metadata": {
    "raw_mimetype": "text/restructuredtext"
   },
   "source": [
    ".. note::\n",
    "    If you encounter a ``NameError`` error message, you might need to reload your packages and functions. Follow the steps above, under **Open and run notebook**."
   ]
  },
  {
   "cell_type": "markdown",
   "metadata": {},
   "source": [
    "## Create a geomedian composite"
   ]
  },
  {
   "cell_type": "markdown",
   "metadata": {},
   "source": [
    "Now we will create a geomedian composite using the `xr_geomedian` function. In the next empty cell below, enter the following code, and then run it.\n",
    "\n",
    "![image8](../_static/session_3/03_geomedian_exercise_08_geomedian.png)"
   ]
  },
  {
   "cell_type": "markdown",
   "metadata": {},
   "source": [
    "This generates a dataset called `geomedian_composite` which contains one geomedian value for every pixel."
   ]
  },
  {
   "cell_type": "markdown",
   "metadata": {},
   "source": [
    "## Create an RGB image of the composite"
   ]
  },
  {
   "cell_type": "markdown",
   "metadata": {},
   "source": [
    "In the new cell below, enter the following code, and then run it to generate an RGB image of the composite.\n",
    "\n",
    "![image9](../_static/session_3/03_geomedian_exercise_09_geomedian_rgb_1.png)"
   ]
  },
  {
   "cell_type": "markdown",
   "metadata": {},
   "source": [
    "The RGB image will look like this:\n",
    "\n",
    "![image10](../_static/session_3/03_geomedian_exercise_rgb_final.PNG)\n",
    "\n",
    "Excellent! There are no clouds or cloud shadows in the geomedian composite.\n",
    "\n",
    "There are some visual anomalies, but most of the image accurately represents the area."
   ]
  },
  {
   "cell_type": "raw",
   "metadata": {
    "raw_mimetype": "text/restructuredtext"
   },
   "source": [
    ".. note::\n",
    "    Save your work by clicking **File -> Save Notebook** or pressing ``Ctrl + S``."
   ]
  },
  {
   "cell_type": "markdown",
   "metadata": {},
   "source": [
    "## Conclusion"
   ]
  },
  {
   "cell_type": "markdown",
   "metadata": {},
   "source": [
    "We have created a geomedian composite of Sentinel-2 data and seen that it is an accurate representation of an area. It fills in missing or masked data, such as clouds and cloud shadows.\n",
    "\n",
    "This is the end of Session 3. In this session, you have been introduced to the concept of using composite datasets and images to fill in data gaps. We have also learned the best statistical method of combining datasets is the geomedian. Good work!"
   ]
  }
 ],
 "metadata": {
  "kernelspec": {
   "display_name": "Python 3",
   "language": "python",
   "name": "python3"
  },
  "language_info": {
   "codemirror_mode": {
    "name": "ipython",
    "version": 3
   },
   "file_extension": ".py",
   "mimetype": "text/x-python",
   "name": "python",
   "nbconvert_exporter": "python",
   "pygments_lexer": "ipython3",
   "version": "3.6.9"
  }
 },
 "nbformat": 4,
 "nbformat_minor": 4
}
