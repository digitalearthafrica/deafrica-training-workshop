{
 "cells": [
  {
   "cell_type": "markdown",
   "metadata": {},
   "source": [
    "# Digital Earth Africa products"
   ]
  },
  {
   "cell_type": "markdown",
   "metadata": {},
   "source": [
    "The Digital Earth Africa Sandbox allows users to access a variety of Earth observation products. These products are comprehensive datasets that form the basis of all analysis conducted in the Sandbox. As a Sandbox user, it is helpful to know more about the available products: each has its own strengths and limitations that can impact results. \n",
    "\n",
    "The Digital Earth Africa products can be split into two types:\n",
    "\n",
    "* Satellite products\n",
    "* Derived products\n",
    "\n",
    "This section describes each type, provides examples, and contains directions to more information."
   ]
  },
  {
   "cell_type": "markdown",
   "metadata": {},
   "source": [
    "## Satellite products"
   ]
  },
  {
   "cell_type": "markdown",
   "metadata": {},
   "source": [
    "Satelllite products are datasets output from satellites orbiting Earth. These datasets have undergone some pre-processing by the satellite operators, but are otherwise 'raw' data, measuring quantities such as reflectance, radiation and surface temperature. \n",
    "\n",
    "These products are fundamental to Earth observation analytics. They are distinguished by a few key attributes:\n",
    "\n",
    "* **Spatial resolution (how detailed):** Spatial resolution refers to the pixel size of the satellite product; that is, the smallest thing the satellite can 'see'. A higher resolution means a smaller pixel size, which means finer details can be distinguished in the image. Higher resolution is always superior, but is generally physically limited by the satellite hardware. \n",
    "* **Temporal resolution (how often):** Digital Earth Africa currently uses satellite products derived from satellites in a polar orbit. Polar orbits occur where satellites fly from pole to pole, passing over different parts of the Earth on each flyover. This means most parts of the world are captured by the satellite imagery, but are only revisited once or twice a month. Temporal resolution can be improved if a product uses more than one satellite &mdash; this is the case for the Sentinel-2 program, which has two dedicated satellites. \n",
    "* **Spectral resolution (how versatile):** Spectral resolution refers to the sensors on the satellite. The sensors are calibrated to collect measurements in certain wavelengths of the electromagnetic spectrum. The sensors are classified into 'bands' (sometimes called 'channels') by wavelength. Bands are often named by the characteristics of the wavelength range they cover &mdash; for example, red band, green band, near-infrared band. Each satellite has its own defined set of bands and bandwidths &mdash; they are not standardised. However, as a rule, the more bands a product has, the more versatile it is. This is because different bands are useful for idenitfying different features on Earth."
   ]
  },
  {
   "cell_type": "markdown",
   "metadata": {},
   "source": [
    "Digital Earth Africa hosts several satellite products available to Sandbox users. Two examples are described below."
   ]
  },
  {
   "cell_type": "markdown",
   "metadata": {},
   "source": [
    "### Satellite product spotlight: Landsat 8"
   ]
  },
  {
   "cell_type": "markdown",
   "metadata": {},
   "source": [
    "Landsat 8 is the eight iteration of the Landsat program run jointly by the United States Geological Survey (USGS) and National Aeronautics and Space Administration (NASA). It consists of one satellite in a polar orbit, launched on February 11, 2013, and is still in operation today.\n",
    "\n",
    "The Landsat data is organised by collections. Until recently, only Collection 1 was available, but USGS upgraded their pre-processing methodology. This gave rise to a new version of the Landsat data, titled 'Collection 2'. Collection 2 is planned for public release soon.\n",
    "\n",
    "Each collection contains the data at two levels; Level-1 and Level-2. Level-1 data is surface reflectance measured at the top of the atmosphere. Level-2 has been pre-processed for atmospheric corrections, and gives surface reflectance at bottom-of-atmosphere. Since the corrections increase data quality and usability, Level-2 data is generally used.\n",
    "\n",
    "The Digital Earth Africa Landsat 8 product uses Collection 1 Level-2 data, and holds the following characteristics:\n",
    "\n",
    "* **Sandbox alias:** `ls8_usgs_sr_scene`\n",
    "* **Data date range:** March 2013 &ndash; December 2019\n",
    "* **Available regions:** Tanzania, Senegal, Sierra Leone, Ghana and Kenya\n",
    "* **Spatial resolution:** 30 x 30 m (size of one pixel)\n",
    "* **Temporal resolution:** 16 days (one flyover every 16 days, or approximately twice a month)\n",
    "* **Spectral resolution:** 7 bands &mdash; Coastal/Aerosol, Blue, Green, Red, Near-Infrared, Short Wavelength Infrared 1, Short Wavelength Infrared 2\n"
   ]
  },
  {
   "cell_type": "markdown",
   "metadata": {},
   "source": [
    "For more details, see `Landsat_collections.ipynb` in the **Datasets** folder of the Sandbox, or visit the [Landsat Collections website](https://www.usgs.gov/land-resources/nli/landsat/landsat-collections?qt-science_support_page_related_con=2#qt-science_support_page_related_con). These sources also contain information about previous Landsat missions."
   ]
  },
  {
   "cell_type": "markdown",
   "metadata": {},
   "source": [
    "### Satellite product spotlight: Sentinel-2"
   ]
  },
  {
   "cell_type": "markdown",
   "metadata": {},
   "source": [
    "The Sentinel-2 mission is part of the European Union 'Copernicus' Earth observation programme. Sentinel-2 consists of twin satellites, Sentinel-2A (launched 23 June 2015) and Sentinel-2B (launched 7 March 2017). The satellites are purposefully spaced \n",
    "and their combined data is used in the Digital Earth Africa Sentinel-2 product.\n",
    "\n",
    "Like the Landsat datasets, Sentinel-2 data is tiered by level of pre-processing. Level-0, Level-1A and Level-1B data contain raw data from the satellites, with little to no pre-processing. Level-1C has been corrected to top-of-atmosphere reflectance, while Level-2A is bottom-of-atmosphere reflectance. As with Landsat, the Level-2A bottom-of-atmosphere measurements are most ideal for further research activities.\n",
    "\n",
    "The Digital Earth Africa Sentinel-2 product uses Sentinel-2 Level-2A data, and holds the following characteristics:\n",
    "\n",
    "* **Sandbox alias:** `s2_l2a`\n",
    "* **Data date range:** July 2017 &ndash; present\n",
    "* **Available regions:** Entire African continent\n",
    "* **Spatial resolution:** 10 x 10 m, 20 x 20 m, 60 x 60 m (depending on band)\n",
    "* **Temporal resolution:** Around 5 days\n",
    "* **Spectral resolution:** 12 bands &mdash; Coastal/Aerosol, Blue, Green, Red, Red Edge 1, Red Edge 2, Red Edge 3, Near-Infrared 1, Near-Infrared 2, Water Vapour, Short Wavelength Infrared 1, Short Wavelength Infrared 2\n",
    "\n",
    "Note that standalone Sentinel-2A data exists for the period of 2015 &ndash; 2017, before Sentinel-2B was launched, but as such has a reduced temporal resolution."
   ]
  },
  {
   "cell_type": "markdown",
   "metadata": {},
   "source": [
    "For more details, see `Sentinel_2.ipynb` in the **Datasets** folder of the Sandbox."
   ]
  },
  {
   "cell_type": "markdown",
   "metadata": {},
   "source": [
    "### Which satellite product is 'best'?"
   ]
  },
  {
   "cell_type": "markdown",
   "metadata": {},
   "source": [
    "This question is dependent on what analysis is being done.\n",
    "\n",
    "For example, if you are tracking a recent short-term change (over a few months), then the Sentinel-2 product, which has good temporal resolution, might be suitable. However, if it were changes over several years, then the Landsat 8 product, which goes back further, might be more useful. If you were interested in change happening on the decadal scale, then the other Landsat mission data on the Sandbox, such as Landsat 5 and Landsat 7, could also be used.\n",
    "\n",
    "Similarly, Landsat 8 data can only be used on countries for which the data is currently available. For other areas, or continent-wide analyses, Sentinel-2 data should be selected.\n",
    "\n",
    "A robust, wide-scale analysis can act as the foundations for a **derived product**."
   ]
  },
  {
   "cell_type": "markdown",
   "metadata": {},
   "source": [
    "## Derived products"
   ]
  },
  {
   "cell_type": "markdown",
   "metadata": {},
   "source": [
    "Derived products are generated from one or more satellite products. The data is analysed and processed to form a dataset of a meaningful scientific index or measurement. Current available derived products in the Digital Earth Africa Sandbox include:\n",
    "\n",
    "* **Fractional cover:** Provides estimates of the proportions of green vegetation, non-green vegetation (such as deciduous trees during autumn or dry grass), and bare soils\n",
    "* **Water Observations from Space (WOfS):** Categorises pixels as either wet or dry, and calculates the percentage of time a particular pixel has been classified as wet\n",
    "\n",
    "The resolution of a derived product is generally limited by the resolution of its formative satellite products.\n",
    "\n",
    "Creating a reliable derived product is not as simple as passing a satellite product through a formula or algorithm. The process of scaling localised analyses to a country-wide or continent-level product requires rigorous methodology and validation. This includes verifying results with other available data, or formulating confidence interval layers for the dataset. \n"
   ]
  },
  {
   "cell_type": "markdown",
   "metadata": {},
   "source": [
    "### Derived product spotlight: Water Observations from Space (WOfS)"
   ]
  },
  {
   "cell_type": "markdown",
   "metadata": {},
   "source": [
    "Water Observations from Space (WOfS) is a surface water product that indicates how likely water will be present in the selected region. Current WOfS datasets are created by applying the [WOfS algorithm](https://www.ga.gov.au/scientific-topics/community-safety/flood/wofs) on Landsat 8 data. \n",
    "\n",
    "Each pixel in each scene of the Landsat data is classified into one or more of the following categories:\n",
    "\n",
    "* No data\n",
    "* Non-contiguous\n",
    "* Sea\n",
    "* Terrain or low solar angle\n",
    "* High slope\n",
    "* Cloud shadow\n",
    "* Cloud\n",
    "* Water\n",
    "\n",
    "These pixel classifications are encoded into the dataset. They are used to show all areas which have been defined as 'water' for a particular time and place. Using the time series of available data, the WOfS dataset averages how often a pixel has been flagged as water. This creates a map of how likely a pixel is to contain water for the given period of time."
   ]
  },
  {
   "cell_type": "markdown",
   "metadata": {},
   "source": [
    "The WOfS dataset is summarised in `Water_Observations_from_Space.ipynb` in the **Datasets** folder of the Sandbox. For more details on working with WOfS, see `Applying_WOfS_bitmasking.ipynb` in the **Frequently_used_code** folder."
   ]
  }
 ],
 "metadata": {
  "kernelspec": {
   "display_name": "Python 3",
   "language": "python",
   "name": "python3"
  },
  "language_info": {
   "codemirror_mode": {
    "name": "ipython",
    "version": 3
   },
   "file_extension": ".py",
   "mimetype": "text/x-python",
   "name": "python",
   "nbconvert_exporter": "python",
   "pygments_lexer": "ipython3",
   "version": "3.6.9"
  }
 },
 "nbformat": 4,
 "nbformat_minor": 4
}
