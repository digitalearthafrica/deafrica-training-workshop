{
 "cells": [
  {
   "cell_type": "markdown",
   "metadata": {},
   "source": [
    "# Calculating NDVI: Part 1\n",
    "\n",
    "This exercise follows on from the previous section. In the [final exercise of the previous session](../session_3/03_geomedian_exercise.ipynb), you constructed a notebook to create geomedian composite.\n",
    "\n",
    "In this section, we will create a new notebook based on the notebook from the previous section. Most of the code will remain unchanged, but we will change the area of interest and time extent. We will also add steps to resample the new dataset and create a geomedian. In the next section, we will calculate and plot NDVI."
   ]
  },
  {
   "cell_type": "raw",
   "metadata": {
    "raw_mimetype": "text/restructuredtext"
   },
   "source": [
    ".. note::\n",
    "    We will be using the notebook we created in the previous section, `Create a geomedian composite <../session_3/03_geomedian_exercise.ipynb>`_. If you have not already set up a copy of the notebook called ``Geomedian_composite.ipynb`` with the required packages and functions, follow the instructions in previous section. Ensure you have completed all the steps, including loading the Sentinel-2 dataset."
   ]
  },
  {
   "cell_type": "markdown",
   "metadata": {},
   "source": [
    "## Set up notebook\n",
    "\n",
    "### Create a copy of the notebook\n",
    "\n",
    "Before you continue with the next step,\n",
    "\n",
    "1. Log in to the Sandbox and open the **Training** folder.\n",
    "2. Make a copy of the `Geomedian_composite.ipynb` notebook.\n",
    "3. Rename the notebook to `Calculate_ndvi.ipynb`.\n",
    "\n",
    "More details on how to [create a copy of a notebook and rename it](https://training.digitalearthafrica.org/en/latest/session_1/04_running_a_notebook.html#Create-a-copy-of-the-notebook).\n",
    "\n",
    "### Clearing the notebook\n",
    "\n",
    "We will need to remove any output from previous runs of the notebook.\n",
    "\n",
    "1. Select **Kernel -> Restart Kernel and Clear All Outputs…**.\n",
    "2. When prompted, select **Restart**."
   ]
  },
  {
   "cell_type": "markdown",
   "metadata": {},
   "source": [
    "## Running the notebook\n",
    "\n",
    "This notebook is still set up to run the session 3 exercise, so you'll need to follow the instructions below to modify it. Work cell by cell and pay attention to what needs to be changed.\n",
    "\n",
    "### Set up\n",
    "\n",
    "1. Run the first cell, which contains the packages and functions for the analysis. No need to change anything here.\n",
    "2. For the `dc = datacube.Datacube` command, change the app name to `\"Calculate_ndvi\"`. It should look like:\n",
    "\n",
    "    ```\n",
    "    dc = datacube.Datacube(app=\"Calculate_ndvi\")\n",
    "    ```\n",
    "\n",
    "### Load the data\n",
    "\n",
    "1. Change the x and y values to those shown below and run the cell.\n",
    "\n",
    "    ```\n",
    "    x=(31.2891, 31.4151)\n",
    "    y=(31.1482, 31.0676)\n",
    "    ```\n",
    "\n",
    "2. Change the time in the `load_ard` function to `(\"2019-01\", \"2019-12\")`.\n",
    "\n",
    "3. Remove the option `min_gooddata=0.7`.\n",
    "\n",
    "    If you completed steps 2, 3 and 4, your load cell should look like\n",
    "\n",
    "    ```\n",
    "    sentinel_2_ds = load_ard(\n",
    "        dc=dc,\n",
    "        products=[\"s2_l2a\"],\n",
    "        x=x, y=y,\n",
    "        time=(\"2019-01\", \"2019-12\"),\n",
    "        output_crs=\"EPSG:6933\",\n",
    "        measurements=['red', 'green', 'blue'],\n",
    "        resolution=(-10, 10),\n",
    "        group_by='solar_day')\n",
    "    ```\n",
    "    \n",
    "4. Run the cell. The load should return 71 time steps.\n"
   ]
  },
  {
   "cell_type": "markdown",
   "metadata": {},
   "source": [
    "###  Plot timesteps\n",
    "\n",
    "The fifth cell of the notebook contains an `rgb` command to plot the loaded data. To match our example below, modify this cell so that it matches the code below:\n",
    "```\n",
    "timesteps = [2, 4, 7]\n",
    "\n",
    "rgb(sentinel_2_ds, bands=['red', 'green', 'blue'], index=timesteps)\n",
    "```\n",
    "This will plot images for the 2nd, 4th and 7th timestep of the loaded data (remember that Python starts counting at 0). Your image should match the one below. \n",
    "\n",
    "<img align=\"middle\" src=\"ndvi_part_1_plot_rgb_v1.PNG\" alt=\"The DE Africa Sandbox Jupyterlab tutorial image.\" width=\"100%\">"
   ]
  },
  {
   "cell_type": "raw",
   "metadata": {
    "raw_mimetype": "text/restructuredtext"
   },
   "source": [
    ".. note::\n",
    "    You may also like to run this cell a few times, experimenting with different values for the ``timesteps`` parameter. The load command should have returned 71 time steps, meaning the values in your ``timesteps`` list can be anywhere from ``0`` to ``70``."
   ]
  },
  {
   "cell_type": "markdown",
   "metadata": {},
   "source": [
    "### Resampling the dataset\n",
    "Resampling is used to create a new set of times at regular intervals. Using the resample method, the data can be arranged in days, months, quarterly (three months) or yearly. \n",
    "\n",
    "Below gives examples of how the data are grouped.\n",
    "\n",
    "   * `'nD'` - number of days (e.g. `'7D'` for seven days)\n",
    "   * `'nM'` - number of months (e.g. `'6M'` for six months)\n",
    "   * `'nY'` - number of years (e.g. `'2Y'` for two years)"
   ]
  },
  {
   "cell_type": "markdown",
   "metadata": {},
   "source": [
    "Follow the steps below to resample the dataset time steps to quarterly.\n",
    "\n",
    "1. Delete the code for plotting all rgb images:\n",
    "\n",
    "    ```\n",
    "    rgb(sentinel_2_ds, bands=['red', 'green', 'blue'], \n",
    "    col='time', size=4)\n",
    "    ```\n",
    "    \n",
    "2. In the cleared cell, write the following code to resample the data and store it in the `resample_da` variable:\n",
    "   \n",
    "   ```\n",
    "   resample_sentinel_2_ds = sentinel_2_ds.resample(time='3MS')\n",
    "   ```\n",
    "   \n",
    "`resample_sentinel_2_ds` describes how to group the data into quarterly segments. We can now use this to calculate the geomedian for each quarterly segment."
   ]
  },
  {
   "cell_type": "raw",
   "metadata": {
    "raw_mimetype": "text/restructuredtext"
   },
   "source": [
    ".. note::\n",
    "    ``S`` at the end of ``'3MS'`` is to group the data by start of the month."
   ]
  },
  {
   "cell_type": "markdown",
   "metadata": {},
   "source": [
    "### Compute the geomedian\n",
    "\n",
    "For this session, instead of calling `xr_geomedian(ds)` on the entire array as we did in the previous exercise, we pass the `xr_geomedian` function to `map` and apply it separately to each resampled group(`resample_sentinel_2_ds`).\n",
    "\n",
    "Replace the existing `xr_geomedian` code with:\n",
    "\n",
    "```\n",
    "geomedian_resample = resample_sentinel_2_ds.map(xr_geomedian)\n",
    "```"
   ]
  },
  {
   "cell_type": "markdown",
   "metadata": {},
   "source": [
    "We can plot the output geomedians, and see the change in the landscape over the year. Replace the exsiting `rgb` code with:\n",
    "\n",
    "```\n",
    "rgb(geomedian_resample, bands=['red', 'green', 'blue'], col=\"time\", col_wrap=4)\n",
    "```\n",
    "\n",
    "<img align=\"middle\" src=\"ndvi_part_1_resample_rgb_v1.PNG\" alt=\"The DE Africa Sandbox Jupyterlab tutorial image.\" width=\"100%\">"
   ]
  },
  {
   "cell_type": "markdown",
   "metadata": {},
   "source": [
    "### Comparing the two datasets\n",
    "\n",
    "Comparing the two dataset can you tell the difference from the results shown below? \n",
    "\n",
    "`sentinel_2_ds`\n",
    "\n",
    "<img align=\"middle\" src=\"ndvi_part_1_plot_sentinel.PNG\" alt=\"The DE Africa Sandbox Jupyterlab tutorial image.\" width=\"800\">"
   ]
  },
  {
   "cell_type": "markdown",
   "metadata": {},
   "source": [
    "`geomedian_resample`\n",
    "\n",
    "<img align=\"middle\" src=\"ndvi_part_1_plot_geomedian.PNG\" alt=\"The DE Africa Sandbox Jupyterlab tutorial image.\" width=\"800\">"
   ]
  },
  {
   "cell_type": "markdown",
   "metadata": {},
   "source": [
    "Looking at the dimensions the raw dataset(`sentinel_2_ds`) has 139 time steps loaded but after resampling(`geomedian_resample`) to quaterly the time dimension is now 4."
   ]
  },
  {
   "cell_type": "markdown",
   "metadata": {},
   "source": [
    "## Conclusion\n",
    "\n",
    "Congratulations! You have successfully modified a notebook to create a quarterly geomedian composite by resampling Sentinel-2 data.\n",
    "\n",
    "If you'd like to experiment futher, try running the code with different resampling values. Did you learn anything interesting to share with us?\n",
    "\n",
    "In the next section, we will continue working with this notebook to calculate the NDVI values for each of our quarterly geomedians."
   ]
  }
 ],
 "metadata": {
  "kernelspec": {
   "display_name": "Python 3",
   "language": "python",
   "name": "python3"
  },
  "language_info": {
   "codemirror_mode": {
    "name": "ipython",
    "version": 3
   },
   "file_extension": ".py",
   "mimetype": "text/x-python",
   "name": "python",
   "nbconvert_exporter": "python",
   "pygments_lexer": "ipython3",
   "version": "3.6.9"
  }
 },
 "nbformat": 4,
 "nbformat_minor": 4
}
