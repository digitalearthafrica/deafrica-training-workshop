{
 "cells": [
  {
   "cell_type": "markdown",
   "metadata": {},
   "source": [
    "# Digital Earth Africa products"
   ]
  },
  {
   "cell_type": "markdown",
   "metadata": {},
   "source": [
    "The Digital Earth Africa Sandbox allows users to access a variety of Earth observation products. These products are comprehensive datasets that form the basis of all analysis conducted in the Sandbox. As a Sandbox user, it is helpful to know more about the available products: each has its own strengths and limitations that can impact results. \n",
    "\n",
    "The Digital Earth Africa products can be split into two types:\n",
    "\n",
    "* Satellite input products: datasets of measurements taken by satellites\n",
    "* Derived products: datasets created by applying algorithms to satellite products\n",
    "\n",
    "For now, we will focus on satellite input products. This section describes the two main datasets we will see in this training course - **Landsat 8** and **Sentinel-2**."
   ]
  },
  {
   "cell_type": "markdown",
   "metadata": {},
   "source": [
    "## Video: Satellite products"
   ]
  },
  {
   "cell_type": "markdown",
   "metadata": {},
   "source": [
    "Watch this short video for an overview of Digital Earth Africa satellite products. Then, read the text below for more detail."
   ]
  },
  {
   "cell_type": "markdown",
   "metadata": {},
   "source": [
    "[Download the video slides as a PDF](../_static/session_2/Week2_Satellite-products.pdf)"
   ]
  },
  {
   "cell_type": "raw",
   "metadata": {
    "raw_mimetype": "text/restructuredtext"
   },
   "source": [
    ".. only:: html\n",
    "\n",
    "   .. youtube:: eJayV08UBvw\n",
    "      :width: 100%"
   ]
  },
  {
   "cell_type": "markdown",
   "metadata": {},
   "source": [
    "## Satellite products"
   ]
  },
  {
   "cell_type": "markdown",
   "metadata": {},
   "source": [
    "![Sentinel2](../_static/session_2/01_products_intro_sentinel2.jpg){ width=\"550px\" }"
   ]
  },
  {
   "cell_type": "markdown",
   "metadata": {},
   "source": [
    "*An artistic rendering of one of the Sentinel-2 satellites.* [[Source](https://www.esa.int/Enabling_Support/Operations/Sentinel-2_operations)]"
   ]
  },
  {
   "cell_type": "markdown",
   "metadata": {},
   "source": [
    "Satelllite products are datasets output from satellites orbiting Earth. These datasets have undergone some pre-processing by the satellite operators, but are otherwise 'raw' data, measuring quantities such as reflectance, radiation and surface temperature. \n",
    "\n",
    "These products are fundamental to Earth observation analytics. They are distinguished by a few key attributes:\n",
    "\n",
    "* **Spatial resolution (how detailed):** Spatial resolution refers to the pixel size of the satellite product. It is the smallest thing the satellite can 'see'. A 30 m $\\times$ 30 m spatial resolution means the satellite product cannot pick up any details smaller than 30 m $\\times$ 30 m."
   ]
  },
  {
   "cell_type": "markdown",
   "metadata": {},
   "source": [
    "* **Temporal resolution (how often):** Satellites pass over different parts of the Earth at different times of the day and month. The frequency of measurements depends on how many satellites are contributing to the product."
   ]
  },
  {
   "cell_type": "markdown",
   "metadata": {},
   "source": [
    "* **Spectral resolution (how versatile):** Spectral resolution refers to the sensors on the satellite. The sensors are calibrated to collect measurements in certain wavelengths of the electromagnetic spectrum, known as 'bands'. Different bands are used for identifying different features on Earth, so the more bands a product has, the more versatile it is."
   ]
  },
  {
   "cell_type": "markdown",
   "metadata": {},
   "source": [
    "Digital Earth Africa hosts several satellite products available to Sandbox users. The two products used most in this training course are the Landsat 8 product and the Sentinel-2 product."
   ]
  },
  {
   "cell_type": "markdown",
   "metadata": {},
   "source": [
    "## Satellite product: Landsat 8"
   ]
  },
  {
   "cell_type": "markdown",
   "metadata": {},
   "source": [
    "Landsat 8 is the latest iteration of the Landsat program run jointly by the United States Geological Survey (USGS) and National Aeronautics and Space Administration (NASA). It consists of one satellite in a polar orbit, launched on February 11, 2013, and is still in operation today.\n",
    "\n",
    "The Landsat data is organised by collections. Recent pre-processing methodology upgrades by USGS have allowed the release of 'Collection 2'. This supersedes the older 'Collection 1' of Landsat data. Collection 2 is the collection used in Digital Earth Africa.\n",
    "\n",
    "Each collection contains the data at two levels; Level-1 and Level-2. Level-1 data is surface reflectance measured at the top of the atmosphere. Level-2 has been pre-processed for atmospheric corrections, and gives surface reflectance at bottom-of-atmosphere. Since the corrections increase data quality and usability, Level-2 data is generally used.\n",
    "\n",
    "The Digital Earth Africa Landsat 8 product uses Collection 2 Level-2 data, and holds the following characteristics:\n",
    "\n",
    "* **Sandbox alias:** `ls8_sr`\n",
    "* **Data type:** Surface reflectance\n",
    "* **Data timespan:** March 2013 &ndash; present\n",
    "* **Available regions:** Entire African continent\n",
    "* **Spatial resolution:** 30 $\\times$ 30 m (size of one pixel)\n",
    "* **Temporal resolution:** 16 days (one flyover every 16 days, or approximately twice a month)\n",
    "* **Spectral resolution:** 7 spectral bands &mdash; Coastal/Aerosol, Blue, Green, Red, Near-Infrared, Short Wavelength Infrared 1, Short Wavelength Infrared 2\n"
   ]
  },
  {
   "cell_type": "markdown",
   "metadata": {},
   "source": [
    "For more details, see the following resources:\n",
    "\n",
    "* [Digital Earth Africa dataset specifications: Landsat Collection 2 Level-2](https://docs.digitalearthafrica.org/en/latest/data_specs/Landsat_C2_specs.html)\n",
    "* The `Landsat.ipynb` notebook in the **Datasets** folder of the Sandbox\n",
    "* [USGS Landsat Collections website](https://www.usgs.gov/land-resources/nli/landsat/landsat-collections?qt-science_support_page_related_con=2#qt-science_support_page_related_con)\n",
    "\n",
    "These sources also contain information about previous Landsat missions. Together, Landsat 5/7/8 data covers the time period 1984 - present."
   ]
  },
  {
   "cell_type": "markdown",
   "metadata": {},
   "source": [
    "## Satellite product: Sentinel-2"
   ]
  },
  {
   "cell_type": "markdown",
   "metadata": {},
   "source": [
    "The Sentinel-2 mission is part of the European Union 'Copernicus' Earth observation programme. Sentinel-2 consists of twin satellites, Sentinel-2A (launched 23 June 2015) and Sentinel-2B (launched 7 March 2017). Their combined data is used in the Digital Earth Africa Sentinel-2 product.\n",
    "\n",
    "Like the Landsat datasets, Sentinel-2 data is tiered by level of pre-processing. Level-0, Level-1A and Level-1B data contain raw data from the satellites, with little to no pre-processing. Level-1C has been corrected to top-of-atmosphere reflectance, while Level-2A is bottom-of-atmosphere reflectance. As with Landsat, the Level-2A bottom-of-atmosphere measurements are most ideal for further research activities.\n",
    "\n",
    "The Digital Earth Africa Sentinel-2 product uses Sentinel-2 Level-2A data, and holds the following characteristics:\n",
    "\n",
    "* **Sandbox alias:** `s2_l2a`\n",
    "* **Data type:** Surface reflectance\n",
    "* **Data timespan:** July 2017 &ndash; present\n",
    "* **Available regions:** Entire African continent\n",
    "* **Spatial resolution:** 10 $\\times$ 10 m, 20 $\\times$ 20 m, 60 $\\times$ 60 m (depending on band)\n",
    "* **Temporal resolution:** 5 days\n",
    "* **Spectral resolution:** 12 spectral bands &mdash; Coastal/Aerosol, Blue, Green, Red, Red Edge 1, Red Edge 2, Red Edge 3, Near-Infrared 1, Near-Infrared 2, Water Vapour, Short Wavelength Infrared 1, Short Wavelength Infrared 2\n",
    "\n",
    "Note that standalone Sentinel-2A data exists for the period of 2015 &ndash; 2017, before Sentinel-2B was launched, but as such has a reduced temporal resolution."
   ]
  },
  {
   "cell_type": "markdown",
   "metadata": {},
   "source": [
    "For more details, see the following resources:\n",
    "\n",
    "* [Digital Earth Africa dataset specifications: Sentinel-2 Level-2A](https://docs.digitalearthafrica.org/en/latest/data_specs/Sentinel-2_Level-2A_specs.html)\n",
    "* The `Sentinel_2.ipynb` notebook in the **Datasets** folder of the Sandbox\n",
    "* [ESA Sentinel-2 mission website](https://sentinel.esa.int/web/sentinel/missions/sentinel-2)"
   ]
  },
  {
   "cell_type": "markdown",
   "metadata": {},
   "source": [
    "## Which satellite product is 'best'?"
   ]
  },
  {
   "cell_type": "markdown",
   "metadata": {},
   "source": [
    "This question depends on the analysis you are doing. It helps to consider the available resolutions of the satellite products. For example:\n",
    "\n",
    "**Analysis timespan:** Recent short-term changes (for example, over a couple of months) are best captured by the Sentinel-2 product, which has good temporal resolution. However, if it were changes over several years (or decades), then the Landsat 8 product might be more suitable.\n",
    "\n",
    "**Analysis region size and level of detail:** Sentinel-2 data has better native resolution than Landsat 8, so it is often preferred as it can distinguish smaller artifacts. However, if your region of analysis is expansive and you are looking for larger landmarks (for example, large bodies of water), then Landsat 8 may provide the level of detail required. Using Landsat 8 in that case may significantly reduce computation time while still providing comparable results."
   ]
  },
  {
   "cell_type": "markdown",
   "metadata": {},
   "source": [
    "## Conclusion\n",
    "\n",
    "Now you know more about the main satellite products covered in this training course. We will use both Landsat 8 and Sentinel-2 in the upcoming data manipulation exercises."
   ]
  }
 ],
 "metadata": {
  "kernelspec": {
   "display_name": "Python 3",
   "language": "python",
   "name": "python3"
  },
  "language_info": {
   "codemirror_mode": {
    "name": "ipython",
    "version": 3
   },
   "file_extension": ".py",
   "mimetype": "text/x-python",
   "name": "python",
   "nbconvert_exporter": "python",
   "pygments_lexer": "ipython3",
   "version": "3.6.9"
  }
 },
 "nbformat": 4,
 "nbformat_minor": 4
}