{
 "cells": [
  {
   "cell_type": "markdown",
   "metadata": {},
   "source": [
    "# Band indices"
   ]
  },
  {
   "cell_type": "markdown",
   "metadata": {},
   "source": [
    "True-colour images, like the RGB ones we created in Session 2 and Session 3, are a great way of seeing how spatial data might appear to our eyes. However, satellites capture many more layers of data: their range extends outside the visible spectrum. We can also make use of these measurements to perform various kinds of data analysis. \n",
    "\n",
    "One established analysis technique for identifying specific terrain features is to calculate a **band index**."
   ]
  },
  {
   "cell_type": "markdown",
   "metadata": {},
   "source": [
    "## Video: Band indices"
   ]
  },
  {
   "cell_type": "markdown",
   "metadata": {},
   "source": [
    "Watch the short video below to learn about band indices. Then, read the text below for more detail."
   ]
  },
  {
   "cell_type": "raw",
   "metadata": {
    "raw_mimetype": "text/restructuredtext"
   },
   "source": [
    "band index video here"
   ]
  },
  {
   "cell_type": "markdown",
   "metadata": {},
   "source": [
    "## What is a band?"
   ]
  },
  {
   "cell_type": "markdown",
   "metadata": {},
   "source": [
    "You may recall from the [introduction to satellite products](../session_2/01_products_intro.ipynb) that the range of data acquired by a satellite is defined by its **bands**. Bands are subdivisions of the electromagnetic spectrum dependent on the sensors on the satellite.\n",
    "\n",
    "A selection of commonly-used Landsat 8 and Sentinel-2 bands are shown in the table below. We can see the spectral ranges between Landsat 8 and Sentinel-2 are similar, but not the same. Also note the band numbers do not always correspond to the same spectral range."
   ]
  },
  {
   "cell_type": "markdown",
   "metadata": {},
   "source": [
    "|Spectral range| Landsat 8 bandwidth (micrometres) | Sentinel-2 bandwidth (micrometres)|\n",
    "|------------|--------|---------------|\n",
    "| Blue | Band 2 </br> 0.45 &ndash; 0.51| Band 2</br>0.458 &ndash; 0.523\n",
    "| Green| Band 3 </br> 0.53 &ndash; 0.59| Band 3</br>0.543 &ndash; 0.578\n",
    "| Red | Band 4</br>0.64 &ndash; 0.67 | Band 4</br>0.650 &ndash; 0.680\n",
    "| Near infrared (NIR) | Band 5 </br> 0.85 &ndash; 0.88| Band 8</br>0.785 &ndash; 0.899|\n",
    "| Short-wave infrared 1 (SWIR 1) | Band 6</br>1.57 &ndash; 1.65 | Band 11</br>1.565 &ndash; 1.655||"
   ]
  },
  {
   "cell_type": "markdown",
   "metadata": {},
   "source": [
    "*Sources:* [Landsat 8 bands](https://www.usgs.gov/media/images/landsat-8-band-designations), [Sentinel-2 bands](https://earth.esa.int/web/sentinel/technical-guides/sentinel-2-msi/msi-instrument)"
   ]
  },
  {
   "cell_type": "markdown",
   "metadata": {},
   "source": [
    "## Bands and terrain features"
   ]
  },
  {
   "cell_type": "markdown",
   "metadata": {},
   "source": [
    "Different types of ground cover absorb and reflect different amounts of radiation along the electromagnetic spectrum. This is dependent on the physical and chemical properties of the surface.\n",
    "\n",
    "*feels like we should have a diagram of the electromagnetic spectrum*\n",
    "\n",
    "For example:\n",
    "\n",
    "* **Water:** Open water bodies generally reflect light in the visible spectrum, and absorb more short-wave infrared than near-infrared radiation. This can change if the water is turbid.\n",
    "\n",
    "* **Snow:** Ice and snow reflects most visible radiation, but does not reflect much short-wave infrared. Reflectance measurements depend on snow granule size and liquid water content.\n",
    "\n",
    "* **Green vegetation:** Chlorophyll, a pigment in plants, absorbs a lot of visible light, including red light. When plants are healthy, they strongly reflect near-infrared light.\n",
    "\n",
    "* **Bare soil:** \n",
    "\n",
    "Using these spectral differences, we can calculate ratios between bands to isolate and accentuate the specific terrain feature we are interested in. These metrics are known as band ratios or **band indices**."
   ]
  },
  {
   "cell_type": "raw",
   "metadata": {
    "raw_mimetype": "text/restructuredtext"
   },
   "source": [
    ".. note::\n",
    "    In practice, nuances within terrain features as well as the presence of multiple features in one area can make them difficult to distinguish. This is one of the challenges of spectral data analysis."
   ]
  },
  {
   "cell_type": "markdown",
   "metadata": {},
   "source": [
    "### Example: Normalised Difference Vegetation Index (NDVI)"
   ]
  },
  {
   "cell_type": "markdown",
   "metadata": {},
   "source": [
    "One of the most widely-used band indices is the Normalised Difference Vegetation Index (NDVI). It is used to show the presence of live green vegetation. It uses the fact that healthy green vegetation should have a low red band measurement, and a high near-infrared band measurement. \n",
    "\n",
    "\n",
    "* One example of a band index is the Normalised Difference Vegetation Index (NDVI)\n",
    "* Used for ...\n",
    "* Calculated by... (formula)\n",
    "* Explain why NDVI measures veg - gives off nir when healthy\n",
    "\n",
    "Two example images: high ndvi vs low ndvi + explanatory caption\n",
    "\n",
    "One disadvantage of NDVI is that it gets easily confused with..."
   ]
  },
  {
   "cell_type": "markdown",
   "metadata": {},
   "source": [
    "## Calculating an index"
   ]
  },
  {
   "cell_type": "markdown",
   "metadata": {},
   "source": [
    "*Properties of band indices*??\n",
    "\n",
    "http://gsp.humboldt.edu/OLM/Courses/GSP_216_Online/lesson5-1/spectral.html\n",
    "\n",
    "*now that there is an example of NDVI, we can cover some of the more abstract index concepts? hard to do without an example*"
   ]
  },
  {
   "cell_type": "markdown",
   "metadata": {},
   "source": [
    "*Written Text*\n",
    "* General concept of difference over sum\n",
    "* Vary from -1 to 1 \n",
    "* Different indices measuring different things can be calculated using different bands "
   ]
  },
  {
   "cell_type": "code",
   "execution_count": null,
   "metadata": {},
   "outputs": [],
   "source": []
  }
 ],
 "metadata": {
  "kernelspec": {
   "display_name": "Python 3",
   "language": "python",
   "name": "python3"
  },
  "language_info": {
   "codemirror_mode": {
    "name": "ipython",
    "version": 3
   },
   "file_extension": ".py",
   "mimetype": "text/x-python",
   "name": "python",
   "nbconvert_exporter": "python",
   "pygments_lexer": "ipython3",
   "version": "3.6.9"
  }
 },
 "nbformat": 4,
 "nbformat_minor": 4
}
