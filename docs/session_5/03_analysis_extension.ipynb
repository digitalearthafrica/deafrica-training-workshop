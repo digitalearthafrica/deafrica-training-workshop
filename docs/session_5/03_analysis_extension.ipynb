{
 "cells": [
  {
   "cell_type": "markdown",
   "metadata": {},
   "source": [
    "# Vegetation change detection analysis extension"
   ]
  },
  {
   "cell_type": "markdown",
   "metadata": {},
   "source": [
    "In the [vegetation change detection exercise](02_vegetation_exercise.ipynb), we mentioned [another vegetation change detection notebook](https://github.com/digitalearthafrica/deafrica-sandbox-notebooks/blob/master/Real_world_examples/Vegetation_change_detection.ipynb).\n",
    "\n",
    "In this section, we will be examining the differences between our vegetation change detection exercise and this other notebook."
   ]
  },
  {
   "cell_type": "markdown",
   "metadata": {},
   "source": [
    "## Outline comparison"
   ]
  },
  {
   "cell_type": "markdown",
   "metadata": {},
   "source": [
    "Here are the steps in the vegetation change detection exercise: \n",
    "1. Load packages\n",
    "1. Connect to the datacube\n",
    "1. Specify the analysis parameters\n",
    "1. Show the area with `display_map()`\n",
    "1. Load the data\n",
    "1. Calculate the spectral index (EVI)\n",
    "1. Split the data into an older half and a newer half\n",
    "1. Calculate the mean composites for the older half and newer half\n",
    "1. Find the differences between the composites and visualize\n",
    "\n",
    "Here are the steps in the other vegetation change detection notebook:\n",
    "1. Load packages\n",
    "1. Connect to the datacube\n",
    "1. Specify the analysis parameters\n",
    "1. Show the area with `display_map()`\n",
    "1. Load the data\n",
    "1. View the loaded data with `rgb()`\n",
    "1. Calculate the spectral index (NDVI or EVI)\n",
    "1. Visualize the spectral index\n",
    "1. Split the data into an older half and a newer half\n",
    "1. Calculate the mean composites for the older half and newer half\n",
    "1. Find the statistically significant differences between the composites and visualize\n",
    "1. Export the differences of the mean composites and the statistically significant differences of the mean composites as TIFF files with the `write_cog()` function (`datacube.utils.cog.write_cog()`)."
   ]
  },
  {
   "cell_type": "markdown",
   "metadata": {},
   "source": [
    "## Analysis of differences"
   ]
  },
  {
   "cell_type": "markdown",
   "metadata": {},
   "source": [
    "Beside some minor differences like (1) the other vegetation change detection notebook visualizing the loaded data and its spectral index values whereas the exercise does not, (2) the notebooks having different code for selecting the baseline and postbaseline data (the other vegetation change detection notebook does not use *slice()*, unlike our exerise), or (3) the other vegetation change detection notebook exporting some data as TIFF files, these notebooks are mostly the same.\n",
    "\n",
    "The main difference is the use of a statistical test in the other vegetation change detection notebook. In the **Test for change** subsection of the **Perform hypothesis test** section, the [t-statistic](https://en.wikipedia.org/wiki/T-statistic) (**t_stat**) and [p-value](https://en.wikipedia.org/wiki/P-value) (**p_val**) are calculated for each pixel - comparing the distributions of spectral index values between the 2 time periods (baseline and post-baseline) for each pixel. The t-statistic here is essentially a measure of the difference between the distribution of values for each pixel, and the p-value is an estimate of the probability that such a t-statistic (difference between distributions) would occur if the 2 distributions (baseline and post-baseline, for each pixel) were sampled from the same population - that is, if the baseline and post-baseline time periods had the same true distribution of spectral index values. In this case, the true distribution would be the spectral index values of clear Landsat 8 data for all times, not just once every 16 days (continuous spectral index values across time)."
   ]
  }
 ],
 "metadata": {
  "kernelspec": {
   "display_name": "Python 3",
   "language": "python",
   "name": "python3"
  },
  "language_info": {
   "codemirror_mode": {
    "name": "ipython",
    "version": 3
   },
   "file_extension": ".py",
   "mimetype": "text/x-python",
   "name": "python",
   "nbconvert_exporter": "python",
   "pygments_lexer": "ipython3",
   "version": "3.6.9"
  }
 },
 "nbformat": 4,
 "nbformat_minor": 4
}
