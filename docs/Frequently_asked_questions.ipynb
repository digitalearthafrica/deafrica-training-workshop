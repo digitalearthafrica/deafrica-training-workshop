{
 "cells": [
  {
   "cell_type": "markdown",
   "metadata": {},
   "source": [
    "# Frequently asked questions"
   ]
  },
  {
   "cell_type": "markdown",
   "metadata": {},
   "source": [
    "## I forgot my DE Africa Sandbox password. How do I reset it?\n",
    "\n",
    "Visit the Sandbox homepage at [https://sandbox.digitalearth.africa/hub/login](https://sandbox.digitalearth.africa/hub/login) and click **Login or Sign up**. Click **Forgot your password?** and follow the instructions to reset your password.\n",
    "\n",
    "<img align=\"middle\" src=\"_static/sandbox-forgot-password.PNG\" alt=\"Forgot your password?\" width=\"300\">\n"
   ]
  },
  {
   "cell_type": "markdown",
   "metadata": {},
   "source": [
    "## I accidentally deleted a pre-loaded notebook in the Sandbox. How do I get it back?\n",
    "\n",
    "The DE Africa Sandbox session automatically loads several folders of default notebooks. If you have accidentally deleted any of the folders or notebooks, they can be restored by restarting the server. \n",
    "1. Save any open working files.\n",
    "2. Select **File -> Hub Control Panel**. This will open a new tab. \n",
    "3. On the new tab, select **Stop My Server**. The server will take a few minutes to stop.\n",
    "4. When the server has stopped, the buttons will refresh. Select **Start My Server**.\n",
    "5. Select **Launch Server** and **Start**.\n",
    "\n",
    "This should reload all default folders and notebooks for the DE Africa Sandbox. Note that this will **not** overwrite files that have been added, renamed, or modified. Additionally, this only applies to default pre-loaded files and will not restore personal notebooks that have been deleted."
   ]
  }
 ],
 "metadata": {
  "kernelspec": {
   "display_name": "Python 3",
   "language": "python",
   "name": "python3"
  },
  "language_info": {
   "codemirror_mode": {
    "name": "ipython",
    "version": 3
   },
   "file_extension": ".py",
   "mimetype": "text/x-python",
   "name": "python",
   "nbconvert_exporter": "python",
   "pygments_lexer": "ipython3",
   "version": "3.6.9"
  }
 },
 "nbformat": 4,
 "nbformat_minor": 4
}
