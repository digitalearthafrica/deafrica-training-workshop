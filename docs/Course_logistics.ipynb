{
 "cells": [
  {
   "cell_type": "markdown",
   "metadata": {},
   "source": [
    "# Course logistics"
   ]
  },
  {
   "cell_type": "markdown",
   "metadata": {},
   "source": [
    "## Course information\n",
    "\n",
    "**Start date (2020 intake):** Monday 24 August 2020\n",
    "\n",
    "* 6-week course\n",
    "* Requires approximately 2 hours per week\n",
    "* Online learning resources\n",
    "* Online help\n",
    "\n",
    "Participants who successfully complete the course will receive certification at the end of training.\n",
    "\n"
   ]
  },
  {
   "cell_type": "markdown",
   "metadata": {},
   "source": [
    "## Getting help\n",
    "\n",
    "**GitHub wiki:** [https://github.com/digitalearthafrica/deafrica-sandbox-notebooks](https://github.com/digitalearthafrica/deafrica-sandbox-notebooks)\n",
    "\n",
    "The GitHub wiki contains a repository of help documentation and notebooks that cover common data analysis functions and questions.\n",
    "\n",
    "**Slack:** [opendatacube.slack.com/](opendatacube.slack.com/)\n",
    "\n",
    "Join the **#de-africa-training** channel on the Open Data Cube Slack workspace. It is a friendly environment to ask questions about course content."
   ]
  },
  {
   "cell_type": "markdown",
   "metadata": {},
   "source": [
    "## Course conveners\n",
    "\n",
    "**Edward Boamah**\n",
    "\n",
    "Technical Manager\n",
    "\n",
    "E: \n",
    "\n",
    "**Kenneth Mubea, PhD**\n",
    "\n",
    "User Engagement Manager\n",
    "\n",
    "E: \n"
   ]
  }
 ],
 "metadata": {
  "kernelspec": {
   "display_name": "Python 3",
   "language": "python",
   "name": "python3"
  },
  "language_info": {
   "codemirror_mode": {
    "name": "ipython",
    "version": 3
   },
   "file_extension": ".py",
   "mimetype": "text/x-python",
   "name": "python",
   "nbconvert_exporter": "python",
   "pygments_lexer": "ipython3",
   "version": "3.6.9"
  }
 },
 "nbformat": 4,
 "nbformat_minor": 4
}
