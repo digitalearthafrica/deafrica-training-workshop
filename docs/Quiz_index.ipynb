{
 "cells": [
  {
   "cell_type": "markdown",
   "metadata": {},
   "source": [
    "# Quiz index"
   ]
  },
  {
   "cell_type": "raw",
   "metadata": {
    "raw_mimetype": "text/restructuredtext"
   },
   "source": [
    ".. note:: \n",
    "    **Training at Digital Earth Africa has moved!** Register at `learn.digitalearthafrica.org <https://learn.digitalearthafrica.org/>`_ to enrol in the revised and updated 6-week training course, now called `Intro to Sandbox <https://learn.digitalearthafrica.org/courses/course-v1:digitalearthafrica+DEA101+2021/about>`_ (EN) and `Introduction à la sandbox <https://learn.digitalearthafrica.org/courses/course-v1:digitalearthafrica+DEA101-fr+2021/about>`_ (FR). \n",
    "    \n",
    "    Current participants on this website `training.digitalearthafrica.org <https://training.digitalearthafrica.org/>`_ have until **30 November 2021** to successfully complete all quizzes for certification. After 30 November 2021, certificates can be obtained by completing the Intro to Sandbox course on `learn.digitalearthafrica.org <https://learn.digitalearthafrica.org/>`_. Find out more about the move on `our blog <https://www.digitalearthafrica.org/media-center/blog/now-available-learning-platform-and-new-intro-sandbox-course>`_.\n",
    "    \n",
    "    **La formation à Digital Earth Africa a déménagé !** Connectez-vous sur `learn.digitalearthafrica.org <https://learn.digitalearthafrica.org/>`_ pour vous inscrire à la formation révisée et mise à jour, désormais appelée `Introduction à la sandbox <https://learn.digitalearthafrica.org/courses/course-v1:digitalearthafrica+DEA101-fr+2021/about>`_ (FR) et `Intro to Sandbox <https://learn.digitalearthafrica.org/courses/course-v1:digitalearthafrica+DEA101+2021/about>`_ (EN).\n",
    "    \n",
    "    Les participants suivant actuellement la formation sur ce site web `training.digitalearthafrica.org <https://training.digitalearthafrica.org/>`_ ont jusqu'au **30 novembre 2021** pour réussir tous les quiz de certification. Après le 30 novembre 2021, les certificats peuvent être obtenus en suivant le cours Intro to Sandbox sur `learn.digitalearthafrica.org <https://learn.digitalearthafrica.org/>`_. En savoir plus sur le déménagement en consultant `notre blog <https://www.digitalearthafrica.org/media-center/blog/now-available-learning-platform-and-new-intro-sandbox-course>`_."
   ]
  },
  {
   "cell_type": "markdown",
   "metadata": {},
   "source": [
    "To be eligible for a DE Africa Training Course Certificate of Completion, you must successfully complete all six assessment quizzes. The links to the quiz page for each week can be found below.\n",
    "\n",
    "On each quiz page, read the summary of the week's contents and note any suggestions or requirements for the quiz. Click the link labelled **complete the quiz** to access the questions.\n",
    "\n",
    "You may submit more than one response to each quiz. Your highest score for each quiz will be used in assessing Certificate of Completion eligibility. Full marks must be scored to successfully pass each quiz.\n",
    "\n",
    "If you have any questions about the assessment quizzes, or cannot remember which quizzes you have completed, see the [FAQ](./Frequently_asked_questions.ipynb) or [contact the course convenors](./Contact_us.ipynb)."
   ]
  },
  {
   "cell_type": "raw",
   "metadata": {
    "raw_mimetype": "text/restructuredtext"
   },
   "source": [
    ".. note::\n",
    "    Please use the same email address with every quiz submission. This allows the course convenors to track your progress and award certificates in a timely manner."
   ]
  },
  {
   "cell_type": "markdown",
   "metadata": {},
   "source": [
    "* [Session 1: Copy, open and run a notebook](https://training.digitalearthafrica.org/en/latest/session_1/05_s1_quiz.html)"
   ]
  },
  {
   "cell_type": "markdown",
   "metadata": {},
   "source": [
    "* [Session 2: Load data and plot an image](https://training.digitalearthafrica.org/en/latest/session_2/05_s2_solution.html)"
   ]
  },
  {
   "cell_type": "markdown",
   "metadata": {},
   "source": [
    "* [Session 3: Plot a cloud-free geomedian](https://training.digitalearthafrica.org/en/latest/session_3/04_s3_solution.html)"
   ]
  },
  {
   "cell_type": "markdown",
   "metadata": {},
   "source": [
    "* [Session 4: Calculate NDVI](https://training.digitalearthafrica.org/en/latest/session_4/04_s4_solution.html)"
   ]
  },
  {
   "cell_type": "markdown",
   "metadata": {},
   "source": [
    "* [Session 5: Show vegetation change over time](https://training.digitalearthafrica.org/en/latest/session_5/03_s5_solution.html)"
   ]
  },
  {
   "cell_type": "markdown",
   "metadata": {},
   "source": [
    "* [Session 6: Show water extent change over time](https://training.digitalearthafrica.org/en/latest/session_6/03_s6_solution.html)"
   ]
  },
  {
   "cell_type": "markdown",
   "metadata": {},
   "source": [
    "> Quiz access will terminate on 30 November 2021. Successfully complete all quizzes before this date to receive certification."
   ]
  }
 ],
 "metadata": {
  "kernelspec": {
   "display_name": "Python 3 (ipykernel)",
   "language": "python",
   "name": "python3"
  },
  "language_info": {
   "codemirror_mode": {
    "name": "ipython",
    "version": 3
   },
   "file_extension": ".py",
   "mimetype": "text/x-python",
   "name": "python",
   "nbconvert_exporter": "python",
   "pygments_lexer": "ipython3",
   "version": "3.8.10"
  }
 },
 "nbformat": 4,
 "nbformat_minor": 4
}
