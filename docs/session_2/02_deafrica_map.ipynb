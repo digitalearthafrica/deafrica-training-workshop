{
 "cells": [
  {
   "cell_type": "markdown",
   "metadata": {},
   "source": [
    "# Digital Earth Africa Map"
   ]
  },
  {
   "cell_type": "markdown",
   "metadata": {},
   "source": [
    "Satellite products, as a dataset, are just a lot of numbers &mdash; not the most intuitive format when you are deciding how to analyse the data. It is much more helpful to see what the data looks like. The [Digital Earth Africa Map](https://maps.digitalearth.africa/) portal helps users visualise Digital Earth Africa products by offering an interactive map. "
   ]
  },
  {
   "cell_type": "markdown",
   "metadata": {},
   "source": [
    "## Overview\n",
    "\n",
    "In this section, we will show you how to navigate the [Digital Earth Africa Map](https://maps.digitalearth.africa/). This includes a short exercise on displaying Landsat 8 data on the Map."
   ]
  },
  {
   "cell_type": "markdown",
   "metadata": {},
   "source": [
    "## Video: Introduction to the DE Africa Map"
   ]
  },
  {
   "cell_type": "markdown",
   "metadata": {},
   "source": [
    "This video will show you the basics of the Digital Earth Africa Map portal. You can also follow the written instructions in the exercise below."
   ]
  },
  {
   "cell_type": "raw",
   "metadata": {
    "raw_mimetype": "text/restructuredtext"
   },
   "source": [
    ".. youtube:: 44mEA6GjugE\n",
    "   :width: 100%"
   ]
  },
  {
   "cell_type": "markdown",
   "metadata": {},
   "source": [
    "## Navigate the Digital Earth Africa Map"
   ]
  },
  {
   "cell_type": "markdown",
   "metadata": {},
   "source": [
    "To access the Map, open https://maps.digitalearth.africa/. This will bring you to the Digital Earth Africa Map user interface."
   ]
  },
  {
   "cell_type": "markdown",
   "metadata": {},
   "source": [
    "<img align=\"middle\" src=\"../_static/session_2/maps_ui1.PNG\" alt=\"The DE Africa Map user interface.\" width=600>"
   ]
  },
  {
   "cell_type": "markdown",
   "metadata": {},
   "source": [
    "The Digital Earth Africa Map can be split into two sections. The exercise below will cover how to use both.\n",
    "\n",
    "1. **Data workbench (left side):** Allows users to select data they want to view on the Map. By default, no data is selected.\n",
    "2. **Map interface (right side):** Displays the data selected in the workbench, and allows users to customise how the data is viewed. By default, it shows an Esri World Imagery Basemap."
   ]
  },
  {
   "cell_type": "markdown",
   "metadata": {},
   "source": [
    "## Exercise: Load Landsat 8 imagery"
   ]
  },
  {
   "cell_type": "markdown",
   "metadata": {},
   "source": [
    "This activity will demonstrate how to load Landsat 8 imagery onto the Digital Earth Africa Map. Follow the instructions below to open the dataset in the workbench and view it in the map interface."
   ]
  },
  {
   "cell_type": "raw",
   "metadata": {
    "raw_mimetype": "text/restructuredtext"
   },
   "source": [
    ".. note::\n",
    "    The video above refers to the dataset for Water Observations from Space, however this exercise will use the Landsat 8 dataset."
   ]
  },
  {
   "cell_type": "markdown",
   "metadata": {},
   "source": [
    "1. First, we need to select the Landsat 8 dataset. To add data to the data workbench, click **Add Data** to open the Data Catalogue. "
   ]
  },
  {
   "cell_type": "markdown",
   "metadata": {},
   "source": [
    "<img align=\"middle\" src=\"../_static/session_2/maps_workbench1.PNG\" alt=\"The DE Africa Map data workbench.\" width=400>"
   ]
  },
  {
   "cell_type": "markdown",
   "metadata": {},
   "source": [
    "2. The datasets are organised by category. Landsat 8 is a satellite product, so select **Satellite images**. Click **Surface reflectance** and **Daily surface reflectance** to open the folder of Landsat surface reflectance products. Click**Surface reflectance (Landsat 8)**.\n",
    "\n",
    "    The right panel will show information on the selected dataset. Click **Add to the map**. This will add the dataset to the workbench and close the Data Catelogue.\n",
    "\n",
    "<img align=\"middle\" src=\"../_static/session_2/maps_datacatalogue_l8_boxed.PNG\" alt=\"The DE Africa Map data catalogue.\" width=400>"
   ]
  },
  {
   "cell_type": "markdown",
   "metadata": {},
   "source": [
    "3. The Landsat 8 data will be displayed in the map interface as blue shaded areas. By default, the data shows the latest available timestep. In this case, this is 25 January 2020.\n",
    "\n",
    "<img align=\"middle\" src=\"../_static/session_2/maps_shaded.PNG\" alt=\"Shaded areas show where data exists.\" width=400>"
   ]
  },
  {
   "cell_type": "markdown",
   "metadata": {},
   "source": [
    "4. Zoom in to the shaded area by scrolling up on your mouse or pressing the floating **+** button on the side of the map interface. Left-click and drag to pan the map.\n",
    "\n",
    "<img align=\"middle\" src=\"../_static/session_2/maps_float_boxed.PNG\" alt=\"DE Africa map zoom.\" width=400>\n",
    "\n",
    "5. Zooming in on the shaded area will show the data rendered as true-colour imagery. This is only one day of data, so not all of Africa is covered in the satellite flyover. Only the area inside the rectangle is Landsat 8 imagery.\n",
    "\n",
    "<img align=\"middle\" src=\"../_static/session_2/maps_zoomed.PNG\" alt=\"Data area as true-colour.\" width=300>"
   ]
  },
  {
   "cell_type": "markdown",
   "metadata": {},
   "source": [
    "6. To see other days of data, click date shown in the workbench dataset **Time** bar. This will open a menu that shows all available timesteps for the Landsat 8 product. Select a different time and see how the map shaded area changes.\n",
    "\n",
    "<img align=\"middle\" src=\"../_static/session_2/maps_time.PNG\" alt=\"Workbench time selection menu.\" width=300>"
   ]
  },
  {
   "cell_type": "markdown",
   "metadata": {},
   "source": [
    "Congratulations &mdash; you have used the Digital Earth Africa Map to view Landsat 8 data."
   ]
  },
  {
   "cell_type": "markdown",
   "metadata": {},
   "source": [
    "## Optional activity\n",
    "\n",
    "Now you have successfully loaded Landsat 8 imagery on the Digital Earth Africa Map, try loading imagery for Sentinel-2. \n",
    "\n",
    "**Hints:**\n",
    "\n",
    "* The Sentinel-2 product is also a surface reflectance dataset\n",
    "* You can have multiple datasets in the workbench\n",
    "\n",
    "**Other useful functions:**\n",
    "\n",
    "* Click on the white square to deselect a dataset. This will keep it in the workbench but remove it from the map interface display\n",
    "* Click on **Remove** to remove the selected dataset\n",
    "* Click on **Remove All** to clear all datasets from the workbench"
   ]
  },
  {
   "cell_type": "markdown",
   "metadata": {},
   "source": [
    "Details on other functions of the Digital Earth Africa Map can be found in the [Map portal user guide](./../Maps_help.ipynb), but are not necessary to progress in the training course."
   ]
  },
  {
   "cell_type": "markdown",
   "metadata": {},
   "source": [
    "## Conclusion\n",
    "\n",
    "Using the [Digital Earth Africa Map](https://maps.digitalearth.africa/), we can see the satellite data in a visual way. This makes it easier to understand the scope of the data we are analysing.\n"
   ]
  }
 ],
 "metadata": {
  "kernelspec": {
   "display_name": "Python 3",
   "language": "python",
   "name": "python3"
  },
  "language_info": {
   "codemirror_mode": {
    "name": "ipython",
    "version": 3
   },
   "file_extension": ".py",
   "mimetype": "text/x-python",
   "name": "python",
   "nbconvert_exporter": "python",
   "pygments_lexer": "ipython3",
   "version": "3.6.9"
  }
 },
 "nbformat": 4,
 "nbformat_minor": 4
}
