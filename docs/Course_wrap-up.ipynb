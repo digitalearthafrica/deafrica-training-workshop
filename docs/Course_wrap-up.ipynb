{
 "cells": [
  {
   "cell_type": "markdown",
   "metadata": {},
   "source": [
    "# Conclusion: Course wrap-up"
   ]
  },
  {
   "cell_type": "raw",
   "metadata": {},
   "source": [
    "From Trello:\n",
    "\n",
    "Add a final page (separate to session 6) to conclude the course. It should cover:\n",
    "\n",
    "congratulations on finishing the course\n",
    "a summary of what they know how to do\n",
    "can be dot points\n",
    "should pull out specific capabilities from each session (e.g. run an existing notebook, change the area of interest in an existing notebook, build you own case studies, etc.)\n",
    "try to get at least one practical thing they learnt from each session\n",
    "\n",
    "an encouragement to check out other notebooks in the existing folders\n",
    "e.g. they can look at the begginer's guide for more insight into working with various functions of the datacube, frequently_used_code for reuseable code pieces that they can incorporate into their own analysis\n",
    "\n",
    "a recap of where they can go to get help from this point (email instructors, ODC slack etc.)"
   ]
  },
  {
   "cell_type": "markdown",
   "metadata": {},
   "source": [
    "## Congratulations! You have reached the end of the Digital Earth Africa training course."
   ]
  },
  {
   "cell_type": "markdown",
   "metadata": {},
   "source": [
    "Over the six sessions, you have learnt how to:\n",
    "\n",
    "* Run data analysis notebooks in the Digital Earth Africa Sandbox\n",
    "*\n",
    "\n",
    "In the Sandbox, you are able to:\n",
    "\n",
    "* Load data both with and without cloud masking\n",
    "* Create geomedian composites\n",
    "* Calculate band indices such as NDVI\n",
    "* Construct complete case studies based on vegetation or water indices\n"
   ]
  },
  {
   "cell_type": "markdown",
   "metadata": {},
   "source": [
    "## What next?"
   ]
  },
  {
   "cell_type": "markdown",
   "metadata": {},
   "source": [
    "You can expand on your Digital Earth Africa skills by "
   ]
  },
  {
   "cell_type": "markdown",
   "metadata": {},
   "source": [
    "## Keep in contact"
   ]
  },
  {
   "cell_type": "markdown",
   "metadata": {},
   "source": [
    "If you have any "
   ]
  }
 ],
 "metadata": {
  "kernelspec": {
   "display_name": "Python 3",
   "language": "python",
   "name": "python3"
  },
  "language_info": {
   "codemirror_mode": {
    "name": "ipython",
    "version": 3
   },
   "file_extension": ".py",
   "mimetype": "text/x-python",
   "name": "python",
   "nbconvert_exporter": "python",
   "pygments_lexer": "ipython3",
   "version": "3.6.9"
  }
 },
 "nbformat": 4,
 "nbformat_minor": 4
}
