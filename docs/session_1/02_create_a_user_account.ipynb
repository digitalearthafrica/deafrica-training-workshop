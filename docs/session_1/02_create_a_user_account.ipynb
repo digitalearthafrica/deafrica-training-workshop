{
 "cells": [
  {
   "cell_type": "markdown",
   "metadata": {},
   "source": [
    "# Create a Digital Earth Africa user account"
   ]
  },
  {
   "cell_type": "markdown",
   "metadata": {},
   "source": [
    "Digital Earth Africa datasets and products can be accessed through the Digital Earth Africa Sandbox. The Sandbox is free to use. If you have an existing account, you can sign in [here](https://sandbox.digitalearth.africa/). To make an account, watch the video [Introduction to the Sandbox](https://youtu.be/QRKX6jwN3kM) or follow the steps below."
   ]
  },
  {
   "cell_type": "raw",
   "metadata": {
    "raw_mimetype": "text/restructuredtext"
   },
   "source": [
    ".. only:: html\n",
    "\n",
    "   .. youtube:: QRKX6jwN3kM"
   ]
  },
  {
   "cell_type": "markdown",
   "metadata": {},
   "source": [
    "## What is the Sandbox?\n",
    "\n",
    "The Sandbox is a learning and analysis environment for accessing the Earth observation data available to Digital Earth Africa. It includes sample data and Jupyter notebooks to guide new users. Users can also create their own notebooks and code to draw on the Digital Earth Africa datasets. "
   ]
  },
  {
   "cell_type": "markdown",
   "metadata": {},
   "source": [
    "## Register\n",
    "\n",
    "1. Visit [https://sandbox.digitalearth.africa/](https://sandbox.digitalearth.africa/) and click **Login or Sign up**.\n",
    "2. Click **Sign up**.\n",
    "3. Fill in the **Username**, **Name**, **Email** and **Password** fields. Passwords must be at least 8 characters, and contain at minimum a lower case letter, an upper case letter and a number. Record your username securely as it will be required to reset your password should you forget it.\n",
    "\n",
    "<img align=\"middle\" src=\"../_static/sandbox-register-form.png\" alt=\"The DE Africa Sandbox new user registration page.\" width=\"300\">\n",
    "\n",
    "4. Click **Sign up**.\n",
    "5. A verification code will have been sent to your nominated email address. Enter the verification code and click **Confirm Account**. This will automatically log you in.\n",
    "\n",
    "<img align=\"middle\" src=\"../_static/sandbox-confirm-account.PNG\" alt=\"The DE Africa Sandbox new user confirm account page.\" width=\"300\">\n",
    "\n",
    "6. You will be prompted to select a sever from Server Options. For regular users, only the default environment is available. Select **Default environment** and click **Start**.\n",
    "\n",
    "<img align=\"middle\" src=\"../_static/sandbox-default-env.PNG\" alt=\"The DE Africa Sandbox start server page.\" width=\"500\">\n",
    "\n",
    "The server will start up; this can take a few minutes. You will automatically be redirected to the Sandbox environment. \n",
    "\n",
    "The Sandbox runs completely in-browser and all necessary software is provided. No additional installation or configuration is required."
   ]
  }
 ],
 "metadata": {
  "kernelspec": {
   "display_name": "Python 3",
   "language": "python",
   "name": "python3"
  },
  "language_info": {
   "codemirror_mode": {
    "name": "ipython",
    "version": 3
   },
   "file_extension": ".py",
   "mimetype": "text/x-python",
   "name": "python",
   "nbconvert_exporter": "python",
   "pygments_lexer": "ipython3",
   "version": "3.6.9"
  }
 },
 "nbformat": 4,
 "nbformat_minor": 4
}
