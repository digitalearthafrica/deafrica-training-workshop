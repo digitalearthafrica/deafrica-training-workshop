{
 "cells": [
  {
   "cell_type": "markdown",
   "metadata": {},
   "source": [
    "# Create a Digital Earth Africa account"
   ]
  },
  {
   "cell_type": "markdown",
   "metadata": {},
   "source": [
    "## Overview"
   ]
  },
  {
   "cell_type": "markdown",
   "metadata": {},
   "source": [
    "The Digital Earth Africa Sandbox is a learning and analysis environment for accessing Digital Earth Africa data. During this course, you will learn how to use this environment to write and run analyses using Earth observation data.\n",
    "\n",
    "The Sandbox is free to use. Watch the video for a quick introduction. Then follow the step-by-step instructions below to create an account.\n",
    "\n",
    "If you have an existing account, you can sign in at <a href=\"http://example.com/\" target=\"_blank\">https://sandbox.digitalearth.africa/</a>."
   ]
  },
  {
   "cell_type": "markdown",
   "metadata": {},
   "source": [
    "## Video: Signing up to the Sandbox\n",
    "\n",
    "This video contains a short introduction to the Sandbox. After watching the video, follow the written steps below for detailed instructions on how to sign up."
   ]
  },
  {
   "cell_type": "raw",
   "metadata": {
    "raw_mimetype": "text/restructuredtext"
   },
   "source": [
    ".. youtube:: ZPml2s-VoWY\n",
    "      :width: 100%"
   ]
  },
  {
   "cell_type": "markdown",
   "metadata": {},
   "source": [
    "## Create an account\n",
    "\n",
    "1. Visit [https://sandbox.digitalearth.africa/](https://sandbox.digitalearth.africa/) and click **Login or Sign up**.\n",
    "2. Click **Sign up**.\n",
    "3. Fill in the **Username**, **Name**, **Email** and **Password** fields. Passwords must be at least 8 characters, and contain at minimum a lower case letter, an upper case letter and a number. Record your username securely as it will be required to reset your password should you forget it.\n",
    "\n",
    "<img align=\"middle\" src=\"../_static/session_1/sandbox-register-form.png\" alt=\"The DE Africa Sandbox new user registration page.\" width=\"300\">\n",
    "\n",
    "4. Click **Sign up**.\n",
    "5. A verification code will have been sent to your nominated email address. Enter the verification code and click **Confirm Account**. This will automatically log you in.\n",
    "\n",
    "<img align=\"middle\" src=\"../_static/session_1/sandbox-confirm-account.PNG\" alt=\"The DE Africa Sandbox new user confirm account page.\" width=\"300\">\n",
    "\n",
    "6. You will be prompted to select a sever from Server Options. For regular users, only the default environment is available. Select **Default environment** and click **Start**.\n",
    "\n",
    "<img align=\"middle\" src=\"../_static/session_1/sandbox-default-env.PNG\" alt=\"The DE Africa Sandbox start server page.\" width=\"500\">\n",
    "\n",
    "The server will start up; this can take a few minutes. You will automatically be redirected to the Sandbox environment. \n",
    "\n",
    "The Sandbox runs completely in-browser and all necessary software is provided. No additional installation or configuration is required."
   ]
  },
  {
   "cell_type": "markdown",
   "metadata": {},
   "source": [
    "## Conclusion\n",
    "\n",
    "You now have a user account on the Digital Africa Sandbox. The next section will cover how to open the existing Jupyter notebook files that are available in the Sandbox."
   ]
  }
 ],
 "metadata": {
  "kernelspec": {
   "display_name": "Python 3",
   "language": "python",
   "name": "python3"
  },
  "language_info": {
   "codemirror_mode": {
    "name": "ipython",
    "version": 3
   },
   "file_extension": ".py",
   "mimetype": "text/x-python",
   "name": "python",
   "nbconvert_exporter": "python",
   "pygments_lexer": "ipython3",
   "version": "3.6.9"
  }
 },
 "nbformat": 4,
 "nbformat_minor": 4
}
