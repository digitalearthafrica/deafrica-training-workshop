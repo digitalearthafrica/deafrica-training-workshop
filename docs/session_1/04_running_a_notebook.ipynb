{
 "cells": [
  {
   "cell_type": "markdown",
   "metadata": {},
   "source": [
    "# Running a Notebook\n",
    "\n",
    "## Learning Jupyter\n",
    "\n",
    "### Overview\n",
    "\n",
    "Jupyter is an interactive coding environment. The name ‘Jupyter’ comes from Julia, Python and R, which are all programming languages that are used in scientific computing. Jupyter started as a purely Python-based environment, called iPython, but there has been rapid progress over the last few years, and now many large organisations like Netflix1 are using the system to analyse data.\n",
    "Since the ODC is a Python library, the workshop will cover working with Earth observation data in Python-based notebooks.\n",
    "\n",
    "### Explore a basic notebook\n",
    "\n",
    "The first exercise is to explore a very basic notebook. The goal is to understand the key features of notebooks.\n",
    "\n",
    "If you’ve used Jupyter before, you may want to skip this step.\n",
    "\n",
    "Open the ‘Tutorial’ folder, and then open the file named ‘01_Jupyter_notebooks.ipynb’.\n",
    "\n",
    "<img align=\"middle\" src=\"./dea1.png\" alt=\"The DE Africa Sandbox Jupyterlab tutorial folder.\" width=\"500\">"
   ]
  },
  {
   "cell_type": "markdown",
   "metadata": {},
   "source": []
  },
  {
   "cell_type": "code",
   "execution_count": null,
   "metadata": {},
   "outputs": [],
   "source": []
  }
 ],
 "metadata": {
  "kernelspec": {
   "display_name": "Python 3",
   "language": "python",
   "name": "python3"
  },
  "language_info": {
   "codemirror_mode": {
    "name": "ipython",
    "version": 3
   },
   "file_extension": ".py",
   "mimetype": "text/x-python",
   "name": "python",
   "nbconvert_exporter": "python",
   "pygments_lexer": "ipython3",
   "version": "3.6.9"
  }
 },
 "nbformat": 4,
 "nbformat_minor": 4
}
